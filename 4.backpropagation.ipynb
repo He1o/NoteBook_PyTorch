{
 "cells": [
  {
   "cell_type": "code",
   "execution_count": 16,
   "metadata": {},
   "outputs": [
    {
     "name": "stdout",
     "output_type": "stream",
     "text": [
      "tensor([1., 1., 1., 1., 1.])\n",
      "tensor([[ 0.2569, -1.9893, -1.0647],\n",
      "        [ 0.2588,  0.8038, -0.3456],\n",
      "        [ 1.3742, -2.2598,  0.0086],\n",
      "        [-0.3898, -0.1177, -0.8468],\n",
      "        [ 0.4352, -0.4965, -0.3183]], requires_grad=True)\n",
      "tensor([-0.2517, -0.6549,  1.1574], requires_grad=True)\n",
      "tensor([ 1.6837, -4.7144, -1.4095], grad_fn=<AddBackward0>)\n",
      "tensor(0.6938, grad_fn=<BinaryCrossEntropyWithLogitsBackward0>)\n"
     ]
    }
   ],
   "source": [
    "import torch\n",
    "\n",
    "x = torch.ones(5)  # input tensor\n",
    "print(x)\n",
    "y = torch.zeros(3)  # expected output\n",
    "w = torch.randn(5, 3, requires_grad=True)\n",
    "print(w)\n",
    "b = torch.randn(3, requires_grad=True)\n",
    "z = torch.matmul(x, w)+b\n",
    "print(b)\n",
    "print(z)\n",
    "# 多分类并存，ovo\n",
    "loss = torch.nn.functional.binary_cross_entropy_with_logits(z, y)  \n",
    "print(loss)"
   ]
  },
  {
   "cell_type": "code",
   "execution_count": 21,
   "metadata": {},
   "outputs": [
    {
     "name": "stdout",
     "output_type": "stream",
     "text": [
      "-0.8151563670442408\n",
      "[-0.18803945 -0.03688031 -0.88915118]\n",
      "-2.999034290271132 -2.99839918699187 -2.9998352901484484\n"
     ]
    }
   ],
   "source": [
    "import numpy as np\n",
    "def sigmoid(x):\n",
    "    return 1 / (1 + np.exp(-np.array(x)))\n",
    "print(np.mean(np.log(1 - sigmoid([-1.4628, -3.2625,  2.0821]))))\n",
    "\n",
    "print(-sigmoid([-1.4628, -3.2625,  2.0821]))"
   ]
  },
  {
   "cell_type": "code",
   "execution_count": 12,
   "metadata": {},
   "outputs": [
    {
     "name": "stdout",
     "output_type": "stream",
     "text": [
      "tensor([[0.0627, 0.0123, 0.2964],\n",
      "        [0.0627, 0.0123, 0.2964],\n",
      "        [0.0627, 0.0123, 0.2964],\n",
      "        [0.0627, 0.0123, 0.2964],\n",
      "        [0.0627, 0.0123, 0.2964]])\n",
      "tensor([0.0627, 0.0123, 0.2964])\n"
     ]
    }
   ],
   "source": [
    "loss.backward()\n",
    "print(w.grad)\n",
    "print(b.grad)"
   ]
  },
  {
   "cell_type": "code",
   "execution_count": 22,
   "metadata": {},
   "outputs": [
    {
     "name": "stdout",
     "output_type": "stream",
     "text": [
      "True\n",
      "False\n"
     ]
    }
   ],
   "source": [
    "z = torch.matmul(x, w)+b\n",
    "print(z.requires_grad)\n",
    "\n",
    "with torch.no_grad():\n",
    "    z = torch.matmul(x, w)+b\n",
    "print(z.requires_grad)\n",
    "\n",
    "z = torch.matmul(x, w)+b\n",
    "z_det = z.detach()\n",
    "print(z_det.requires_grad)\n",
    "# 您可能希望禁用梯度跟踪的原因如下：\n",
    "# 将神经网络中的某些参数标记为冻结参数。这是微调预训练网络的一个非常常见的场景\n",
    "# 当您只进行前向传递时加快计算速度，因为在不跟踪梯度的张量上进行计算会更有效。"
   ]
  }
 ],
 "metadata": {
  "kernelspec": {
   "display_name": "Python 3.9.5 64-bit",
   "metadata": {
    "interpreter": {
     "hash": "b8bdd4e700647ba2b08c59e5df8b7da1dcf50a218bcd4c1bcd9b3dc92e8788e5"
    }
   },
   "name": "python3"
  },
  "language_info": {
   "codemirror_mode": {
    "name": "ipython",
    "version": 3
   },
   "file_extension": ".py",
   "mimetype": "text/x-python",
   "name": "python",
   "nbconvert_exporter": "python",
   "pygments_lexer": "ipython3",
   "version": "3.9.5"
  },
  "orig_nbformat": 2
 },
 "nbformat": 4,
 "nbformat_minor": 2
}