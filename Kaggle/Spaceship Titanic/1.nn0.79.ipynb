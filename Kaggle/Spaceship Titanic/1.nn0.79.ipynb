{
 "cells": [
  {
   "cell_type": "code",
   "execution_count": 18,
   "metadata": {},
   "outputs": [],
   "source": [
    "import numpy as np\n",
    "import pandas as pd\n",
    "import sklearn\n",
    "import matplotlib.pyplot as plt\n",
    "import seaborn as sns\n",
    "import plotly.express as px\n",
    "\n",
    "pd.set_option('max_columns',1000)\n",
    "pd.set_option('max_row',300)"
   ]
  },
  {
   "cell_type": "code",
   "execution_count": 37,
   "metadata": {},
   "outputs": [
    {
     "data": {
      "text/html": "<div>\n<style scoped>\n    .dataframe tbody tr th:only-of-type {\n        vertical-align: middle;\n    }\n\n    .dataframe tbody tr th {\n        vertical-align: top;\n    }\n\n    .dataframe thead th {\n        text-align: right;\n    }\n</style>\n<table border=\"1\" class=\"dataframe\">\n  <thead>\n    <tr style=\"text-align: right;\">\n      <th></th>\n      <th>PassengerId</th>\n      <th>HomePlanet</th>\n      <th>CryoSleep</th>\n      <th>Cabin</th>\n      <th>Destination</th>\n      <th>Age</th>\n      <th>VIP</th>\n      <th>RoomService</th>\n      <th>FoodCourt</th>\n      <th>ShoppingMall</th>\n      <th>Spa</th>\n      <th>VRDeck</th>\n      <th>Name</th>\n      <th>Transported</th>\n    </tr>\n  </thead>\n  <tbody>\n    <tr>\n      <th>0</th>\n      <td>0001_01</td>\n      <td>Europa</td>\n      <td>False</td>\n      <td>B/0/P</td>\n      <td>TRAPPIST-1e</td>\n      <td>39.0</td>\n      <td>False</td>\n      <td>0.0</td>\n      <td>0.0</td>\n      <td>0.0</td>\n      <td>0.0</td>\n      <td>0.0</td>\n      <td>Maham Ofracculy</td>\n      <td>False</td>\n    </tr>\n    <tr>\n      <th>1</th>\n      <td>0002_01</td>\n      <td>Earth</td>\n      <td>False</td>\n      <td>F/0/S</td>\n      <td>TRAPPIST-1e</td>\n      <td>24.0</td>\n      <td>False</td>\n      <td>109.0</td>\n      <td>9.0</td>\n      <td>25.0</td>\n      <td>549.0</td>\n      <td>44.0</td>\n      <td>Juanna Vines</td>\n      <td>True</td>\n    </tr>\n    <tr>\n      <th>2</th>\n      <td>0003_01</td>\n      <td>Europa</td>\n      <td>False</td>\n      <td>A/0/S</td>\n      <td>TRAPPIST-1e</td>\n      <td>58.0</td>\n      <td>True</td>\n      <td>43.0</td>\n      <td>3576.0</td>\n      <td>0.0</td>\n      <td>6715.0</td>\n      <td>49.0</td>\n      <td>Altark Susent</td>\n      <td>False</td>\n    </tr>\n    <tr>\n      <th>3</th>\n      <td>0003_02</td>\n      <td>Europa</td>\n      <td>False</td>\n      <td>A/0/S</td>\n      <td>TRAPPIST-1e</td>\n      <td>33.0</td>\n      <td>False</td>\n      <td>0.0</td>\n      <td>1283.0</td>\n      <td>371.0</td>\n      <td>3329.0</td>\n      <td>193.0</td>\n      <td>Solam Susent</td>\n      <td>False</td>\n    </tr>\n    <tr>\n      <th>4</th>\n      <td>0004_01</td>\n      <td>Earth</td>\n      <td>False</td>\n      <td>F/1/S</td>\n      <td>TRAPPIST-1e</td>\n      <td>16.0</td>\n      <td>False</td>\n      <td>303.0</td>\n      <td>70.0</td>\n      <td>151.0</td>\n      <td>565.0</td>\n      <td>2.0</td>\n      <td>Willy Santantines</td>\n      <td>True</td>\n    </tr>\n  </tbody>\n</table>\n</div>",
      "text/plain": "  PassengerId HomePlanet CryoSleep  Cabin  Destination   Age    VIP  \\\n0     0001_01     Europa     False  B/0/P  TRAPPIST-1e  39.0  False   \n1     0002_01      Earth     False  F/0/S  TRAPPIST-1e  24.0  False   \n2     0003_01     Europa     False  A/0/S  TRAPPIST-1e  58.0   True   \n3     0003_02     Europa     False  A/0/S  TRAPPIST-1e  33.0  False   \n4     0004_01      Earth     False  F/1/S  TRAPPIST-1e  16.0  False   \n\n   RoomService  FoodCourt  ShoppingMall     Spa  VRDeck               Name  \\\n0          0.0        0.0           0.0     0.0     0.0    Maham Ofracculy   \n1        109.0        9.0          25.0   549.0    44.0       Juanna Vines   \n2         43.0     3576.0           0.0  6715.0    49.0      Altark Susent   \n3          0.0     1283.0         371.0  3329.0   193.0       Solam Susent   \n4        303.0       70.0         151.0   565.0     2.0  Willy Santantines   \n\n   Transported  \n0        False  \n1         True  \n2        False  \n3        False  \n4         True  "
     },
     "execution_count": 37,
     "metadata": {},
     "output_type": "execute_result"
    }
   ],
   "source": [
    "dataTrain = pd.read_csv('data/spaceship-titanic/train.csv')\n",
    "dataTest = pd.read_csv('data/spaceship-titanic/test.csv')\n",
    "dataTrain.head()"
   ]
  },
  {
   "cell_type": "code",
   "execution_count": 38,
   "metadata": {},
   "outputs": [
    {
     "data": {
      "text/html": "<div>\n<style scoped>\n    .dataframe tbody tr th:only-of-type {\n        vertical-align: middle;\n    }\n\n    .dataframe tbody tr th {\n        vertical-align: top;\n    }\n\n    .dataframe thead th {\n        text-align: right;\n    }\n</style>\n<table border=\"1\" class=\"dataframe\">\n  <thead>\n    <tr style=\"text-align: right;\">\n      <th></th>\n      <th>HomePlanet</th>\n      <th>CryoSleep</th>\n      <th>Destination</th>\n      <th>Age</th>\n      <th>VIP</th>\n      <th>RoomService</th>\n      <th>FoodCourt</th>\n      <th>ShoppingMall</th>\n      <th>Spa</th>\n      <th>VRDeck</th>\n      <th>Name</th>\n      <th>Transported</th>\n      <th>Deck</th>\n      <th>Num</th>\n      <th>Side</th>\n      <th>PGroup</th>\n      <th>PNr</th>\n    </tr>\n  </thead>\n  <tbody>\n    <tr>\n      <th>0</th>\n      <td>Europa</td>\n      <td>False</td>\n      <td>TRAPPIST-1e</td>\n      <td>39.0</td>\n      <td>False</td>\n      <td>0.0</td>\n      <td>0.0</td>\n      <td>0.0</td>\n      <td>0.0</td>\n      <td>0.0</td>\n      <td>Maham Ofracculy</td>\n      <td>False</td>\n      <td>B</td>\n      <td>0</td>\n      <td>P</td>\n      <td>0001</td>\n      <td>01</td>\n    </tr>\n    <tr>\n      <th>1</th>\n      <td>Earth</td>\n      <td>False</td>\n      <td>TRAPPIST-1e</td>\n      <td>24.0</td>\n      <td>False</td>\n      <td>109.0</td>\n      <td>9.0</td>\n      <td>25.0</td>\n      <td>549.0</td>\n      <td>44.0</td>\n      <td>Juanna Vines</td>\n      <td>True</td>\n      <td>F</td>\n      <td>0</td>\n      <td>S</td>\n      <td>0002</td>\n      <td>01</td>\n    </tr>\n    <tr>\n      <th>2</th>\n      <td>Europa</td>\n      <td>False</td>\n      <td>TRAPPIST-1e</td>\n      <td>58.0</td>\n      <td>True</td>\n      <td>43.0</td>\n      <td>3576.0</td>\n      <td>0.0</td>\n      <td>6715.0</td>\n      <td>49.0</td>\n      <td>Altark Susent</td>\n      <td>False</td>\n      <td>A</td>\n      <td>0</td>\n      <td>S</td>\n      <td>0003</td>\n      <td>01</td>\n    </tr>\n    <tr>\n      <th>3</th>\n      <td>Europa</td>\n      <td>False</td>\n      <td>TRAPPIST-1e</td>\n      <td>33.0</td>\n      <td>False</td>\n      <td>0.0</td>\n      <td>1283.0</td>\n      <td>371.0</td>\n      <td>3329.0</td>\n      <td>193.0</td>\n      <td>Solam Susent</td>\n      <td>False</td>\n      <td>A</td>\n      <td>0</td>\n      <td>S</td>\n      <td>0003</td>\n      <td>02</td>\n    </tr>\n    <tr>\n      <th>4</th>\n      <td>Earth</td>\n      <td>False</td>\n      <td>TRAPPIST-1e</td>\n      <td>16.0</td>\n      <td>False</td>\n      <td>303.0</td>\n      <td>70.0</td>\n      <td>151.0</td>\n      <td>565.0</td>\n      <td>2.0</td>\n      <td>Willy Santantines</td>\n      <td>True</td>\n      <td>F</td>\n      <td>1</td>\n      <td>S</td>\n      <td>0004</td>\n      <td>01</td>\n    </tr>\n  </tbody>\n</table>\n</div>",
      "text/plain": "  HomePlanet CryoSleep  Destination   Age    VIP  RoomService  FoodCourt  \\\n0     Europa     False  TRAPPIST-1e  39.0  False          0.0        0.0   \n1      Earth     False  TRAPPIST-1e  24.0  False        109.0        9.0   \n2     Europa     False  TRAPPIST-1e  58.0   True         43.0     3576.0   \n3     Europa     False  TRAPPIST-1e  33.0  False          0.0     1283.0   \n4      Earth     False  TRAPPIST-1e  16.0  False        303.0       70.0   \n\n   ShoppingMall     Spa  VRDeck               Name  Transported Deck Num Side  \\\n0           0.0     0.0     0.0    Maham Ofracculy        False    B   0    P   \n1          25.0   549.0    44.0       Juanna Vines         True    F   0    S   \n2           0.0  6715.0    49.0      Altark Susent        False    A   0    S   \n3         371.0  3329.0   193.0       Solam Susent        False    A   0    S   \n4         151.0   565.0     2.0  Willy Santantines         True    F   1    S   \n\n  PGroup PNr  \n0   0001  01  \n1   0002  01  \n2   0003  01  \n3   0003  02  \n4   0004  01  "
     },
     "execution_count": 38,
     "metadata": {},
     "output_type": "execute_result"
    }
   ],
   "source": [
    "df = dataTrain\n",
    "df[['Deck', 'Num', 'Side']] = df['Cabin'].str.split('/', expand=True)\n",
    "df[['PGroup','PNr']] = df['PassengerId'].str.split('_', expand=True)\n",
    "df.drop(['Cabin', 'PassengerId'], axis=1, inplace=True) # same as df.drop(columns=['Cabin', 'PassengerId'], inplace=True)\n",
    "df.head()\n",
    "\n"
   ]
  },
  {
   "cell_type": "code",
   "execution_count": 39,
   "metadata": {},
   "outputs": [
    {
     "data": {
      "text/plain": "(array(['TRAPPIST-1e', 'PSO J318.5-22', '55 Cancri e', nan], dtype=object),\n array(['Europa', 'Earth', 'Mars', nan], dtype=object))"
     },
     "execution_count": 39,
     "metadata": {},
     "output_type": "execute_result"
    }
   ],
   "source": [
    "df['Destination'].unique(), df['HomePlanet'].unique()"
   ]
  },
  {
   "cell_type": "code",
   "execution_count": 40,
   "metadata": {},
   "outputs": [
    {
     "data": {
      "text/html": "<div>\n<style scoped>\n    .dataframe tbody tr th:only-of-type {\n        vertical-align: middle;\n    }\n\n    .dataframe tbody tr th {\n        vertical-align: top;\n    }\n\n    .dataframe thead th {\n        text-align: right;\n    }\n</style>\n<table border=\"1\" class=\"dataframe\">\n  <thead>\n    <tr style=\"text-align: right;\">\n      <th></th>\n      <th>CryoSleep</th>\n      <th>Age</th>\n      <th>VIP</th>\n      <th>RoomService</th>\n      <th>FoodCourt</th>\n      <th>ShoppingMall</th>\n      <th>Spa</th>\n      <th>VRDeck</th>\n      <th>Name</th>\n      <th>Transported</th>\n      <th>Deck</th>\n      <th>Num</th>\n      <th>Side</th>\n      <th>PGroup</th>\n      <th>PNr</th>\n      <th>HomePlanet_Earth</th>\n      <th>HomePlanet_Europa</th>\n      <th>HomePlanet_Mars</th>\n      <th>Destination_55 Cancri e</th>\n      <th>Destination_PSO J318.5-22</th>\n      <th>Destination_TRAPPIST-1e</th>\n    </tr>\n  </thead>\n  <tbody>\n    <tr>\n      <th>0</th>\n      <td>False</td>\n      <td>39.0</td>\n      <td>False</td>\n      <td>0.0</td>\n      <td>0.0</td>\n      <td>0.0</td>\n      <td>0.0</td>\n      <td>0.0</td>\n      <td>Maham Ofracculy</td>\n      <td>False</td>\n      <td>B</td>\n      <td>0</td>\n      <td>P</td>\n      <td>0001</td>\n      <td>01</td>\n      <td>0</td>\n      <td>1</td>\n      <td>0</td>\n      <td>0</td>\n      <td>0</td>\n      <td>1</td>\n    </tr>\n    <tr>\n      <th>1</th>\n      <td>False</td>\n      <td>24.0</td>\n      <td>False</td>\n      <td>109.0</td>\n      <td>9.0</td>\n      <td>25.0</td>\n      <td>549.0</td>\n      <td>44.0</td>\n      <td>Juanna Vines</td>\n      <td>True</td>\n      <td>F</td>\n      <td>0</td>\n      <td>S</td>\n      <td>0002</td>\n      <td>01</td>\n      <td>1</td>\n      <td>0</td>\n      <td>0</td>\n      <td>0</td>\n      <td>0</td>\n      <td>1</td>\n    </tr>\n    <tr>\n      <th>2</th>\n      <td>False</td>\n      <td>58.0</td>\n      <td>True</td>\n      <td>43.0</td>\n      <td>3576.0</td>\n      <td>0.0</td>\n      <td>6715.0</td>\n      <td>49.0</td>\n      <td>Altark Susent</td>\n      <td>False</td>\n      <td>A</td>\n      <td>0</td>\n      <td>S</td>\n      <td>0003</td>\n      <td>01</td>\n      <td>0</td>\n      <td>1</td>\n      <td>0</td>\n      <td>0</td>\n      <td>0</td>\n      <td>1</td>\n    </tr>\n    <tr>\n      <th>3</th>\n      <td>False</td>\n      <td>33.0</td>\n      <td>False</td>\n      <td>0.0</td>\n      <td>1283.0</td>\n      <td>371.0</td>\n      <td>3329.0</td>\n      <td>193.0</td>\n      <td>Solam Susent</td>\n      <td>False</td>\n      <td>A</td>\n      <td>0</td>\n      <td>S</td>\n      <td>0003</td>\n      <td>02</td>\n      <td>0</td>\n      <td>1</td>\n      <td>0</td>\n      <td>0</td>\n      <td>0</td>\n      <td>1</td>\n    </tr>\n    <tr>\n      <th>4</th>\n      <td>False</td>\n      <td>16.0</td>\n      <td>False</td>\n      <td>303.0</td>\n      <td>70.0</td>\n      <td>151.0</td>\n      <td>565.0</td>\n      <td>2.0</td>\n      <td>Willy Santantines</td>\n      <td>True</td>\n      <td>F</td>\n      <td>1</td>\n      <td>S</td>\n      <td>0004</td>\n      <td>01</td>\n      <td>1</td>\n      <td>0</td>\n      <td>0</td>\n      <td>0</td>\n      <td>0</td>\n      <td>1</td>\n    </tr>\n  </tbody>\n</table>\n</div>",
      "text/plain": "  CryoSleep   Age    VIP  RoomService  FoodCourt  ShoppingMall     Spa  \\\n0     False  39.0  False          0.0        0.0           0.0     0.0   \n1     False  24.0  False        109.0        9.0          25.0   549.0   \n2     False  58.0   True         43.0     3576.0           0.0  6715.0   \n3     False  33.0  False          0.0     1283.0         371.0  3329.0   \n4     False  16.0  False        303.0       70.0         151.0   565.0   \n\n   VRDeck               Name  Transported Deck Num Side PGroup PNr  \\\n0     0.0    Maham Ofracculy        False    B   0    P   0001  01   \n1    44.0       Juanna Vines         True    F   0    S   0002  01   \n2    49.0      Altark Susent        False    A   0    S   0003  01   \n3   193.0       Solam Susent        False    A   0    S   0003  02   \n4     2.0  Willy Santantines         True    F   1    S   0004  01   \n\n   HomePlanet_Earth  HomePlanet_Europa  HomePlanet_Mars  \\\n0                 0                  1                0   \n1                 1                  0                0   \n2                 0                  1                0   \n3                 0                  1                0   \n4                 1                  0                0   \n\n   Destination_55 Cancri e  Destination_PSO J318.5-22  Destination_TRAPPIST-1e  \n0                        0                          0                        1  \n1                        0                          0                        1  \n2                        0                          0                        1  \n3                        0                          0                        1  \n4                        0                          0                        1  "
     },
     "execution_count": 40,
     "metadata": {},
     "output_type": "execute_result"
    }
   ],
   "source": [
    "df = pd.get_dummies(df, columns=['HomePlanet', 'Destination'])\n",
    "df.head()"
   ]
  },
  {
   "cell_type": "code",
   "execution_count": 41,
   "metadata": {},
   "outputs": [
    {
     "data": {
      "text/html": "<div>\n<style scoped>\n    .dataframe tbody tr th:only-of-type {\n        vertical-align: middle;\n    }\n\n    .dataframe tbody tr th {\n        vertical-align: top;\n    }\n\n    .dataframe thead th {\n        text-align: right;\n    }\n</style>\n<table border=\"1\" class=\"dataframe\">\n  <thead>\n    <tr style=\"text-align: right;\">\n      <th></th>\n      <th>Age</th>\n      <th>RoomService</th>\n      <th>FoodCourt</th>\n      <th>ShoppingMall</th>\n      <th>Spa</th>\n      <th>VRDeck</th>\n      <th>Transported</th>\n      <th>Num</th>\n      <th>PGroup</th>\n      <th>PNr</th>\n      <th>HomePlanet_Earth</th>\n      <th>HomePlanet_Europa</th>\n      <th>HomePlanet_Mars</th>\n      <th>Destination_55 Cancri e</th>\n      <th>Destination_PSO J318.5-22</th>\n      <th>Destination_TRAPPIST-1e</th>\n      <th>CryoSleep_False</th>\n      <th>CryoSleep_True</th>\n      <th>VIP_False</th>\n      <th>VIP_True</th>\n      <th>Side_P</th>\n      <th>Side_S</th>\n      <th>Deck_A</th>\n      <th>Deck_B</th>\n      <th>Deck_C</th>\n      <th>Deck_D</th>\n      <th>Deck_E</th>\n      <th>Deck_F</th>\n      <th>Deck_G</th>\n      <th>Deck_T</th>\n    </tr>\n  </thead>\n  <tbody>\n    <tr>\n      <th>0</th>\n      <td>39.0</td>\n      <td>0.0</td>\n      <td>0.0</td>\n      <td>0.0</td>\n      <td>0.0</td>\n      <td>0.0</td>\n      <td>False</td>\n      <td>0</td>\n      <td>0001</td>\n      <td>01</td>\n      <td>0</td>\n      <td>1</td>\n      <td>0</td>\n      <td>0</td>\n      <td>0</td>\n      <td>1</td>\n      <td>1</td>\n      <td>0</td>\n      <td>1</td>\n      <td>0</td>\n      <td>1</td>\n      <td>0</td>\n      <td>0</td>\n      <td>1</td>\n      <td>0</td>\n      <td>0</td>\n      <td>0</td>\n      <td>0</td>\n      <td>0</td>\n      <td>0</td>\n    </tr>\n    <tr>\n      <th>1</th>\n      <td>24.0</td>\n      <td>109.0</td>\n      <td>9.0</td>\n      <td>25.0</td>\n      <td>549.0</td>\n      <td>44.0</td>\n      <td>True</td>\n      <td>0</td>\n      <td>0002</td>\n      <td>01</td>\n      <td>1</td>\n      <td>0</td>\n      <td>0</td>\n      <td>0</td>\n      <td>0</td>\n      <td>1</td>\n      <td>1</td>\n      <td>0</td>\n      <td>1</td>\n      <td>0</td>\n      <td>0</td>\n      <td>1</td>\n      <td>0</td>\n      <td>0</td>\n      <td>0</td>\n      <td>0</td>\n      <td>0</td>\n      <td>1</td>\n      <td>0</td>\n      <td>0</td>\n    </tr>\n    <tr>\n      <th>2</th>\n      <td>58.0</td>\n      <td>43.0</td>\n      <td>3576.0</td>\n      <td>0.0</td>\n      <td>6715.0</td>\n      <td>49.0</td>\n      <td>False</td>\n      <td>0</td>\n      <td>0003</td>\n      <td>01</td>\n      <td>0</td>\n      <td>1</td>\n      <td>0</td>\n      <td>0</td>\n      <td>0</td>\n      <td>1</td>\n      <td>1</td>\n      <td>0</td>\n      <td>0</td>\n      <td>1</td>\n      <td>0</td>\n      <td>1</td>\n      <td>1</td>\n      <td>0</td>\n      <td>0</td>\n      <td>0</td>\n      <td>0</td>\n      <td>0</td>\n      <td>0</td>\n      <td>0</td>\n    </tr>\n    <tr>\n      <th>3</th>\n      <td>33.0</td>\n      <td>0.0</td>\n      <td>1283.0</td>\n      <td>371.0</td>\n      <td>3329.0</td>\n      <td>193.0</td>\n      <td>False</td>\n      <td>0</td>\n      <td>0003</td>\n      <td>02</td>\n      <td>0</td>\n      <td>1</td>\n      <td>0</td>\n      <td>0</td>\n      <td>0</td>\n      <td>1</td>\n      <td>1</td>\n      <td>0</td>\n      <td>1</td>\n      <td>0</td>\n      <td>0</td>\n      <td>1</td>\n      <td>1</td>\n      <td>0</td>\n      <td>0</td>\n      <td>0</td>\n      <td>0</td>\n      <td>0</td>\n      <td>0</td>\n      <td>0</td>\n    </tr>\n    <tr>\n      <th>4</th>\n      <td>16.0</td>\n      <td>303.0</td>\n      <td>70.0</td>\n      <td>151.0</td>\n      <td>565.0</td>\n      <td>2.0</td>\n      <td>True</td>\n      <td>1</td>\n      <td>0004</td>\n      <td>01</td>\n      <td>1</td>\n      <td>0</td>\n      <td>0</td>\n      <td>0</td>\n      <td>0</td>\n      <td>1</td>\n      <td>1</td>\n      <td>0</td>\n      <td>1</td>\n      <td>0</td>\n      <td>0</td>\n      <td>1</td>\n      <td>0</td>\n      <td>0</td>\n      <td>0</td>\n      <td>0</td>\n      <td>0</td>\n      <td>1</td>\n      <td>0</td>\n      <td>0</td>\n    </tr>\n  </tbody>\n</table>\n</div>",
      "text/plain": "    Age  RoomService  FoodCourt  ShoppingMall     Spa  VRDeck  Transported  \\\n0  39.0          0.0        0.0           0.0     0.0     0.0        False   \n1  24.0        109.0        9.0          25.0   549.0    44.0         True   \n2  58.0         43.0     3576.0           0.0  6715.0    49.0        False   \n3  33.0          0.0     1283.0         371.0  3329.0   193.0        False   \n4  16.0        303.0       70.0         151.0   565.0     2.0         True   \n\n  Num PGroup PNr  HomePlanet_Earth  HomePlanet_Europa  HomePlanet_Mars  \\\n0   0   0001  01                 0                  1                0   \n1   0   0002  01                 1                  0                0   \n2   0   0003  01                 0                  1                0   \n3   0   0003  02                 0                  1                0   \n4   1   0004  01                 1                  0                0   \n\n   Destination_55 Cancri e  Destination_PSO J318.5-22  \\\n0                        0                          0   \n1                        0                          0   \n2                        0                          0   \n3                        0                          0   \n4                        0                          0   \n\n   Destination_TRAPPIST-1e  CryoSleep_False  CryoSleep_True  VIP_False  \\\n0                        1                1               0          1   \n1                        1                1               0          1   \n2                        1                1               0          0   \n3                        1                1               0          1   \n4                        1                1               0          1   \n\n   VIP_True  Side_P  Side_S  Deck_A  Deck_B  Deck_C  Deck_D  Deck_E  Deck_F  \\\n0         0       1       0       0       1       0       0       0       0   \n1         0       0       1       0       0       0       0       0       1   \n2         1       0       1       1       0       0       0       0       0   \n3         0       0       1       1       0       0       0       0       0   \n4         0       0       1       0       0       0       0       0       1   \n\n   Deck_G  Deck_T  \n0       0       0  \n1       0       0  \n2       0       0  \n3       0       0  \n4       0       0  "
     },
     "execution_count": 41,
     "metadata": {},
     "output_type": "execute_result"
    }
   ],
   "source": [
    "df = pd.get_dummies(df, columns=['CryoSleep', 'VIP', 'Side', 'Deck'])\n",
    "df.drop(['Name'], axis=1, inplace=True)\n",
    "df.head()"
   ]
  },
  {
   "cell_type": "code",
   "execution_count": 42,
   "metadata": {},
   "outputs": [
    {
     "data": {
      "text/html": "<div>\n<style scoped>\n    .dataframe tbody tr th:only-of-type {\n        vertical-align: middle;\n    }\n\n    .dataframe tbody tr th {\n        vertical-align: top;\n    }\n\n    .dataframe thead th {\n        text-align: right;\n    }\n</style>\n<table border=\"1\" class=\"dataframe\">\n  <thead>\n    <tr style=\"text-align: right;\">\n      <th></th>\n      <th>Age</th>\n      <th>RoomService</th>\n      <th>FoodCourt</th>\n      <th>ShoppingMall</th>\n      <th>Spa</th>\n      <th>VRDeck</th>\n      <th>Transported</th>\n      <th>Num</th>\n      <th>PGroup</th>\n      <th>PNr</th>\n      <th>HomePlanet_Earth</th>\n      <th>HomePlanet_Europa</th>\n      <th>HomePlanet_Mars</th>\n      <th>Destination_55 Cancri e</th>\n      <th>Destination_PSO J318.5-22</th>\n      <th>Destination_TRAPPIST-1e</th>\n      <th>CryoSleep_False</th>\n      <th>CryoSleep_True</th>\n      <th>VIP_False</th>\n      <th>VIP_True</th>\n      <th>Side_P</th>\n      <th>Side_S</th>\n      <th>Deck_A</th>\n      <th>Deck_B</th>\n      <th>Deck_C</th>\n      <th>Deck_D</th>\n      <th>Deck_E</th>\n      <th>Deck_F</th>\n      <th>Deck_G</th>\n      <th>Deck_T</th>\n    </tr>\n  </thead>\n  <tbody>\n    <tr>\n      <th>0</th>\n      <td>39.0</td>\n      <td>0.0</td>\n      <td>0.0</td>\n      <td>0.0</td>\n      <td>0.0</td>\n      <td>0.0</td>\n      <td>False</td>\n      <td>0.0</td>\n      <td>1.0</td>\n      <td>1</td>\n      <td>0</td>\n      <td>1</td>\n      <td>0</td>\n      <td>0</td>\n      <td>0</td>\n      <td>1</td>\n      <td>1</td>\n      <td>0</td>\n      <td>1</td>\n      <td>0</td>\n      <td>1</td>\n      <td>0</td>\n      <td>0</td>\n      <td>1</td>\n      <td>0</td>\n      <td>0</td>\n      <td>0</td>\n      <td>0</td>\n      <td>0</td>\n      <td>0</td>\n    </tr>\n    <tr>\n      <th>1</th>\n      <td>24.0</td>\n      <td>109.0</td>\n      <td>9.0</td>\n      <td>25.0</td>\n      <td>549.0</td>\n      <td>44.0</td>\n      <td>True</td>\n      <td>0.0</td>\n      <td>2.0</td>\n      <td>1</td>\n      <td>1</td>\n      <td>0</td>\n      <td>0</td>\n      <td>0</td>\n      <td>0</td>\n      <td>1</td>\n      <td>1</td>\n      <td>0</td>\n      <td>1</td>\n      <td>0</td>\n      <td>0</td>\n      <td>1</td>\n      <td>0</td>\n      <td>0</td>\n      <td>0</td>\n      <td>0</td>\n      <td>0</td>\n      <td>1</td>\n      <td>0</td>\n      <td>0</td>\n    </tr>\n    <tr>\n      <th>2</th>\n      <td>58.0</td>\n      <td>43.0</td>\n      <td>3576.0</td>\n      <td>0.0</td>\n      <td>6715.0</td>\n      <td>49.0</td>\n      <td>False</td>\n      <td>0.0</td>\n      <td>3.0</td>\n      <td>1</td>\n      <td>0</td>\n      <td>1</td>\n      <td>0</td>\n      <td>0</td>\n      <td>0</td>\n      <td>1</td>\n      <td>1</td>\n      <td>0</td>\n      <td>0</td>\n      <td>1</td>\n      <td>0</td>\n      <td>1</td>\n      <td>1</td>\n      <td>0</td>\n      <td>0</td>\n      <td>0</td>\n      <td>0</td>\n      <td>0</td>\n      <td>0</td>\n      <td>0</td>\n    </tr>\n    <tr>\n      <th>3</th>\n      <td>33.0</td>\n      <td>0.0</td>\n      <td>1283.0</td>\n      <td>371.0</td>\n      <td>3329.0</td>\n      <td>193.0</td>\n      <td>False</td>\n      <td>0.0</td>\n      <td>3.0</td>\n      <td>2</td>\n      <td>0</td>\n      <td>1</td>\n      <td>0</td>\n      <td>0</td>\n      <td>0</td>\n      <td>1</td>\n      <td>1</td>\n      <td>0</td>\n      <td>1</td>\n      <td>0</td>\n      <td>0</td>\n      <td>1</td>\n      <td>1</td>\n      <td>0</td>\n      <td>0</td>\n      <td>0</td>\n      <td>0</td>\n      <td>0</td>\n      <td>0</td>\n      <td>0</td>\n    </tr>\n    <tr>\n      <th>4</th>\n      <td>16.0</td>\n      <td>303.0</td>\n      <td>70.0</td>\n      <td>151.0</td>\n      <td>565.0</td>\n      <td>2.0</td>\n      <td>True</td>\n      <td>1.0</td>\n      <td>4.0</td>\n      <td>1</td>\n      <td>1</td>\n      <td>0</td>\n      <td>0</td>\n      <td>0</td>\n      <td>0</td>\n      <td>1</td>\n      <td>1</td>\n      <td>0</td>\n      <td>1</td>\n      <td>0</td>\n      <td>0</td>\n      <td>1</td>\n      <td>0</td>\n      <td>0</td>\n      <td>0</td>\n      <td>0</td>\n      <td>0</td>\n      <td>1</td>\n      <td>0</td>\n      <td>0</td>\n    </tr>\n  </tbody>\n</table>\n</div>",
      "text/plain": "    Age  RoomService  FoodCourt  ShoppingMall     Spa  VRDeck  Transported  \\\n0  39.0          0.0        0.0           0.0     0.0     0.0        False   \n1  24.0        109.0        9.0          25.0   549.0    44.0         True   \n2  58.0         43.0     3576.0           0.0  6715.0    49.0        False   \n3  33.0          0.0     1283.0         371.0  3329.0   193.0        False   \n4  16.0        303.0       70.0         151.0   565.0     2.0         True   \n\n   Num  PGroup  PNr  HomePlanet_Earth  HomePlanet_Europa  HomePlanet_Mars  \\\n0  0.0     1.0    1                 0                  1                0   \n1  0.0     2.0    1                 1                  0                0   \n2  0.0     3.0    1                 0                  1                0   \n3  0.0     3.0    2                 0                  1                0   \n4  1.0     4.0    1                 1                  0                0   \n\n   Destination_55 Cancri e  Destination_PSO J318.5-22  \\\n0                        0                          0   \n1                        0                          0   \n2                        0                          0   \n3                        0                          0   \n4                        0                          0   \n\n   Destination_TRAPPIST-1e  CryoSleep_False  CryoSleep_True  VIP_False  \\\n0                        1                1               0          1   \n1                        1                1               0          1   \n2                        1                1               0          0   \n3                        1                1               0          1   \n4                        1                1               0          1   \n\n   VIP_True  Side_P  Side_S  Deck_A  Deck_B  Deck_C  Deck_D  Deck_E  Deck_F  \\\n0         0       1       0       0       1       0       0       0       0   \n1         0       0       1       0       0       0       0       0       1   \n2         1       0       1       1       0       0       0       0       0   \n3         0       0       1       1       0       0       0       0       0   \n4         0       0       1       0       0       0       0       0       1   \n\n   Deck_G  Deck_T  \n0       0       0  \n1       0       0  \n2       0       0  \n3       0       0  \n4       0       0  "
     },
     "execution_count": 42,
     "metadata": {},
     "output_type": "execute_result"
    }
   ],
   "source": [
    "df['Num'] = df['Num'].astype('float')\n",
    "df['PNr'] = df['PNr'].astype('int')\n",
    "df['PGroup'] = df['PGroup'].astype('float')\n",
    "df.head()"
   ]
  },
  {
   "cell_type": "code",
   "execution_count": 43,
   "metadata": {},
   "outputs": [
    {
     "data": {
      "text/plain": "Age                          179\nRoomService                  181\nFoodCourt                    183\nShoppingMall                 208\nSpa                          183\nVRDeck                       188\nTransported                    0\nNum                          199\nPGroup                         0\nPNr                            0\nHomePlanet_Earth               0\nHomePlanet_Europa              0\nHomePlanet_Mars                0\nDestination_55 Cancri e        0\nDestination_PSO J318.5-22      0\nDestination_TRAPPIST-1e        0\nCryoSleep_False                0\nCryoSleep_True                 0\nVIP_False                      0\nVIP_True                       0\nSide_P                         0\nSide_S                         0\nDeck_A                         0\nDeck_B                         0\nDeck_C                         0\nDeck_D                         0\nDeck_E                         0\nDeck_F                         0\nDeck_G                         0\nDeck_T                         0\ndtype: int64"
     },
     "execution_count": 43,
     "metadata": {},
     "output_type": "execute_result"
    }
   ],
   "source": [
    "df.isna().sum()"
   ]
  },
  {
   "cell_type": "code",
   "execution_count": 44,
   "metadata": {},
   "outputs": [
    {
     "data": {
      "text/plain": "Age                            28.827930\nRoomService                   224.687617\nFoodCourt                     458.077203\nShoppingMall                  173.729169\nSpa                           311.138778\nVRDeck                        304.854791\nTransported                     0.503624\nNum                           600.367671\nPGroup                       4633.389624\nPNr                             1.517773\nHomePlanet_Earth                0.529391\nHomePlanet_Europa               0.245140\nHomePlanet_Mars                 0.202347\nDestination_55 Cancri e         0.207063\nDestination_PSO J318.5-22       0.091568\nDestination_TRAPPIST-1e         0.680433\nCryoSleep_False                 0.625676\nCryoSleep_True                  0.349362\nVIP_False                       0.953756\nVIP_True                        0.022892\nSide_P                          0.483838\nSide_S                          0.493270\nDeck_A                          0.029449\nDeck_B                          0.089612\nDeck_C                          0.085931\nDeck_D                          0.054987\nDeck_E                          0.100771\nDeck_F                          0.321408\nDeck_G                          0.294375\nDeck_T                          0.000575\ndtype: float64"
     },
     "execution_count": 44,
     "metadata": {},
     "output_type": "execute_result"
    }
   ],
   "source": [
    "df.mean(axis=0)  # 0 是指的行，对所有行进行平均，得到的是每一列的均值"
   ]
  },
  {
   "cell_type": "code",
   "execution_count": 29,
   "metadata": {},
   "outputs": [
    {
     "data": {
      "text/plain": "Age                            27.0\nRoomService                     0.0\nFoodCourt                       0.0\nShoppingMall                    0.0\nSpa                             0.0\nVRDeck                          0.0\nTransported                     1.0\nNum                           427.0\nPGroup                       4630.0\nPNr                             1.0\nHomePlanet_Earth                1.0\nHomePlanet_Europa               0.0\nHomePlanet_Mars                 0.0\nDestination_55 Cancri e         0.0\nDestination_PSO J318.5-22       0.0\nDestination_TRAPPIST-1e         1.0\nCryoSleep_False                 1.0\nCryoSleep_True                  0.0\nVIP_False                       1.0\nVIP_True                        0.0\nSide_P                          0.0\nSide_S                          0.0\nDeck_A                          0.0\nDeck_B                          0.0\nDeck_C                          0.0\nDeck_D                          0.0\nDeck_E                          0.0\nDeck_F                          0.0\nDeck_G                          0.0\nDeck_T                          0.0\ndtype: float64"
     },
     "execution_count": 29,
     "metadata": {},
     "output_type": "execute_result"
    }
   ],
   "source": [
    "df.median(axis=0)  "
   ]
  },
  {
   "cell_type": "code",
   "execution_count": 45,
   "metadata": {},
   "outputs": [
    {
     "data": {
      "text/plain": "Age                          0\nRoomService                  0\nFoodCourt                    0\nShoppingMall                 0\nSpa                          0\nVRDeck                       0\nTransported                  0\nNum                          0\nPGroup                       0\nPNr                          0\nHomePlanet_Earth             0\nHomePlanet_Europa            0\nHomePlanet_Mars              0\nDestination_55 Cancri e      0\nDestination_PSO J318.5-22    0\nDestination_TRAPPIST-1e      0\nCryoSleep_False              0\nCryoSleep_True               0\nVIP_False                    0\nVIP_True                     0\nSide_P                       0\nSide_S                       0\nDeck_A                       0\nDeck_B                       0\nDeck_C                       0\nDeck_D                       0\nDeck_E                       0\nDeck_F                       0\nDeck_G                       0\nDeck_T                       0\ndtype: int64"
     },
     "execution_count": 45,
     "metadata": {},
     "output_type": "execute_result"
    }
   ],
   "source": [
    "df.fillna(df.median(axis=0), inplace=True)\n",
    "df.isna().sum()"
   ]
  },
  {
   "cell_type": "code",
   "execution_count": 47,
   "metadata": {},
   "outputs": [],
   "source": [
    "df['Transported'] = df['Transported'].astype('int')"
   ]
  },
  {
   "cell_type": "code",
   "execution_count": 48,
   "metadata": {},
   "outputs": [],
   "source": [
    "lables = df.pop('Transported')"
   ]
  },
  {
   "cell_type": "code",
   "execution_count": 53,
   "metadata": {},
   "outputs": [
    {
     "data": {
      "text/plain": "Age                             79.0\nRoomService                  14327.0\nFoodCourt                    29813.0\nShoppingMall                 23492.0\nSpa                          22408.0\nVRDeck                       24133.0\nNum                           1894.0\nPGroup                        9279.0\nPNr                              7.0\nHomePlanet_Earth                 1.0\nHomePlanet_Europa                1.0\nHomePlanet_Mars                  1.0\nDestination_55 Cancri e          1.0\nDestination_PSO J318.5-22        1.0\nDestination_TRAPPIST-1e          1.0\nCryoSleep_False                  1.0\nCryoSleep_True                   1.0\nVIP_False                        1.0\nVIP_True                         1.0\nSide_P                           1.0\nSide_S                           1.0\nDeck_A                           1.0\nDeck_B                           1.0\nDeck_C                           1.0\nDeck_D                           1.0\nDeck_E                           1.0\nDeck_F                           1.0\nDeck_G                           1.0\nDeck_T                           1.0\ndtype: float64"
     },
     "execution_count": 53,
     "metadata": {},
     "output_type": "execute_result"
    }
   ],
   "source": [
    "df - df.min()\n",
    "df.max() - df.min()"
   ]
  },
  {
   "cell_type": "code",
   "execution_count": 54,
   "metadata": {},
   "outputs": [
    {
     "data": {
      "text/html": "<div>\n<style scoped>\n    .dataframe tbody tr th:only-of-type {\n        vertical-align: middle;\n    }\n\n    .dataframe tbody tr th {\n        vertical-align: top;\n    }\n\n    .dataframe thead th {\n        text-align: right;\n    }\n</style>\n<table border=\"1\" class=\"dataframe\">\n  <thead>\n    <tr style=\"text-align: right;\">\n      <th></th>\n      <th>Age</th>\n      <th>RoomService</th>\n      <th>FoodCourt</th>\n      <th>ShoppingMall</th>\n      <th>Spa</th>\n      <th>VRDeck</th>\n      <th>Num</th>\n      <th>PGroup</th>\n      <th>PNr</th>\n      <th>HomePlanet_Earth</th>\n      <th>HomePlanet_Europa</th>\n      <th>HomePlanet_Mars</th>\n      <th>Destination_55 Cancri e</th>\n      <th>Destination_PSO J318.5-22</th>\n      <th>Destination_TRAPPIST-1e</th>\n      <th>CryoSleep_False</th>\n      <th>CryoSleep_True</th>\n      <th>VIP_False</th>\n      <th>VIP_True</th>\n      <th>Side_P</th>\n      <th>Side_S</th>\n      <th>Deck_A</th>\n      <th>Deck_B</th>\n      <th>Deck_C</th>\n      <th>Deck_D</th>\n      <th>Deck_E</th>\n      <th>Deck_F</th>\n      <th>Deck_G</th>\n      <th>Deck_T</th>\n    </tr>\n  </thead>\n  <tbody>\n    <tr>\n      <th>0</th>\n      <td>0.493671</td>\n      <td>0.000000</td>\n      <td>0.000000</td>\n      <td>0.000000</td>\n      <td>0.000000</td>\n      <td>0.000000</td>\n      <td>0.000000</td>\n      <td>0.000000</td>\n      <td>0.000000</td>\n      <td>0.0</td>\n      <td>1.0</td>\n      <td>0.0</td>\n      <td>0.0</td>\n      <td>0.0</td>\n      <td>1.0</td>\n      <td>1.0</td>\n      <td>0.0</td>\n      <td>1.0</td>\n      <td>0.0</td>\n      <td>1.0</td>\n      <td>0.0</td>\n      <td>0.0</td>\n      <td>1.0</td>\n      <td>0.0</td>\n      <td>0.0</td>\n      <td>0.0</td>\n      <td>0.0</td>\n      <td>0.0</td>\n      <td>0.0</td>\n    </tr>\n    <tr>\n      <th>1</th>\n      <td>0.303797</td>\n      <td>0.007608</td>\n      <td>0.000302</td>\n      <td>0.001064</td>\n      <td>0.024500</td>\n      <td>0.001823</td>\n      <td>0.000000</td>\n      <td>0.000108</td>\n      <td>0.000000</td>\n      <td>1.0</td>\n      <td>0.0</td>\n      <td>0.0</td>\n      <td>0.0</td>\n      <td>0.0</td>\n      <td>1.0</td>\n      <td>1.0</td>\n      <td>0.0</td>\n      <td>1.0</td>\n      <td>0.0</td>\n      <td>0.0</td>\n      <td>1.0</td>\n      <td>0.0</td>\n      <td>0.0</td>\n      <td>0.0</td>\n      <td>0.0</td>\n      <td>0.0</td>\n      <td>1.0</td>\n      <td>0.0</td>\n      <td>0.0</td>\n    </tr>\n    <tr>\n      <th>2</th>\n      <td>0.734177</td>\n      <td>0.003001</td>\n      <td>0.119948</td>\n      <td>0.000000</td>\n      <td>0.299670</td>\n      <td>0.002030</td>\n      <td>0.000000</td>\n      <td>0.000216</td>\n      <td>0.000000</td>\n      <td>0.0</td>\n      <td>1.0</td>\n      <td>0.0</td>\n      <td>0.0</td>\n      <td>0.0</td>\n      <td>1.0</td>\n      <td>1.0</td>\n      <td>0.0</td>\n      <td>0.0</td>\n      <td>1.0</td>\n      <td>0.0</td>\n      <td>1.0</td>\n      <td>1.0</td>\n      <td>0.0</td>\n      <td>0.0</td>\n      <td>0.0</td>\n      <td>0.0</td>\n      <td>0.0</td>\n      <td>0.0</td>\n      <td>0.0</td>\n    </tr>\n    <tr>\n      <th>3</th>\n      <td>0.417722</td>\n      <td>0.000000</td>\n      <td>0.043035</td>\n      <td>0.015793</td>\n      <td>0.148563</td>\n      <td>0.007997</td>\n      <td>0.000000</td>\n      <td>0.000216</td>\n      <td>0.142857</td>\n      <td>0.0</td>\n      <td>1.0</td>\n      <td>0.0</td>\n      <td>0.0</td>\n      <td>0.0</td>\n      <td>1.0</td>\n      <td>1.0</td>\n      <td>0.0</td>\n      <td>1.0</td>\n      <td>0.0</td>\n      <td>0.0</td>\n      <td>1.0</td>\n      <td>1.0</td>\n      <td>0.0</td>\n      <td>0.0</td>\n      <td>0.0</td>\n      <td>0.0</td>\n      <td>0.0</td>\n      <td>0.0</td>\n      <td>0.0</td>\n    </tr>\n    <tr>\n      <th>4</th>\n      <td>0.202532</td>\n      <td>0.021149</td>\n      <td>0.002348</td>\n      <td>0.006428</td>\n      <td>0.025214</td>\n      <td>0.000083</td>\n      <td>0.000528</td>\n      <td>0.000323</td>\n      <td>0.000000</td>\n      <td>1.0</td>\n      <td>0.0</td>\n      <td>0.0</td>\n      <td>0.0</td>\n      <td>0.0</td>\n      <td>1.0</td>\n      <td>1.0</td>\n      <td>0.0</td>\n      <td>1.0</td>\n      <td>0.0</td>\n      <td>0.0</td>\n      <td>1.0</td>\n      <td>0.0</td>\n      <td>0.0</td>\n      <td>0.0</td>\n      <td>0.0</td>\n      <td>0.0</td>\n      <td>1.0</td>\n      <td>0.0</td>\n      <td>0.0</td>\n    </tr>\n    <tr>\n      <th>...</th>\n      <td>...</td>\n      <td>...</td>\n      <td>...</td>\n      <td>...</td>\n      <td>...</td>\n      <td>...</td>\n      <td>...</td>\n      <td>...</td>\n      <td>...</td>\n      <td>...</td>\n      <td>...</td>\n      <td>...</td>\n      <td>...</td>\n      <td>...</td>\n      <td>...</td>\n      <td>...</td>\n      <td>...</td>\n      <td>...</td>\n      <td>...</td>\n      <td>...</td>\n      <td>...</td>\n      <td>...</td>\n      <td>...</td>\n      <td>...</td>\n      <td>...</td>\n      <td>...</td>\n      <td>...</td>\n      <td>...</td>\n      <td>...</td>\n    </tr>\n    <tr>\n      <th>8688</th>\n      <td>0.518987</td>\n      <td>0.000000</td>\n      <td>0.228726</td>\n      <td>0.000000</td>\n      <td>0.073322</td>\n      <td>0.003066</td>\n      <td>0.051742</td>\n      <td>0.999569</td>\n      <td>0.000000</td>\n      <td>0.0</td>\n      <td>1.0</td>\n      <td>0.0</td>\n      <td>1.0</td>\n      <td>0.0</td>\n      <td>0.0</td>\n      <td>1.0</td>\n      <td>0.0</td>\n      <td>0.0</td>\n      <td>1.0</td>\n      <td>1.0</td>\n      <td>0.0</td>\n      <td>1.0</td>\n      <td>0.0</td>\n      <td>0.0</td>\n      <td>0.0</td>\n      <td>0.0</td>\n      <td>0.0</td>\n      <td>0.0</td>\n      <td>0.0</td>\n    </tr>\n    <tr>\n      <th>8689</th>\n      <td>0.227848</td>\n      <td>0.000000</td>\n      <td>0.000000</td>\n      <td>0.000000</td>\n      <td>0.000000</td>\n      <td>0.000000</td>\n      <td>0.791447</td>\n      <td>0.999784</td>\n      <td>0.000000</td>\n      <td>1.0</td>\n      <td>0.0</td>\n      <td>0.0</td>\n      <td>0.0</td>\n      <td>1.0</td>\n      <td>0.0</td>\n      <td>0.0</td>\n      <td>1.0</td>\n      <td>1.0</td>\n      <td>0.0</td>\n      <td>0.0</td>\n      <td>1.0</td>\n      <td>0.0</td>\n      <td>0.0</td>\n      <td>0.0</td>\n      <td>0.0</td>\n      <td>0.0</td>\n      <td>0.0</td>\n      <td>1.0</td>\n      <td>0.0</td>\n    </tr>\n    <tr>\n      <th>8690</th>\n      <td>0.329114</td>\n      <td>0.000000</td>\n      <td>0.000000</td>\n      <td>0.079687</td>\n      <td>0.000045</td>\n      <td>0.000000</td>\n      <td>0.791975</td>\n      <td>0.999892</td>\n      <td>0.000000</td>\n      <td>1.0</td>\n      <td>0.0</td>\n      <td>0.0</td>\n      <td>0.0</td>\n      <td>0.0</td>\n      <td>1.0</td>\n      <td>1.0</td>\n      <td>0.0</td>\n      <td>1.0</td>\n      <td>0.0</td>\n      <td>0.0</td>\n      <td>1.0</td>\n      <td>0.0</td>\n      <td>0.0</td>\n      <td>0.0</td>\n      <td>0.0</td>\n      <td>0.0</td>\n      <td>0.0</td>\n      <td>1.0</td>\n      <td>0.0</td>\n    </tr>\n    <tr>\n      <th>8691</th>\n      <td>0.405063</td>\n      <td>0.000000</td>\n      <td>0.035186</td>\n      <td>0.000000</td>\n      <td>0.015753</td>\n      <td>0.134049</td>\n      <td>0.321014</td>\n      <td>1.000000</td>\n      <td>0.000000</td>\n      <td>0.0</td>\n      <td>1.0</td>\n      <td>0.0</td>\n      <td>1.0</td>\n      <td>0.0</td>\n      <td>0.0</td>\n      <td>1.0</td>\n      <td>0.0</td>\n      <td>1.0</td>\n      <td>0.0</td>\n      <td>0.0</td>\n      <td>1.0</td>\n      <td>0.0</td>\n      <td>0.0</td>\n      <td>0.0</td>\n      <td>0.0</td>\n      <td>1.0</td>\n      <td>0.0</td>\n      <td>0.0</td>\n      <td>0.0</td>\n    </tr>\n    <tr>\n      <th>8692</th>\n      <td>0.556962</td>\n      <td>0.008795</td>\n      <td>0.157247</td>\n      <td>0.000000</td>\n      <td>0.000000</td>\n      <td>0.000497</td>\n      <td>0.321014</td>\n      <td>1.000000</td>\n      <td>0.142857</td>\n      <td>0.0</td>\n      <td>1.0</td>\n      <td>0.0</td>\n      <td>0.0</td>\n      <td>0.0</td>\n      <td>1.0</td>\n      <td>1.0</td>\n      <td>0.0</td>\n      <td>1.0</td>\n      <td>0.0</td>\n      <td>0.0</td>\n      <td>1.0</td>\n      <td>0.0</td>\n      <td>0.0</td>\n      <td>0.0</td>\n      <td>0.0</td>\n      <td>1.0</td>\n      <td>0.0</td>\n      <td>0.0</td>\n      <td>0.0</td>\n    </tr>\n  </tbody>\n</table>\n<p>8693 rows × 29 columns</p>\n</div>",
      "text/plain": "           Age  RoomService  FoodCourt  ShoppingMall       Spa    VRDeck  \\\n0     0.493671     0.000000   0.000000      0.000000  0.000000  0.000000   \n1     0.303797     0.007608   0.000302      0.001064  0.024500  0.001823   \n2     0.734177     0.003001   0.119948      0.000000  0.299670  0.002030   \n3     0.417722     0.000000   0.043035      0.015793  0.148563  0.007997   \n4     0.202532     0.021149   0.002348      0.006428  0.025214  0.000083   \n...        ...          ...        ...           ...       ...       ...   \n8688  0.518987     0.000000   0.228726      0.000000  0.073322  0.003066   \n8689  0.227848     0.000000   0.000000      0.000000  0.000000  0.000000   \n8690  0.329114     0.000000   0.000000      0.079687  0.000045  0.000000   \n8691  0.405063     0.000000   0.035186      0.000000  0.015753  0.134049   \n8692  0.556962     0.008795   0.157247      0.000000  0.000000  0.000497   \n\n           Num    PGroup       PNr  HomePlanet_Earth  HomePlanet_Europa  \\\n0     0.000000  0.000000  0.000000               0.0                1.0   \n1     0.000000  0.000108  0.000000               1.0                0.0   \n2     0.000000  0.000216  0.000000               0.0                1.0   \n3     0.000000  0.000216  0.142857               0.0                1.0   \n4     0.000528  0.000323  0.000000               1.0                0.0   \n...        ...       ...       ...               ...                ...   \n8688  0.051742  0.999569  0.000000               0.0                1.0   \n8689  0.791447  0.999784  0.000000               1.0                0.0   \n8690  0.791975  0.999892  0.000000               1.0                0.0   \n8691  0.321014  1.000000  0.000000               0.0                1.0   \n8692  0.321014  1.000000  0.142857               0.0                1.0   \n\n      HomePlanet_Mars  Destination_55 Cancri e  Destination_PSO J318.5-22  \\\n0                 0.0                      0.0                        0.0   \n1                 0.0                      0.0                        0.0   \n2                 0.0                      0.0                        0.0   \n3                 0.0                      0.0                        0.0   \n4                 0.0                      0.0                        0.0   \n...               ...                      ...                        ...   \n8688              0.0                      1.0                        0.0   \n8689              0.0                      0.0                        1.0   \n8690              0.0                      0.0                        0.0   \n8691              0.0                      1.0                        0.0   \n8692              0.0                      0.0                        0.0   \n\n      Destination_TRAPPIST-1e  CryoSleep_False  CryoSleep_True  VIP_False  \\\n0                         1.0              1.0             0.0        1.0   \n1                         1.0              1.0             0.0        1.0   \n2                         1.0              1.0             0.0        0.0   \n3                         1.0              1.0             0.0        1.0   \n4                         1.0              1.0             0.0        1.0   \n...                       ...              ...             ...        ...   \n8688                      0.0              1.0             0.0        0.0   \n8689                      0.0              0.0             1.0        1.0   \n8690                      1.0              1.0             0.0        1.0   \n8691                      0.0              1.0             0.0        1.0   \n8692                      1.0              1.0             0.0        1.0   \n\n      VIP_True  Side_P  Side_S  Deck_A  Deck_B  Deck_C  Deck_D  Deck_E  \\\n0          0.0     1.0     0.0     0.0     1.0     0.0     0.0     0.0   \n1          0.0     0.0     1.0     0.0     0.0     0.0     0.0     0.0   \n2          1.0     0.0     1.0     1.0     0.0     0.0     0.0     0.0   \n3          0.0     0.0     1.0     1.0     0.0     0.0     0.0     0.0   \n4          0.0     0.0     1.0     0.0     0.0     0.0     0.0     0.0   \n...        ...     ...     ...     ...     ...     ...     ...     ...   \n8688       1.0     1.0     0.0     1.0     0.0     0.0     0.0     0.0   \n8689       0.0     0.0     1.0     0.0     0.0     0.0     0.0     0.0   \n8690       0.0     0.0     1.0     0.0     0.0     0.0     0.0     0.0   \n8691       0.0     0.0     1.0     0.0     0.0     0.0     0.0     1.0   \n8692       0.0     0.0     1.0     0.0     0.0     0.0     0.0     1.0   \n\n      Deck_F  Deck_G  Deck_T  \n0        0.0     0.0     0.0  \n1        1.0     0.0     0.0  \n2        0.0     0.0     0.0  \n3        0.0     0.0     0.0  \n4        1.0     0.0     0.0  \n...      ...     ...     ...  \n8688     0.0     0.0     0.0  \n8689     0.0     1.0     0.0  \n8690     0.0     1.0     0.0  \n8691     0.0     0.0     0.0  \n8692     0.0     0.0     0.0  \n\n[8693 rows x 29 columns]"
     },
     "execution_count": 54,
     "metadata": {},
     "output_type": "execute_result"
    }
   ],
   "source": [
    "df_norm = (df - df.min()) / (df.max() - df.min())\n",
    "df_norm"
   ]
  },
  {
   "cell_type": "code",
   "execution_count": 72,
   "metadata": {},
   "outputs": [
    {
     "name": "stdout",
     "output_type": "stream",
     "text": [
      "(tensor([2.0253e-01, 2.1149e-02, 2.3480e-03, 6.4277e-03, 2.5214e-02, 8.2874e-05,\n",
      "        5.2798e-04, 3.2331e-04, 0.0000e+00, 1.0000e+00, 0.0000e+00, 0.0000e+00,\n",
      "        0.0000e+00, 0.0000e+00, 1.0000e+00, 1.0000e+00, 0.0000e+00, 1.0000e+00,\n",
      "        0.0000e+00, 0.0000e+00, 1.0000e+00, 0.0000e+00, 0.0000e+00, 0.0000e+00,\n",
      "        0.0000e+00, 0.0000e+00, 1.0000e+00, 0.0000e+00, 0.0000e+00]), tensor(1.))\n"
     ]
    }
   ],
   "source": [
    "import torch\n",
    "from torch.utils.data import Dataset\n",
    "\n",
    "class dataset(Dataset):\n",
    "    def __init__(self, xdata, ydata):\n",
    "        self.labels = ydata\n",
    "        self.inputs = xdata\n",
    "\n",
    "    def __getitem__(self, index):\n",
    "        \n",
    "        return torch.tensor(self.inputs.iloc[index], dtype=torch.float), torch.tensor(self.labels.iloc[index], dtype=torch.float)\n",
    "\n",
    "    def __len__(self):\n",
    "        return len(self.inputs)\n",
    "\n",
    "\n",
    "dset = dataset(df_norm, lables)"
   ]
  },
  {
   "cell_type": "code",
   "execution_count": 92,
   "metadata": {},
   "outputs": [
    {
     "name": "stdout",
     "output_type": "stream",
     "text": [
      "Epoch 1\n",
      "-------------------------------\n",
      "loss: 0.704703  [    0/ 8693]\n",
      "loss: 0.673607  [  640/ 8693]\n",
      "loss: 0.675675  [ 1280/ 8693]\n",
      "loss: 0.668606  [ 1920/ 8693]\n",
      "loss: 0.658961  [ 2560/ 8693]\n",
      "loss: 0.664185  [ 3200/ 8693]\n",
      "loss: 0.640657  [ 3840/ 8693]\n",
      "loss: 0.616683  [ 4480/ 8693]\n",
      "loss: 0.624330  [ 5120/ 8693]\n",
      "loss: 0.614999  [ 5760/ 8693]\n",
      "loss: 0.564074  [ 6400/ 8693]\n",
      "loss: 0.514775  [ 7040/ 8693]\n",
      "loss: 0.482620  [ 7680/ 8693]\n",
      "loss: 0.588016  [ 8320/ 8693]\n",
      "Epoch 2\n",
      "-------------------------------\n",
      "loss: 0.578636  [    0/ 8693]\n",
      "loss: 0.719678  [  640/ 8693]\n",
      "loss: 0.583759  [ 1280/ 8693]\n",
      "loss: 0.596316  [ 1920/ 8693]\n",
      "loss: 0.492659  [ 2560/ 8693]\n",
      "loss: 0.557270  [ 3200/ 8693]\n",
      "loss: 0.502908  [ 3840/ 8693]\n",
      "loss: 0.580863  [ 4480/ 8693]\n",
      "loss: 0.541115  [ 5120/ 8693]\n",
      "loss: 0.619494  [ 5760/ 8693]\n",
      "loss: 0.559852  [ 6400/ 8693]\n",
      "loss: 0.475831  [ 7040/ 8693]\n",
      "loss: 0.546646  [ 7680/ 8693]\n",
      "loss: 0.572882  [ 8320/ 8693]\n",
      "Epoch 3\n",
      "-------------------------------\n",
      "loss: 0.525441  [    0/ 8693]\n",
      "loss: 0.551595  [  640/ 8693]\n",
      "loss: 0.507846  [ 1280/ 8693]\n",
      "loss: 0.526221  [ 1920/ 8693]\n",
      "loss: 0.495771  [ 2560/ 8693]\n",
      "loss: 0.515434  [ 3200/ 8693]\n",
      "loss: 0.536043  [ 3840/ 8693]\n",
      "loss: 0.473573  [ 4480/ 8693]\n",
      "loss: 0.609263  [ 5120/ 8693]\n",
      "loss: 0.551983  [ 5760/ 8693]\n",
      "loss: 0.564249  [ 6400/ 8693]\n",
      "loss: 0.576609  [ 7040/ 8693]\n",
      "loss: 0.535299  [ 7680/ 8693]\n",
      "loss: 0.607569  [ 8320/ 8693]\n",
      "Epoch 4\n",
      "-------------------------------\n",
      "loss: 0.482842  [    0/ 8693]\n",
      "loss: 0.564898  [  640/ 8693]\n",
      "loss: 0.507894  [ 1280/ 8693]\n",
      "loss: 0.489816  [ 1920/ 8693]\n",
      "loss: 0.522227  [ 2560/ 8693]\n",
      "loss: 0.572924  [ 3200/ 8693]\n",
      "loss: 0.539024  [ 3840/ 8693]\n",
      "loss: 0.588804  [ 4480/ 8693]\n",
      "loss: 0.483121  [ 5120/ 8693]\n",
      "loss: 0.601276  [ 5760/ 8693]\n",
      "loss: 0.582566  [ 6400/ 8693]\n",
      "loss: 0.580092  [ 7040/ 8693]\n",
      "loss: 0.626733  [ 7680/ 8693]\n",
      "loss: 0.573756  [ 8320/ 8693]\n",
      "Epoch 5\n",
      "-------------------------------\n",
      "loss: 0.430930  [    0/ 8693]\n",
      "loss: 0.482575  [  640/ 8693]\n",
      "loss: 0.618272  [ 1280/ 8693]\n",
      "loss: 0.445221  [ 1920/ 8693]\n",
      "loss: 0.563193  [ 2560/ 8693]\n",
      "loss: 0.508252  [ 3200/ 8693]\n",
      "loss: 0.571171  [ 3840/ 8693]\n",
      "loss: 0.481892  [ 4480/ 8693]\n",
      "loss: 0.475585  [ 5120/ 8693]\n",
      "loss: 0.484986  [ 5760/ 8693]\n",
      "loss: 0.409653  [ 6400/ 8693]\n",
      "loss: 0.423150  [ 7040/ 8693]\n",
      "loss: 0.522309  [ 7680/ 8693]\n",
      "loss: 0.578749  [ 8320/ 8693]\n",
      "Epoch 6\n",
      "-------------------------------\n",
      "loss: 0.483950  [    0/ 8693]\n",
      "loss: 0.595058  [  640/ 8693]\n",
      "loss: 0.521328  [ 1280/ 8693]\n",
      "loss: 0.552778  [ 1920/ 8693]\n",
      "loss: 0.530119  [ 2560/ 8693]\n",
      "loss: 0.491669  [ 3200/ 8693]\n",
      "loss: 0.495001  [ 3840/ 8693]\n",
      "loss: 0.581089  [ 4480/ 8693]\n",
      "loss: 0.566962  [ 5120/ 8693]\n",
      "loss: 0.580890  [ 5760/ 8693]\n",
      "loss: 0.596746  [ 6400/ 8693]\n",
      "loss: 0.466117  [ 7040/ 8693]\n",
      "loss: 0.618107  [ 7680/ 8693]\n",
      "loss: 0.484715  [ 8320/ 8693]\n",
      "Epoch 7\n",
      "-------------------------------\n",
      "loss: 0.510510  [    0/ 8693]\n",
      "loss: 0.490147  [  640/ 8693]\n",
      "loss: 0.537394  [ 1280/ 8693]\n",
      "loss: 0.477089  [ 1920/ 8693]\n",
      "loss: 0.396363  [ 2560/ 8693]\n",
      "loss: 0.490844  [ 3200/ 8693]\n",
      "loss: 0.491189  [ 3840/ 8693]\n",
      "loss: 0.500660  [ 4480/ 8693]\n",
      "loss: 0.513541  [ 5120/ 8693]\n",
      "loss: 0.519421  [ 5760/ 8693]\n",
      "loss: 0.523732  [ 6400/ 8693]\n",
      "loss: 0.547029  [ 7040/ 8693]\n",
      "loss: 0.504854  [ 7680/ 8693]\n",
      "loss: 0.465978  [ 8320/ 8693]\n",
      "Epoch 8\n",
      "-------------------------------\n",
      "loss: 0.498810  [    0/ 8693]\n",
      "loss: 0.437324  [  640/ 8693]\n",
      "loss: 0.570124  [ 1280/ 8693]\n",
      "loss: 0.524244  [ 1920/ 8693]\n",
      "loss: 0.537045  [ 2560/ 8693]\n",
      "loss: 0.525685  [ 3200/ 8693]\n",
      "loss: 0.413818  [ 3840/ 8693]\n",
      "loss: 0.522915  [ 4480/ 8693]\n",
      "loss: 0.453202  [ 5120/ 8693]\n",
      "loss: 0.654831  [ 5760/ 8693]\n",
      "loss: 0.521975  [ 6400/ 8693]\n",
      "loss: 0.468018  [ 7040/ 8693]\n",
      "loss: 0.539632  [ 7680/ 8693]\n",
      "loss: 0.425753  [ 8320/ 8693]\n",
      "Epoch 9\n",
      "-------------------------------\n",
      "loss: 0.432227  [    0/ 8693]\n",
      "loss: 0.485220  [  640/ 8693]\n",
      "loss: 0.440267  [ 1280/ 8693]\n",
      "loss: 0.488839  [ 1920/ 8693]\n",
      "loss: 0.548883  [ 2560/ 8693]\n",
      "loss: 0.446968  [ 3200/ 8693]\n",
      "loss: 0.514920  [ 3840/ 8693]\n",
      "loss: 0.503452  [ 4480/ 8693]\n",
      "loss: 0.496551  [ 5120/ 8693]\n",
      "loss: 0.486329  [ 5760/ 8693]\n",
      "loss: 0.584325  [ 6400/ 8693]\n",
      "loss: 0.463724  [ 7040/ 8693]\n",
      "loss: 0.486890  [ 7680/ 8693]\n",
      "loss: 0.394422  [ 8320/ 8693]\n",
      "Epoch 10\n",
      "-------------------------------\n",
      "loss: 0.553672  [    0/ 8693]\n",
      "loss: 0.486636  [  640/ 8693]\n",
      "loss: 0.485659  [ 1280/ 8693]\n",
      "loss: 0.463003  [ 1920/ 8693]\n",
      "loss: 0.461274  [ 2560/ 8693]\n",
      "loss: 0.638423  [ 3200/ 8693]\n",
      "loss: 0.523042  [ 3840/ 8693]\n",
      "loss: 0.490042  [ 4480/ 8693]\n",
      "loss: 0.463740  [ 5120/ 8693]\n",
      "loss: 0.519611  [ 5760/ 8693]\n",
      "loss: 0.545409  [ 6400/ 8693]\n",
      "loss: 0.486984  [ 7040/ 8693]\n",
      "loss: 0.421416  [ 7680/ 8693]\n",
      "loss: 0.567107  [ 8320/ 8693]\n",
      "Done!\n"
     ]
    }
   ],
   "source": [
    "import torch\n",
    "import torch.nn as nn\n",
    "from torch.utils.data import DataLoader\n",
    "\n",
    "\n",
    "class NeuralNetwork(nn.Module):\n",
    "    def __init__(self, input_dim, output_dim):\n",
    "        super(NeuralNetwork, self).__init__()\n",
    "        self.linear = nn.Sequential(\n",
    "            nn.Linear(input_dim, 200),\n",
    "            nn.ReLU(),\n",
    "            nn.Linear(200, 100),\n",
    "            nn.ReLU(),\n",
    "            nn.Linear(100, output_dim),\n",
    "            nn.Sigmoid()\n",
    "        )\n",
    "\n",
    "    def forward(self, x):\n",
    "        y_pred = self.linear(x)\n",
    "        return y_pred.squeeze(-1)\n",
    "\n",
    "\n",
    "\n",
    "model = NeuralNetwork(df_norm.shape[1], 1)\n",
    "\n",
    "learning_rate = 0.1\n",
    "batch_size = 64\n",
    "epochs = 10\n",
    "\n",
    "loss_fn = nn.BCELoss()\n",
    "\n",
    "optimizer = torch.optim.SGD(model.parameters(), lr=learning_rate)\n",
    "\n",
    "train_dataloader = DataLoader(dset, batch_size=64, shuffle=True)\n",
    "\n",
    "train_features, train_labels = next(iter(train_dataloader))\n",
    "\n",
    "def train_loop(dataloader, model, loss_fn, optimizer):\n",
    "    size = len(dataloader.dataset)\n",
    "    for batch, (X, y) in enumerate(dataloader):\n",
    "        # Compute prediction and loss\n",
    "        pred = model(X)\n",
    "        loss = loss_fn(pred, y)\n",
    "\n",
    "        # Backpropagation\n",
    "        optimizer.zero_grad()\n",
    "        loss.backward()\n",
    "        optimizer.step()\n",
    "\n",
    "        if batch % 10 == 0:\n",
    "            \n",
    "            loss, current = loss.item(), batch * len(X)\n",
    "            print(f\"loss: {loss:>7f}  [{current:>5d}/{size:>5d}]\")\n",
    "\n",
    "for t in range(epochs):\n",
    "    print(f\"Epoch {t+1}\\n-------------------------------\")\n",
    "    train_loop(train_dataloader, model, loss_fn, optimizer)\n",
    "print(\"Done!\")\n",
    "\n"
   ]
  }
 ],
 "metadata": {
  "kernelspec": {
   "display_name": "Python 3 (ipykernel)",
   "language": "python",
   "name": "python3"
  },
  "language_info": {
   "codemirror_mode": {
    "name": "ipython",
    "version": 3
   },
   "file_extension": ".py",
   "mimetype": "text/x-python",
   "name": "python",
   "nbconvert_exporter": "python",
   "pygments_lexer": "ipython3",
   "version": "3.9.5"
  },
  "orig_nbformat": 2
 },
 "nbformat": 4,
 "nbformat_minor": 2
}