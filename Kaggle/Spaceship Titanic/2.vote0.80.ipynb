{
 "cells": [
  {
   "cell_type": "code",
   "execution_count": 211,
   "metadata": {},
   "outputs": [],
   "source": [
    "import numpy as np\n",
    "import pandas as pd\n",
    "import sklearn\n",
    "import matplotlib.pyplot as plt\n",
    "import seaborn as sns\n",
    "import plotly.express as px\n",
    "\n",
    "pd.set_option('max_columns',1000)\n",
    "pd.set_option('max_row',300)"
   ]
  },
  {
   "cell_type": "code",
   "execution_count": 212,
   "metadata": {},
   "outputs": [
    {
     "data": {
      "text/html": "<div>\n<style scoped>\n    .dataframe tbody tr th:only-of-type {\n        vertical-align: middle;\n    }\n\n    .dataframe tbody tr th {\n        vertical-align: top;\n    }\n\n    .dataframe thead th {\n        text-align: right;\n    }\n</style>\n<table border=\"1\" class=\"dataframe\">\n  <thead>\n    <tr style=\"text-align: right;\">\n      <th></th>\n      <th>PassengerId</th>\n      <th>HomePlanet</th>\n      <th>CryoSleep</th>\n      <th>Cabin</th>\n      <th>Destination</th>\n      <th>Age</th>\n      <th>VIP</th>\n      <th>RoomService</th>\n      <th>FoodCourt</th>\n      <th>ShoppingMall</th>\n      <th>Spa</th>\n      <th>VRDeck</th>\n      <th>Name</th>\n      <th>Transported</th>\n    </tr>\n  </thead>\n  <tbody>\n    <tr>\n      <th>0</th>\n      <td>0001_01</td>\n      <td>Europa</td>\n      <td>False</td>\n      <td>B/0/P</td>\n      <td>TRAPPIST-1e</td>\n      <td>39.0</td>\n      <td>False</td>\n      <td>0.0</td>\n      <td>0.0</td>\n      <td>0.0</td>\n      <td>0.0</td>\n      <td>0.0</td>\n      <td>Maham Ofracculy</td>\n      <td>False</td>\n    </tr>\n    <tr>\n      <th>1</th>\n      <td>0002_01</td>\n      <td>Earth</td>\n      <td>False</td>\n      <td>F/0/S</td>\n      <td>TRAPPIST-1e</td>\n      <td>24.0</td>\n      <td>False</td>\n      <td>109.0</td>\n      <td>9.0</td>\n      <td>25.0</td>\n      <td>549.0</td>\n      <td>44.0</td>\n      <td>Juanna Vines</td>\n      <td>True</td>\n    </tr>\n    <tr>\n      <th>2</th>\n      <td>0003_01</td>\n      <td>Europa</td>\n      <td>False</td>\n      <td>A/0/S</td>\n      <td>TRAPPIST-1e</td>\n      <td>58.0</td>\n      <td>True</td>\n      <td>43.0</td>\n      <td>3576.0</td>\n      <td>0.0</td>\n      <td>6715.0</td>\n      <td>49.0</td>\n      <td>Altark Susent</td>\n      <td>False</td>\n    </tr>\n    <tr>\n      <th>3</th>\n      <td>0003_02</td>\n      <td>Europa</td>\n      <td>False</td>\n      <td>A/0/S</td>\n      <td>TRAPPIST-1e</td>\n      <td>33.0</td>\n      <td>False</td>\n      <td>0.0</td>\n      <td>1283.0</td>\n      <td>371.0</td>\n      <td>3329.0</td>\n      <td>193.0</td>\n      <td>Solam Susent</td>\n      <td>False</td>\n    </tr>\n    <tr>\n      <th>4</th>\n      <td>0004_01</td>\n      <td>Earth</td>\n      <td>False</td>\n      <td>F/1/S</td>\n      <td>TRAPPIST-1e</td>\n      <td>16.0</td>\n      <td>False</td>\n      <td>303.0</td>\n      <td>70.0</td>\n      <td>151.0</td>\n      <td>565.0</td>\n      <td>2.0</td>\n      <td>Willy Santantines</td>\n      <td>True</td>\n    </tr>\n  </tbody>\n</table>\n</div>",
      "text/plain": "  PassengerId HomePlanet CryoSleep  Cabin  Destination   Age    VIP  \\\n0     0001_01     Europa     False  B/0/P  TRAPPIST-1e  39.0  False   \n1     0002_01      Earth     False  F/0/S  TRAPPIST-1e  24.0  False   \n2     0003_01     Europa     False  A/0/S  TRAPPIST-1e  58.0   True   \n3     0003_02     Europa     False  A/0/S  TRAPPIST-1e  33.0  False   \n4     0004_01      Earth     False  F/1/S  TRAPPIST-1e  16.0  False   \n\n   RoomService  FoodCourt  ShoppingMall     Spa  VRDeck               Name  \\\n0          0.0        0.0           0.0     0.0     0.0    Maham Ofracculy   \n1        109.0        9.0          25.0   549.0    44.0       Juanna Vines   \n2         43.0     3576.0           0.0  6715.0    49.0      Altark Susent   \n3          0.0     1283.0         371.0  3329.0   193.0       Solam Susent   \n4        303.0       70.0         151.0   565.0     2.0  Willy Santantines   \n\n   Transported  \n0        False  \n1         True  \n2        False  \n3        False  \n4         True  "
     },
     "execution_count": 212,
     "metadata": {},
     "output_type": "execute_result"
    }
   ],
   "source": [
    "trn_data = pd.read_csv('Data/train.csv')\n",
    "tst_data = pd.read_csv('Data/test.csv')\n",
    "trn_data.head()"
   ]
  },
  {
   "cell_type": "code",
   "execution_count": 213,
   "metadata": {},
   "outputs": [],
   "source": [
    "def fill_nans_by_age(df, age_limit = 13):\n",
    "    df['RoomService'] = np.where(df['Age'] < age_limit, 0, df['RoomService'])\n",
    "    df['FoodCourt'] = np.where(df['Age'] < age_limit, 0, df['FoodCourt'])\n",
    "    df['ShoppingMall'] = np.where(df['Age'] < age_limit, 0, df['ShoppingMall'])\n",
    "    df['Spa'] = np.where(df['Age'] < age_limit, 0, df['Spa'])\n",
    "    df['VRDeck'] = np.where(df['Age'] < age_limit, 0, df['VRDeck'])\n",
    "    return df\n",
    "\n",
    "trn_data =  fill_nans_by_age(trn_data)\n",
    "tst_data =  fill_nans_by_age(tst_data)\n",
    "trn_data.to_csv('tmp.csv', index=False)"
   ]
  },
  {
   "cell_type": "code",
   "execution_count": 214,
   "metadata": {},
   "outputs": [],
   "source": [
    "def fill_nans_by_cryo(df, age_limit = 13):\n",
    "    df['RoomService'] = np.where(df['CryoSleep'] == True, 0, df['RoomService'])\n",
    "    df['FoodCourt'] = np.where(df['CryoSleep'] == True, 0, df['FoodCourt'])\n",
    "    df['ShoppingMall'] = np.where(df['CryoSleep'] == True, 0, df['ShoppingMall'])\n",
    "    df['Spa'] = np.where(df['CryoSleep'] == True, 0, df['Spa'])\n",
    "    df['VRDeck'] = np.where(df['CryoSleep'] == True, 0, df['VRDeck'])\n",
    "    return df\n",
    "\n",
    "trn_data =  fill_nans_by_cryo(trn_data)\n",
    "tst_data =  fill_nans_by_cryo(tst_data)\n",
    "trn_data.to_csv('tmp.csv', index=False)\n"
   ]
  },
  {
   "cell_type": "code",
   "execution_count": 215,
   "metadata": {},
   "outputs": [],
   "source": [
    "def age_groups(df, age_limit = 13):\n",
    "    df['AgeGroup'] = np.where(df['Age'] < age_limit, 0, 1)\n",
    "    return df\n",
    "\n",
    "trn_data =  age_groups(trn_data)\n",
    "tst_data =  age_groups(tst_data)    \n",
    "trn_data.to_csv('tmp.csv', index=False)"
   ]
  },
  {
   "cell_type": "code",
   "execution_count": 216,
   "metadata": {},
   "outputs": [
    {
     "name": "stdout",
     "output_type": "stream",
     "text": [
      "Age\n",
      "RoomService\n",
      "FoodCourt\n",
      "ShoppingMall\n",
      "Spa\n",
      "VRDeck\n",
      "AgeGroup\n",
      "PassengerId\n",
      "HomePlanet\n",
      "CryoSleep\n",
      "Cabin\n",
      "Destination\n",
      "VIP\n",
      "Name\n",
      "Transported\n",
      "...\n",
      "Age\n",
      "RoomService\n",
      "FoodCourt\n",
      "ShoppingMall\n",
      "Spa\n",
      "VRDeck\n",
      "AgeGroup\n",
      "PassengerId\n",
      "HomePlanet\n",
      "CryoSleep\n",
      "Cabin\n",
      "Destination\n",
      "VIP\n",
      "Name\n",
      "...\n"
     ]
    }
   ],
   "source": [
    "def fill_missing(df):\n",
    "    '''\n",
    "    Fill NaNs values or with mean or most commond value...\n",
    "    \n",
    "    '''\n",
    "    \n",
    "    numerics = ['int16', 'int32', 'int64', 'float16', 'float32', 'float64']\n",
    "    \n",
    "    numeric_tmp = df.select_dtypes(include = numerics)\n",
    "    categ_tmp = df.select_dtypes(exclude = numerics)\n",
    "\n",
    "    for col in numeric_tmp.columns:\n",
    "        print(col)\n",
    "        df[col] = df[col].fillna(value = df[col].mean())\n",
    "        \n",
    "    for col in categ_tmp.columns:\n",
    "        print(col)\n",
    "        df[col] = df[col].fillna(value = df[col].mode()[0])\n",
    "        \n",
    "    print('...')\n",
    "    \n",
    "    return df\n",
    "\n",
    "\n",
    "trn_data =  fill_missing(trn_data)\n",
    "tst_data =  fill_missing(tst_data)\n",
    "trn_data.to_csv('tmp.csv', index=False)"
   ]
  },
  {
   "cell_type": "code",
   "execution_count": 217,
   "metadata": {},
   "outputs": [],
   "source": [
    "def total_billed(df):\n",
    "    '''\n",
    "    Calculates total amount billed in the trip to the passenger... \n",
    "    Args:\n",
    "    Returns:\n",
    "    \n",
    "    '''\n",
    "    \n",
    "    df['TotalBilled'] = df['RoomService'] + df['FoodCourt'] + df['ShoppingMall'] + df['Spa'] + df['VRDeck']\n",
    "    return df\n",
    "\n",
    "trn_data = total_billed(trn_data)\n",
    "tst_data = total_billed(tst_data)\n",
    "trn_data.to_csv('tmp.csv', index=False)"
   ]
  },
  {
   "cell_type": "code",
   "execution_count": 218,
   "metadata": {},
   "outputs": [],
   "source": [
    "def fill_nans_by_totalspend(df):\n",
    "    df['CryoSleep'] = np.where(df['TotalBilled'] > 0, False, df['CryoSleep'])\n",
    "    return df\n",
    "\n",
    "trn_data =  fill_nans_by_totalspend(trn_data)\n",
    "tst_data =  fill_nans_by_totalspend(tst_data)\n",
    "trn_data.to_csv('tmp2.csv', index=False)"
   ]
  },
  {
   "cell_type": "code",
   "execution_count": 219,
   "metadata": {},
   "outputs": [
    {
     "data": {
      "text/plain": "PassengerId     0\nHomePlanet      0\nCryoSleep       0\nCabin           0\nDestination     0\nAge             0\nVIP             0\nRoomService     0\nFoodCourt       0\nShoppingMall    0\nSpa             0\nVRDeck          0\nName            0\nTransported     0\nAgeGroup        0\nTotalBilled     0\ndtype: int64"
     },
     "execution_count": 219,
     "metadata": {},
     "output_type": "execute_result"
    }
   ],
   "source": [
    "trn_data.isnull().sum()"
   ]
  },
  {
   "cell_type": "code",
   "execution_count": 220,
   "metadata": {},
   "outputs": [],
   "source": [
    "def cabin_separation(df):\n",
    "    '''\n",
    "    Split the Cabin name into Deck, Number and Side\n",
    "    \n",
    "    '''\n",
    "    \n",
    "    df['CabinDeck'] = df['Cabin'].str.split('/', expand=True)[0]\n",
    "    df['CabinNum']  = df['Cabin'].str.split('/', expand=True)[1]\n",
    "    df['CabinSide'] = df['Cabin'].str.split('/', expand=True)[2]\n",
    "    \n",
    "    df.drop(columns = ['Cabin'], inplace = True)\n",
    "    return df\n",
    "\n",
    "trn_data = cabin_separation(trn_data)\n",
    "tst_data = cabin_separation(tst_data)"
   ]
  },
  {
   "cell_type": "code",
   "execution_count": 221,
   "metadata": {},
   "outputs": [],
   "source": [
    "def name_ext(df):\n",
    "    '''\n",
    "    Split the Name of the passenger into First and Family...\n",
    "    \n",
    "    '''\n",
    "    \n",
    "    df['FirstName'] = df['Name'].str.split(' ', expand=True)[0]\n",
    "    df['FamilyName'] = df['Name'].str.split(' ', expand=True)[1]\n",
    "    df.drop(columns = ['Name'], inplace = True)\n",
    "    return df\n",
    "\n",
    "trn_data = name_ext(trn_data)\n",
    "tst_data = name_ext(tst_data)"
   ]
  },
  {
   "cell_type": "code",
   "execution_count": 222,
   "metadata": {},
   "outputs": [],
   "source": [
    "def age_groups(df, age_limit = 13):\n",
    "    df['AgeGroup'] = np.where(df['Age'] < age_limit, 0, 1)\n",
    "    return df\n",
    "\n",
    "trn_data =  age_groups(trn_data)\n",
    "tst_data =  age_groups(tst_data)"
   ]
  },
  {
   "cell_type": "code",
   "execution_count": 223,
   "metadata": {},
   "outputs": [],
   "source": [
    "def extract_group(df):\n",
    "    '''\n",
    "    '''\n",
    "    df['TravelGroup'] =  df['PassengerId'].str.split('_', expand = True)[0]\n",
    "    return df\n",
    "\n",
    "trn_data = extract_group(trn_data)\n",
    "tst_data = extract_group(tst_data)"
   ]
  },
  {
   "cell_type": "code",
   "execution_count": 224,
   "metadata": {},
   "outputs": [
    {
     "data": {
      "text/html": "<div>\n<style scoped>\n    .dataframe tbody tr th:only-of-type {\n        vertical-align: middle;\n    }\n\n    .dataframe tbody tr th {\n        vertical-align: top;\n    }\n\n    .dataframe thead th {\n        text-align: right;\n    }\n</style>\n<table border=\"1\" class=\"dataframe\">\n  <thead>\n    <tr style=\"text-align: right;\">\n      <th></th>\n      <th>CabinDeck</th>\n      <th>TotalBilled</th>\n      <th>Transported</th>\n      <th>CryoSleep</th>\n      <th>PassengerId</th>\n      <th>AvgSpended</th>\n      <th>TransportedPercentage</th>\n      <th>CryoSleepPercentage</th>\n    </tr>\n  </thead>\n  <tbody>\n    <tr>\n      <th>7</th>\n      <td>T</td>\n      <td>2.375361e+04</td>\n      <td>1</td>\n      <td>0</td>\n      <td>5</td>\n      <td>4750.721118</td>\n      <td>0.200000</td>\n      <td>0.000000</td>\n    </tr>\n    <tr>\n      <th>2</th>\n      <td>C</td>\n      <td>3.080282e+06</td>\n      <td>508</td>\n      <td>294</td>\n      <td>747</td>\n      <td>4123.537444</td>\n      <td>0.680054</td>\n      <td>0.393574</td>\n    </tr>\n    <tr>\n      <th>0</th>\n      <td>A</td>\n      <td>8.734635e+05</td>\n      <td>127</td>\n      <td>68</td>\n      <td>256</td>\n      <td>3411.966602</td>\n      <td>0.496094</td>\n      <td>0.265625</td>\n    </tr>\n    <tr>\n      <th>1</th>\n      <td>B</td>\n      <td>2.286778e+06</td>\n      <td>572</td>\n      <td>419</td>\n      <td>779</td>\n      <td>2935.529927</td>\n      <td>0.734275</td>\n      <td>0.537869</td>\n    </tr>\n    <tr>\n      <th>3</th>\n      <td>D</td>\n      <td>1.105197e+06</td>\n      <td>207</td>\n      <td>104</td>\n      <td>478</td>\n      <td>2312.128525</td>\n      <td>0.433054</td>\n      <td>0.217573</td>\n    </tr>\n    <tr>\n      <th>4</th>\n      <td>E</td>\n      <td>1.155242e+06</td>\n      <td>313</td>\n      <td>168</td>\n      <td>876</td>\n      <td>1318.769366</td>\n      <td>0.357306</td>\n      <td>0.191781</td>\n    </tr>\n    <tr>\n      <th>5</th>\n      <td>F</td>\n      <td>2.816220e+06</td>\n      <td>1229</td>\n      <td>550</td>\n      <td>2794</td>\n      <td>1007.952687</td>\n      <td>0.439871</td>\n      <td>0.196850</td>\n    </tr>\n    <tr>\n      <th>6</th>\n      <td>G</td>\n      <td>1.341641e+06</td>\n      <td>1421</td>\n      <td>1434</td>\n      <td>2758</td>\n      <td>486.454405</td>\n      <td>0.515228</td>\n      <td>0.519942</td>\n    </tr>\n  </tbody>\n</table>\n</div>",
      "text/plain": "  CabinDeck   TotalBilled  Transported  CryoSleep  PassengerId   AvgSpended  \\\n7         T  2.375361e+04            1          0            5  4750.721118   \n2         C  3.080282e+06          508        294          747  4123.537444   \n0         A  8.734635e+05          127         68          256  3411.966602   \n1         B  2.286778e+06          572        419          779  2935.529927   \n3         D  1.105197e+06          207        104          478  2312.128525   \n4         E  1.155242e+06          313        168          876  1318.769366   \n5         F  2.816220e+06         1229        550         2794  1007.952687   \n6         G  1.341641e+06         1421       1434         2758   486.454405   \n\n   TransportedPercentage  CryoSleepPercentage  \n7               0.200000             0.000000  \n2               0.680054             0.393574  \n0               0.496094             0.265625  \n1               0.734275             0.537869  \n3               0.433054             0.217573  \n4               0.357306             0.191781  \n5               0.439871             0.196850  \n6               0.515228             0.519942  "
     },
     "execution_count": 224,
     "metadata": {},
     "output_type": "execute_result"
    }
   ],
   "source": [
    "Weltiest_Deck = trn_data.groupby('CabinDeck').aggregate({'TotalBilled': 'sum', 'Transported': 'sum', 'CryoSleep': 'sum', 'PassengerId': 'size'}).reset_index()\n",
    "Weltiest_Deck['AvgSpended'] = Weltiest_Deck['TotalBilled'] / Weltiest_Deck['PassengerId']\n",
    "Weltiest_Deck['TransportedPercentage'] = Weltiest_Deck['Transported'] / Weltiest_Deck['PassengerId']\n",
    "Weltiest_Deck['CryoSleepPercentage'] = Weltiest_Deck['CryoSleep'] / Weltiest_Deck['PassengerId']\n",
    "Weltiest_Deck = Weltiest_Deck.sort_values('AvgSpended', ascending = False)\n",
    "Weltiest_Deck.head(10)"
   ]
  },
  {
   "cell_type": "code",
   "execution_count": 225,
   "metadata": {},
   "outputs": [],
   "source": [
    "trn_data = trn_data.merge(Weltiest_Deck[['CabinDeck', 'TransportedPercentage', 'AvgSpended']], how = 'left', on = ['CabinDeck'])\n",
    "tst_data = tst_data.merge(Weltiest_Deck[['CabinDeck', 'TransportedPercentage', 'AvgSpended']], how = 'left', on = ['CabinDeck'])"
   ]
  },
  {
   "cell_type": "code",
   "execution_count": 226,
   "metadata": {},
   "outputs": [
    {
     "data": {
      "text/html": "<div>\n<style scoped>\n    .dataframe tbody tr th:only-of-type {\n        vertical-align: middle;\n    }\n\n    .dataframe tbody tr th {\n        vertical-align: top;\n    }\n\n    .dataframe thead th {\n        text-align: right;\n    }\n</style>\n<table border=\"1\" class=\"dataframe\">\n  <thead>\n    <tr style=\"text-align: right;\">\n      <th></th>\n      <th>FamilyName</th>\n      <th>PassengerId</th>\n    </tr>\n  </thead>\n  <tbody>\n    <tr>\n      <th>0</th>\n      <td>Acobson</td>\n      <td>4</td>\n    </tr>\n    <tr>\n      <th>1</th>\n      <td>Acobsond</td>\n      <td>3</td>\n    </tr>\n    <tr>\n      <th>2</th>\n      <td>Adavisons</td>\n      <td>9</td>\n    </tr>\n    <tr>\n      <th>3</th>\n      <td>Adkinson</td>\n      <td>3</td>\n    </tr>\n    <tr>\n      <th>4</th>\n      <td>Admingried</td>\n      <td>4</td>\n    </tr>\n    <tr>\n      <th>5</th>\n      <td>Ageurante</td>\n      <td>1</td>\n    </tr>\n    <tr>\n      <th>6</th>\n      <td>Aginge</td>\n      <td>1</td>\n    </tr>\n    <tr>\n      <th>7</th>\n      <td>Ailled</td>\n      <td>2</td>\n    </tr>\n    <tr>\n      <th>8</th>\n      <td>Aillyber</td>\n      <td>3</td>\n    </tr>\n    <tr>\n      <th>9</th>\n      <td>Aiming</td>\n      <td>1</td>\n    </tr>\n  </tbody>\n</table>\n</div>",
      "text/plain": "   FamilyName  PassengerId\n0     Acobson            4\n1    Acobsond            3\n2   Adavisons            9\n3    Adkinson            3\n4  Admingried            4\n5   Ageurante            1\n6      Aginge            1\n7      Ailled            2\n8    Aillyber            3\n9      Aiming            1"
     },
     "execution_count": 226,
     "metadata": {},
     "output_type": "execute_result"
    }
   ],
   "source": [
    "trn_relatives = trn_data.groupby('FamilyName')['PassengerId'].count().reset_index()\n",
    "tst_relatives = tst_data.groupby('FamilyName')['PassengerId'].count().reset_index()\n",
    "trn_relatives.head(10)"
   ]
  },
  {
   "cell_type": "code",
   "execution_count": 227,
   "metadata": {},
   "outputs": [],
   "source": [
    "trn_relatives = trn_relatives.rename(columns = {'PassengerId': 'NumRelatives'})\n",
    "tst_relatives = tst_relatives.rename(columns = {'PassengerId': 'NumRelatives'})\n",
    "\n",
    "trn_data = trn_data.merge(trn_relatives[['FamilyName', 'NumRelatives']], how = 'left', on = ['FamilyName'])\n",
    "tst_data = tst_data.merge(tst_relatives[['FamilyName', 'NumRelatives']], how = 'left', on = ['FamilyName'])"
   ]
  },
  {
   "cell_type": "code",
   "execution_count": 228,
   "metadata": {},
   "outputs": [],
   "source": [
    "trn_relatives = trn_data.groupby('TravelGroup')['PassengerId'].count().reset_index()\n",
    "tst_relatives = tst_data.groupby('TravelGroup')['PassengerId'].count().reset_index()\n",
    "\n",
    "trn_relatives = trn_relatives.rename(columns = {'PassengerId': 'GroupSize'})\n",
    "tst_relatives = tst_relatives.rename(columns = {'PassengerId': 'GroupSize'})\n",
    "\n",
    "trn_data = trn_data.merge(trn_relatives[['TravelGroup', 'GroupSize']], how = 'left', on = ['TravelGroup'])\n",
    "tst_data = tst_data.merge(tst_relatives[['TravelGroup', 'GroupSize']], how = 'left', on = ['TravelGroup'])"
   ]
  },
  {
   "cell_type": "code",
   "execution_count": 229,
   "metadata": {},
   "outputs": [],
   "source": [
    "# A list of the original variables from the dataset\n",
    "numerical_features = [\n",
    "                      'Age', \n",
    "                      'RoomService', \n",
    "                      'FoodCourt', \n",
    "                      'ShoppingMall', \n",
    "                      'Spa', \n",
    "                      'VRDeck', \n",
    "                      'TotalBilled'\n",
    "                     ]\n",
    "\n",
    "categorical_features = [\n",
    "                        #'Name',\n",
    "                        'FirstName',\n",
    "                        'FamilyName',\n",
    "                        'CabinNum',\n",
    "                        'TravelGroup',\n",
    "                        'AgeGroup'\n",
    "                       ]\n",
    "\n",
    "\n",
    "categorical_features_onehot = [\n",
    "                               'HomePlanet',\n",
    "                               'CryoSleep',\n",
    "                               #'Cabin',\n",
    "                               'CabinDeck',\n",
    "                               'CabinSide',\n",
    "                               'Destination',\n",
    "                               'VIP',\n",
    "                               #'AgeGroup'\n",
    "                               ]\n",
    "\n",
    "target_feature = 'Transported'"
   ]
  },
  {
   "cell_type": "code",
   "execution_count": 230,
   "metadata": {},
   "outputs": [
    {
     "name": "stdout",
     "output_type": "stream",
     "text": [
      "Encoding:  FirstName ...\n",
      "Encoding:  FamilyName ...\n",
      "Encoding:  CabinNum ...\n",
      "Encoding:  TravelGroup ...\n",
      "Encoding:  AgeGroup ...\n"
     ]
    }
   ],
   "source": [
    "from sklearn.preprocessing import LabelEncoder \n",
    "def encode_categorical(train_df, test_df, categ_feat = categorical_features):\n",
    "    '''\n",
    "    \n",
    "    '''\n",
    "    encoder_dict = {}\n",
    "    \n",
    "    concat_data = pd.concat([trn_data[categ_feat], tst_data[categ_feat]])\n",
    "    \n",
    "    for col in concat_data.columns:\n",
    "        print('Encoding: ', col, '...')\n",
    "        encoder = LabelEncoder()\n",
    "        encoder.fit(concat_data[col])\n",
    "        encoder_dict[col] = encoder\n",
    "\n",
    "        train_df[col + '_Enc'] = encoder.transform(train_df[col])\n",
    "        test_df[col + '_Enc'] = encoder.transform(test_df[col])\n",
    "    \n",
    "    train_df = train_df.drop(columns = categ_feat, axis = 1)\n",
    "    test_df = test_df.drop(columns = categ_feat, axis = 1)\n",
    "\n",
    "    return train_df, test_df\n",
    "\n",
    "trn_data, tst_data = encode_categorical(trn_data, tst_data, categorical_features)\n",
    "\n",
    "\n"
   ]
  },
  {
   "cell_type": "code",
   "execution_count": 231,
   "metadata": {},
   "outputs": [
    {
     "data": {
      "text/html": "<div>\n<style scoped>\n    .dataframe tbody tr th:only-of-type {\n        vertical-align: middle;\n    }\n\n    .dataframe tbody tr th {\n        vertical-align: top;\n    }\n\n    .dataframe thead th {\n        text-align: right;\n    }\n</style>\n<table border=\"1\" class=\"dataframe\">\n  <thead>\n    <tr style=\"text-align: right;\">\n      <th></th>\n      <th>PassengerId</th>\n      <th>Age</th>\n      <th>RoomService</th>\n      <th>FoodCourt</th>\n      <th>ShoppingMall</th>\n      <th>Spa</th>\n      <th>VRDeck</th>\n      <th>Transported</th>\n      <th>TotalBilled</th>\n      <th>TransportedPercentage</th>\n      <th>AvgSpended</th>\n      <th>NumRelatives</th>\n      <th>GroupSize</th>\n      <th>FirstName_Enc</th>\n      <th>FamilyName_Enc</th>\n      <th>CabinNum_Enc</th>\n      <th>TravelGroup_Enc</th>\n      <th>AgeGroup_Enc</th>\n      <th>HomePlanet_Earth</th>\n      <th>HomePlanet_Europa</th>\n      <th>HomePlanet_Mars</th>\n      <th>CryoSleep_False</th>\n      <th>CryoSleep_True</th>\n      <th>CabinDeck_A</th>\n      <th>CabinDeck_B</th>\n      <th>CabinDeck_C</th>\n      <th>CabinDeck_D</th>\n      <th>CabinDeck_E</th>\n      <th>CabinDeck_F</th>\n      <th>CabinDeck_G</th>\n      <th>CabinDeck_T</th>\n      <th>CabinSide_P</th>\n      <th>CabinSide_S</th>\n      <th>Destination_55 Cancri e</th>\n      <th>Destination_PSO J318.5-22</th>\n      <th>Destination_TRAPPIST-1e</th>\n      <th>VIP_False</th>\n      <th>VIP_True</th>\n    </tr>\n  </thead>\n  <tbody>\n    <tr>\n      <th>0</th>\n      <td>0001_01</td>\n      <td>39.0</td>\n      <td>0.0</td>\n      <td>0.0</td>\n      <td>0.0</td>\n      <td>0.0</td>\n      <td>0.0</td>\n      <td>False</td>\n      <td>0.0</td>\n      <td>0.734275</td>\n      <td>2935.529927</td>\n      <td>1</td>\n      <td>1</td>\n      <td>1708</td>\n      <td>1551</td>\n      <td>0</td>\n      <td>0</td>\n      <td>1</td>\n      <td>0</td>\n      <td>1</td>\n      <td>0</td>\n      <td>1</td>\n      <td>0</td>\n      <td>0</td>\n      <td>1</td>\n      <td>0</td>\n      <td>0</td>\n      <td>0</td>\n      <td>0</td>\n      <td>0</td>\n      <td>0</td>\n      <td>1</td>\n      <td>0</td>\n      <td>0</td>\n      <td>0</td>\n      <td>1</td>\n      <td>1</td>\n      <td>0</td>\n    </tr>\n    <tr>\n      <th>1</th>\n      <td>0002_01</td>\n      <td>24.0</td>\n      <td>109.0</td>\n      <td>9.0</td>\n      <td>25.0</td>\n      <td>549.0</td>\n      <td>44.0</td>\n      <td>True</td>\n      <td>736.0</td>\n      <td>0.439871</td>\n      <td>1007.952687</td>\n      <td>4</td>\n      <td>1</td>\n      <td>1493</td>\n      <td>2289</td>\n      <td>0</td>\n      <td>1</td>\n      <td>1</td>\n      <td>1</td>\n      <td>0</td>\n      <td>0</td>\n      <td>1</td>\n      <td>0</td>\n      <td>0</td>\n      <td>0</td>\n      <td>0</td>\n      <td>0</td>\n      <td>0</td>\n      <td>1</td>\n      <td>0</td>\n      <td>0</td>\n      <td>0</td>\n      <td>1</td>\n      <td>0</td>\n      <td>0</td>\n      <td>1</td>\n      <td>1</td>\n      <td>0</td>\n    </tr>\n    <tr>\n      <th>2</th>\n      <td>0003_01</td>\n      <td>58.0</td>\n      <td>43.0</td>\n      <td>3576.0</td>\n      <td>0.0</td>\n      <td>6715.0</td>\n      <td>49.0</td>\n      <td>False</td>\n      <td>10383.0</td>\n      <td>0.496094</td>\n      <td>3411.966602</td>\n      <td>6</td>\n      <td>2</td>\n      <td>170</td>\n      <td>2153</td>\n      <td>0</td>\n      <td>2</td>\n      <td>1</td>\n      <td>0</td>\n      <td>1</td>\n      <td>0</td>\n      <td>1</td>\n      <td>0</td>\n      <td>1</td>\n      <td>0</td>\n      <td>0</td>\n      <td>0</td>\n      <td>0</td>\n      <td>0</td>\n      <td>0</td>\n      <td>0</td>\n      <td>0</td>\n      <td>1</td>\n      <td>0</td>\n      <td>0</td>\n      <td>1</td>\n      <td>0</td>\n      <td>1</td>\n    </tr>\n    <tr>\n      <th>3</th>\n      <td>0003_02</td>\n      <td>33.0</td>\n      <td>0.0</td>\n      <td>1283.0</td>\n      <td>371.0</td>\n      <td>3329.0</td>\n      <td>193.0</td>\n      <td>False</td>\n      <td>5176.0</td>\n      <td>0.496094</td>\n      <td>3411.966602</td>\n      <td>6</td>\n      <td>2</td>\n      <td>2424</td>\n      <td>2153</td>\n      <td>0</td>\n      <td>2</td>\n      <td>1</td>\n      <td>0</td>\n      <td>1</td>\n      <td>0</td>\n      <td>1</td>\n      <td>0</td>\n      <td>1</td>\n      <td>0</td>\n      <td>0</td>\n      <td>0</td>\n      <td>0</td>\n      <td>0</td>\n      <td>0</td>\n      <td>0</td>\n      <td>0</td>\n      <td>1</td>\n      <td>0</td>\n      <td>0</td>\n      <td>1</td>\n      <td>1</td>\n      <td>0</td>\n    </tr>\n    <tr>\n      <th>4</th>\n      <td>0004_01</td>\n      <td>16.0</td>\n      <td>303.0</td>\n      <td>70.0</td>\n      <td>151.0</td>\n      <td>565.0</td>\n      <td>2.0</td>\n      <td>True</td>\n      <td>1091.0</td>\n      <td>0.439871</td>\n      <td>1007.952687</td>\n      <td>6</td>\n      <td>1</td>\n      <td>2815</td>\n      <td>1924</td>\n      <td>1</td>\n      <td>3</td>\n      <td>1</td>\n      <td>1</td>\n      <td>0</td>\n      <td>0</td>\n      <td>1</td>\n      <td>0</td>\n      <td>0</td>\n      <td>0</td>\n      <td>0</td>\n      <td>0</td>\n      <td>0</td>\n      <td>1</td>\n      <td>0</td>\n      <td>0</td>\n      <td>0</td>\n      <td>1</td>\n      <td>0</td>\n      <td>0</td>\n      <td>1</td>\n      <td>1</td>\n      <td>0</td>\n    </tr>\n  </tbody>\n</table>\n</div>",
      "text/plain": "  PassengerId   Age  RoomService  FoodCourt  ShoppingMall     Spa  VRDeck  \\\n0     0001_01  39.0          0.0        0.0           0.0     0.0     0.0   \n1     0002_01  24.0        109.0        9.0          25.0   549.0    44.0   \n2     0003_01  58.0         43.0     3576.0           0.0  6715.0    49.0   \n3     0003_02  33.0          0.0     1283.0         371.0  3329.0   193.0   \n4     0004_01  16.0        303.0       70.0         151.0   565.0     2.0   \n\n   Transported  TotalBilled  TransportedPercentage   AvgSpended  NumRelatives  \\\n0        False          0.0               0.734275  2935.529927             1   \n1         True        736.0               0.439871  1007.952687             4   \n2        False      10383.0               0.496094  3411.966602             6   \n3        False       5176.0               0.496094  3411.966602             6   \n4         True       1091.0               0.439871  1007.952687             6   \n\n   GroupSize  FirstName_Enc  FamilyName_Enc  CabinNum_Enc  TravelGroup_Enc  \\\n0          1           1708            1551             0                0   \n1          1           1493            2289             0                1   \n2          2            170            2153             0                2   \n3          2           2424            2153             0                2   \n4          1           2815            1924             1                3   \n\n   AgeGroup_Enc  HomePlanet_Earth  HomePlanet_Europa  HomePlanet_Mars  \\\n0             1                 0                  1                0   \n1             1                 1                  0                0   \n2             1                 0                  1                0   \n3             1                 0                  1                0   \n4             1                 1                  0                0   \n\n   CryoSleep_False  CryoSleep_True  CabinDeck_A  CabinDeck_B  CabinDeck_C  \\\n0                1               0            0            1            0   \n1                1               0            0            0            0   \n2                1               0            1            0            0   \n3                1               0            1            0            0   \n4                1               0            0            0            0   \n\n   CabinDeck_D  CabinDeck_E  CabinDeck_F  CabinDeck_G  CabinDeck_T  \\\n0            0            0            0            0            0   \n1            0            0            1            0            0   \n2            0            0            0            0            0   \n3            0            0            0            0            0   \n4            0            0            1            0            0   \n\n   CabinSide_P  CabinSide_S  Destination_55 Cancri e  \\\n0            1            0                        0   \n1            0            1                        0   \n2            0            1                        0   \n3            0            1                        0   \n4            0            1                        0   \n\n   Destination_PSO J318.5-22  Destination_TRAPPIST-1e  VIP_False  VIP_True  \n0                          0                        1          1         0  \n1                          0                        1          1         0  \n2                          0                        1          0         1  \n3                          0                        1          1         0  \n4                          0                        1          1         0  "
     },
     "execution_count": 231,
     "metadata": {},
     "output_type": "execute_result"
    }
   ],
   "source": [
    "def one_hot(df, one_hot_categ):\n",
    "    for col in one_hot_categ:\n",
    "        tmp = pd.get_dummies(df[col], prefix = col)\n",
    "        df = pd.concat([df, tmp], axis = 1)\n",
    "    df = df.drop(columns = one_hot_categ)\n",
    "    return df\n",
    "\n",
    "\n",
    "def encode_numerical(df, categ_feat = numerical_features):\n",
    "    for col in categ_feat:\n",
    "        df[col] = df[col].astype('float')\n",
    "    return df\n",
    "\n",
    "\n",
    "trn_data = encode_numerical(trn_data) \n",
    "tst_data = encode_numerical(tst_data)     \n",
    "\n",
    "\n",
    "trn_data = one_hot(trn_data, categorical_features_onehot) \n",
    "tst_data = one_hot(tst_data, categorical_features_onehot)     \n",
    "\n",
    "trn_data.head()"
   ]
  },
  {
   "cell_type": "code",
   "execution_count": 232,
   "metadata": {},
   "outputs": [],
   "source": [
    "# lables, unique = trn_data['FamilyName'].factorize()\n",
    "# trn_data['FamilyName'] = lables\n",
    "# lables, unique = tst_data['FamilyName'].factorize()\n",
    "# tst_data['FamilyName'] = lables"
   ]
  },
  {
   "cell_type": "code",
   "execution_count": 233,
   "metadata": {},
   "outputs": [
    {
     "data": {
      "text/html": "<div>\n<style scoped>\n    .dataframe tbody tr th:only-of-type {\n        vertical-align: middle;\n    }\n\n    .dataframe tbody tr th {\n        vertical-align: top;\n    }\n\n    .dataframe thead th {\n        text-align: right;\n    }\n</style>\n<table border=\"1\" class=\"dataframe\">\n  <thead>\n    <tr style=\"text-align: right;\">\n      <th></th>\n      <th>PassengerId</th>\n      <th>Age</th>\n      <th>RoomService</th>\n      <th>FoodCourt</th>\n      <th>ShoppingMall</th>\n      <th>Spa</th>\n      <th>VRDeck</th>\n      <th>Transported</th>\n      <th>TotalBilled</th>\n      <th>TransportedPercentage</th>\n      <th>AvgSpended</th>\n      <th>NumRelatives</th>\n      <th>GroupSize</th>\n      <th>FirstName_Enc</th>\n      <th>FamilyName_Enc</th>\n      <th>CabinNum_Enc</th>\n      <th>TravelGroup_Enc</th>\n      <th>AgeGroup_Enc</th>\n      <th>HomePlanet_Earth</th>\n      <th>HomePlanet_Europa</th>\n      <th>HomePlanet_Mars</th>\n      <th>CryoSleep_False</th>\n      <th>CryoSleep_True</th>\n      <th>CabinDeck_A</th>\n      <th>CabinDeck_B</th>\n      <th>CabinDeck_C</th>\n      <th>CabinDeck_D</th>\n      <th>CabinDeck_E</th>\n      <th>CabinDeck_F</th>\n      <th>CabinDeck_G</th>\n      <th>CabinDeck_T</th>\n      <th>CabinSide_P</th>\n      <th>CabinSide_S</th>\n      <th>Destination_55 Cancri e</th>\n      <th>Destination_PSO J318.5-22</th>\n      <th>Destination_TRAPPIST-1e</th>\n      <th>VIP_False</th>\n      <th>VIP_True</th>\n    </tr>\n  </thead>\n  <tbody>\n    <tr>\n      <th>0</th>\n      <td>0001_01</td>\n      <td>39.0</td>\n      <td>0.0</td>\n      <td>0.0</td>\n      <td>0.0</td>\n      <td>0.0</td>\n      <td>0.0</td>\n      <td>False</td>\n      <td>0.0</td>\n      <td>0.734275</td>\n      <td>2935.529927</td>\n      <td>1</td>\n      <td>1</td>\n      <td>1708</td>\n      <td>1551</td>\n      <td>0</td>\n      <td>0</td>\n      <td>1</td>\n      <td>0</td>\n      <td>1</td>\n      <td>0</td>\n      <td>1</td>\n      <td>0</td>\n      <td>0</td>\n      <td>1</td>\n      <td>0</td>\n      <td>0</td>\n      <td>0</td>\n      <td>0</td>\n      <td>0</td>\n      <td>0</td>\n      <td>1</td>\n      <td>0</td>\n      <td>0</td>\n      <td>0</td>\n      <td>1</td>\n      <td>1</td>\n      <td>0</td>\n    </tr>\n    <tr>\n      <th>1</th>\n      <td>0002_01</td>\n      <td>24.0</td>\n      <td>109.0</td>\n      <td>9.0</td>\n      <td>25.0</td>\n      <td>549.0</td>\n      <td>44.0</td>\n      <td>True</td>\n      <td>736.0</td>\n      <td>0.439871</td>\n      <td>1007.952687</td>\n      <td>4</td>\n      <td>1</td>\n      <td>1493</td>\n      <td>2289</td>\n      <td>0</td>\n      <td>1</td>\n      <td>1</td>\n      <td>1</td>\n      <td>0</td>\n      <td>0</td>\n      <td>1</td>\n      <td>0</td>\n      <td>0</td>\n      <td>0</td>\n      <td>0</td>\n      <td>0</td>\n      <td>0</td>\n      <td>1</td>\n      <td>0</td>\n      <td>0</td>\n      <td>0</td>\n      <td>1</td>\n      <td>0</td>\n      <td>0</td>\n      <td>1</td>\n      <td>1</td>\n      <td>0</td>\n    </tr>\n    <tr>\n      <th>2</th>\n      <td>0003_01</td>\n      <td>58.0</td>\n      <td>43.0</td>\n      <td>3576.0</td>\n      <td>0.0</td>\n      <td>6715.0</td>\n      <td>49.0</td>\n      <td>False</td>\n      <td>10383.0</td>\n      <td>0.496094</td>\n      <td>3411.966602</td>\n      <td>6</td>\n      <td>2</td>\n      <td>170</td>\n      <td>2153</td>\n      <td>0</td>\n      <td>2</td>\n      <td>1</td>\n      <td>0</td>\n      <td>1</td>\n      <td>0</td>\n      <td>1</td>\n      <td>0</td>\n      <td>1</td>\n      <td>0</td>\n      <td>0</td>\n      <td>0</td>\n      <td>0</td>\n      <td>0</td>\n      <td>0</td>\n      <td>0</td>\n      <td>0</td>\n      <td>1</td>\n      <td>0</td>\n      <td>0</td>\n      <td>1</td>\n      <td>0</td>\n      <td>1</td>\n    </tr>\n    <tr>\n      <th>3</th>\n      <td>0003_02</td>\n      <td>33.0</td>\n      <td>0.0</td>\n      <td>1283.0</td>\n      <td>371.0</td>\n      <td>3329.0</td>\n      <td>193.0</td>\n      <td>False</td>\n      <td>5176.0</td>\n      <td>0.496094</td>\n      <td>3411.966602</td>\n      <td>6</td>\n      <td>2</td>\n      <td>2424</td>\n      <td>2153</td>\n      <td>0</td>\n      <td>2</td>\n      <td>1</td>\n      <td>0</td>\n      <td>1</td>\n      <td>0</td>\n      <td>1</td>\n      <td>0</td>\n      <td>1</td>\n      <td>0</td>\n      <td>0</td>\n      <td>0</td>\n      <td>0</td>\n      <td>0</td>\n      <td>0</td>\n      <td>0</td>\n      <td>0</td>\n      <td>1</td>\n      <td>0</td>\n      <td>0</td>\n      <td>1</td>\n      <td>1</td>\n      <td>0</td>\n    </tr>\n    <tr>\n      <th>4</th>\n      <td>0004_01</td>\n      <td>16.0</td>\n      <td>303.0</td>\n      <td>70.0</td>\n      <td>151.0</td>\n      <td>565.0</td>\n      <td>2.0</td>\n      <td>True</td>\n      <td>1091.0</td>\n      <td>0.439871</td>\n      <td>1007.952687</td>\n      <td>6</td>\n      <td>1</td>\n      <td>2815</td>\n      <td>1924</td>\n      <td>1</td>\n      <td>3</td>\n      <td>1</td>\n      <td>1</td>\n      <td>0</td>\n      <td>0</td>\n      <td>1</td>\n      <td>0</td>\n      <td>0</td>\n      <td>0</td>\n      <td>0</td>\n      <td>0</td>\n      <td>0</td>\n      <td>1</td>\n      <td>0</td>\n      <td>0</td>\n      <td>0</td>\n      <td>1</td>\n      <td>0</td>\n      <td>0</td>\n      <td>1</td>\n      <td>1</td>\n      <td>0</td>\n    </tr>\n  </tbody>\n</table>\n</div>",
      "text/plain": "  PassengerId   Age  RoomService  FoodCourt  ShoppingMall     Spa  VRDeck  \\\n0     0001_01  39.0          0.0        0.0           0.0     0.0     0.0   \n1     0002_01  24.0        109.0        9.0          25.0   549.0    44.0   \n2     0003_01  58.0         43.0     3576.0           0.0  6715.0    49.0   \n3     0003_02  33.0          0.0     1283.0         371.0  3329.0   193.0   \n4     0004_01  16.0        303.0       70.0         151.0   565.0     2.0   \n\n   Transported  TotalBilled  TransportedPercentage   AvgSpended  NumRelatives  \\\n0        False          0.0               0.734275  2935.529927             1   \n1         True        736.0               0.439871  1007.952687             4   \n2        False      10383.0               0.496094  3411.966602             6   \n3        False       5176.0               0.496094  3411.966602             6   \n4         True       1091.0               0.439871  1007.952687             6   \n\n   GroupSize  FirstName_Enc  FamilyName_Enc  CabinNum_Enc  TravelGroup_Enc  \\\n0          1           1708            1551             0                0   \n1          1           1493            2289             0                1   \n2          2            170            2153             0                2   \n3          2           2424            2153             0                2   \n4          1           2815            1924             1                3   \n\n   AgeGroup_Enc  HomePlanet_Earth  HomePlanet_Europa  HomePlanet_Mars  \\\n0             1                 0                  1                0   \n1             1                 1                  0                0   \n2             1                 0                  1                0   \n3             1                 0                  1                0   \n4             1                 1                  0                0   \n\n   CryoSleep_False  CryoSleep_True  CabinDeck_A  CabinDeck_B  CabinDeck_C  \\\n0                1               0            0            1            0   \n1                1               0            0            0            0   \n2                1               0            1            0            0   \n3                1               0            1            0            0   \n4                1               0            0            0            0   \n\n   CabinDeck_D  CabinDeck_E  CabinDeck_F  CabinDeck_G  CabinDeck_T  \\\n0            0            0            0            0            0   \n1            0            0            1            0            0   \n2            0            0            0            0            0   \n3            0            0            0            0            0   \n4            0            0            1            0            0   \n\n   CabinSide_P  CabinSide_S  Destination_55 Cancri e  \\\n0            1            0                        0   \n1            0            1                        0   \n2            0            1                        0   \n3            0            1                        0   \n4            0            1                        0   \n\n   Destination_PSO J318.5-22  Destination_TRAPPIST-1e  VIP_False  VIP_True  \n0                          0                        1          1         0  \n1                          0                        1          1         0  \n2                          0                        1          0         1  \n3                          0                        1          1         0  \n4                          0                        1          1         0  "
     },
     "execution_count": 233,
     "metadata": {},
     "output_type": "execute_result"
    }
   ],
   "source": [
    "trn_data.head()"
   ]
  },
  {
   "cell_type": "code",
   "execution_count": 234,
   "metadata": {},
   "outputs": [
    {
     "data": {
      "text/plain": "['Age',\n 'RoomService',\n 'FoodCourt',\n 'ShoppingMall',\n 'Spa',\n 'VRDeck',\n 'TotalBilled',\n 'AvgSpended',\n 'NumRelatives',\n 'GroupSize',\n 'FamilyName_Enc',\n 'CabinNum_Enc',\n 'TravelGroup_Enc',\n 'AgeGroup_Enc',\n 'HomePlanet_Earth',\n 'HomePlanet_Europa',\n 'HomePlanet_Mars',\n 'CryoSleep_False',\n 'CryoSleep_True',\n 'CabinDeck_A',\n 'CabinDeck_B',\n 'CabinDeck_C',\n 'CabinDeck_D',\n 'CabinDeck_E',\n 'CabinDeck_F',\n 'CabinDeck_G',\n 'CabinDeck_T',\n 'CabinSide_P',\n 'CabinSide_S',\n 'Destination_55 Cancri e',\n 'Destination_PSO J318.5-22',\n 'Destination_TRAPPIST-1e',\n 'VIP_False',\n 'VIP_True']"
     },
     "execution_count": 234,
     "metadata": {},
     "output_type": "execute_result"
    }
   ],
   "source": [
    "remove = ['PassengerId', \n",
    "          'Route', \n",
    "          'FirstName_Enc', \n",
    "          #'CabinNum_Enc', \n",
    "          'Transported',\n",
    "          'Cabin',\n",
    "          'TransportedPercentage',\n",
    "          #'IsKid', \n",
    "          #'IsAdult', \n",
    "          #'IsOlder'\n",
    "          #'RoomService',\n",
    "          #'FoodCourt',\n",
    "          #'ShoppingMall',\n",
    "          #'Spa',\n",
    "          #'VRDeck',\n",
    "         ]\n",
    "features = [feat for feat in trn_data.columns if feat not in remove]\n",
    "features"
   ]
  },
  {
   "cell_type": "code",
   "execution_count": 235,
   "metadata": {},
   "outputs": [],
   "source": [
    "X_array = trn_data[features].to_numpy()\n",
    "y_array = trn_data['Transported'].to_numpy()\n",
    "X_test_array = tst_data[features].to_numpy()"
   ]
  },
  {
   "cell_type": "code",
   "execution_count": 236,
   "metadata": {},
   "outputs": [],
   "source": [
    "from gokinjo import knn_kfold_extract\n",
    "from gokinjo import knn_extract\n",
    "\n",
    "KNN_trn_features = knn_kfold_extract(X_array, y_array, k = 2, normalize = 'standard')"
   ]
  },
  {
   "cell_type": "code",
   "execution_count": 237,
   "metadata": {},
   "outputs": [
    {
     "data": {
      "text/html": "<div>\n<style scoped>\n    .dataframe tbody tr th:only-of-type {\n        vertical-align: middle;\n    }\n\n    .dataframe tbody tr th {\n        vertical-align: top;\n    }\n\n    .dataframe thead th {\n        text-align: right;\n    }\n</style>\n<table border=\"1\" class=\"dataframe\">\n  <thead>\n    <tr style=\"text-align: right;\">\n      <th></th>\n      <th>PassengerId</th>\n      <th>Age</th>\n      <th>RoomService</th>\n      <th>FoodCourt</th>\n      <th>ShoppingMall</th>\n      <th>Spa</th>\n      <th>VRDeck</th>\n      <th>Transported</th>\n      <th>TotalBilled</th>\n      <th>TransportedPercentage</th>\n      <th>AvgSpended</th>\n      <th>NumRelatives</th>\n      <th>GroupSize</th>\n      <th>FirstName_Enc</th>\n      <th>FamilyName_Enc</th>\n      <th>CabinNum_Enc</th>\n      <th>TravelGroup_Enc</th>\n      <th>AgeGroup_Enc</th>\n      <th>HomePlanet_Earth</th>\n      <th>HomePlanet_Europa</th>\n      <th>HomePlanet_Mars</th>\n      <th>CryoSleep_False</th>\n      <th>CryoSleep_True</th>\n      <th>CabinDeck_A</th>\n      <th>CabinDeck_B</th>\n      <th>CabinDeck_C</th>\n      <th>CabinDeck_D</th>\n      <th>CabinDeck_E</th>\n      <th>CabinDeck_F</th>\n      <th>CabinDeck_G</th>\n      <th>CabinDeck_T</th>\n      <th>CabinSide_P</th>\n      <th>CabinSide_S</th>\n      <th>Destination_55 Cancri e</th>\n      <th>Destination_PSO J318.5-22</th>\n      <th>Destination_TRAPPIST-1e</th>\n      <th>VIP_False</th>\n      <th>VIP_True</th>\n      <th>KNN_K1_01</th>\n      <th>KNN_K1_02</th>\n      <th>KNN_K2_01</th>\n      <th>KNN_K2_02</th>\n    </tr>\n  </thead>\n  <tbody>\n    <tr>\n      <th>0</th>\n      <td>0001_01</td>\n      <td>39.0</td>\n      <td>0.0</td>\n      <td>0.0</td>\n      <td>0.0</td>\n      <td>0.0</td>\n      <td>0.0</td>\n      <td>False</td>\n      <td>0.0</td>\n      <td>0.734275</td>\n      <td>2935.529927</td>\n      <td>1</td>\n      <td>1</td>\n      <td>1708</td>\n      <td>1551</td>\n      <td>0</td>\n      <td>0</td>\n      <td>1</td>\n      <td>0</td>\n      <td>1</td>\n      <td>0</td>\n      <td>1</td>\n      <td>0</td>\n      <td>0</td>\n      <td>1</td>\n      <td>0</td>\n      <td>0</td>\n      <td>0</td>\n      <td>0</td>\n      <td>0</td>\n      <td>0</td>\n      <td>1</td>\n      <td>0</td>\n      <td>0</td>\n      <td>0</td>\n      <td>1</td>\n      <td>1</td>\n      <td>0</td>\n      <td>1.665760</td>\n      <td>3.665677</td>\n      <td>2.571035</td>\n      <td>5.606894</td>\n    </tr>\n    <tr>\n      <th>1</th>\n      <td>0002_01</td>\n      <td>24.0</td>\n      <td>109.0</td>\n      <td>9.0</td>\n      <td>25.0</td>\n      <td>549.0</td>\n      <td>44.0</td>\n      <td>True</td>\n      <td>736.0</td>\n      <td>0.439871</td>\n      <td>1007.952687</td>\n      <td>4</td>\n      <td>1</td>\n      <td>1493</td>\n      <td>2289</td>\n      <td>0</td>\n      <td>1</td>\n      <td>1</td>\n      <td>1</td>\n      <td>0</td>\n      <td>0</td>\n      <td>1</td>\n      <td>0</td>\n      <td>0</td>\n      <td>0</td>\n      <td>0</td>\n      <td>0</td>\n      <td>0</td>\n      <td>1</td>\n      <td>0</td>\n      <td>0</td>\n      <td>0</td>\n      <td>1</td>\n      <td>0</td>\n      <td>0</td>\n      <td>1</td>\n      <td>1</td>\n      <td>0</td>\n      <td>1.414737</td>\n      <td>3.014986</td>\n      <td>0.861772</td>\n      <td>2.059607</td>\n    </tr>\n    <tr>\n      <th>2</th>\n      <td>0003_01</td>\n      <td>58.0</td>\n      <td>43.0</td>\n      <td>3576.0</td>\n      <td>0.0</td>\n      <td>6715.0</td>\n      <td>49.0</td>\n      <td>False</td>\n      <td>10383.0</td>\n      <td>0.496094</td>\n      <td>3411.966602</td>\n      <td>6</td>\n      <td>2</td>\n      <td>170</td>\n      <td>2153</td>\n      <td>0</td>\n      <td>2</td>\n      <td>1</td>\n      <td>0</td>\n      <td>1</td>\n      <td>0</td>\n      <td>1</td>\n      <td>0</td>\n      <td>1</td>\n      <td>0</td>\n      <td>0</td>\n      <td>0</td>\n      <td>0</td>\n      <td>0</td>\n      <td>0</td>\n      <td>0</td>\n      <td>0</td>\n      <td>1</td>\n      <td>0</td>\n      <td>0</td>\n      <td>1</td>\n      <td>0</td>\n      <td>1</td>\n      <td>4.677560</td>\n      <td>11.331706</td>\n      <td>7.292525</td>\n      <td>15.384270</td>\n    </tr>\n    <tr>\n      <th>3</th>\n      <td>0003_02</td>\n      <td>33.0</td>\n      <td>0.0</td>\n      <td>1283.0</td>\n      <td>371.0</td>\n      <td>3329.0</td>\n      <td>193.0</td>\n      <td>False</td>\n      <td>5176.0</td>\n      <td>0.496094</td>\n      <td>3411.966602</td>\n      <td>6</td>\n      <td>2</td>\n      <td>2424</td>\n      <td>2153</td>\n      <td>0</td>\n      <td>2</td>\n      <td>1</td>\n      <td>0</td>\n      <td>1</td>\n      <td>0</td>\n      <td>1</td>\n      <td>0</td>\n      <td>1</td>\n      <td>0</td>\n      <td>0</td>\n      <td>0</td>\n      <td>0</td>\n      <td>0</td>\n      <td>0</td>\n      <td>0</td>\n      <td>0</td>\n      <td>1</td>\n      <td>0</td>\n      <td>0</td>\n      <td>1</td>\n      <td>1</td>\n      <td>0</td>\n      <td>2.189934</td>\n      <td>5.685515</td>\n      <td>3.709621</td>\n      <td>7.562104</td>\n    </tr>\n    <tr>\n      <th>4</th>\n      <td>0004_01</td>\n      <td>16.0</td>\n      <td>303.0</td>\n      <td>70.0</td>\n      <td>151.0</td>\n      <td>565.0</td>\n      <td>2.0</td>\n      <td>True</td>\n      <td>1091.0</td>\n      <td>0.439871</td>\n      <td>1007.952687</td>\n      <td>6</td>\n      <td>1</td>\n      <td>2815</td>\n      <td>1924</td>\n      <td>1</td>\n      <td>3</td>\n      <td>1</td>\n      <td>1</td>\n      <td>0</td>\n      <td>0</td>\n      <td>1</td>\n      <td>0</td>\n      <td>0</td>\n      <td>0</td>\n      <td>0</td>\n      <td>0</td>\n      <td>0</td>\n      <td>1</td>\n      <td>0</td>\n      <td>0</td>\n      <td>0</td>\n      <td>1</td>\n      <td>0</td>\n      <td>0</td>\n      <td>1</td>\n      <td>1</td>\n      <td>0</td>\n      <td>0.951504</td>\n      <td>2.716522</td>\n      <td>0.870298</td>\n      <td>2.014727</td>\n    </tr>\n  </tbody>\n</table>\n</div>",
      "text/plain": "  PassengerId   Age  RoomService  FoodCourt  ShoppingMall     Spa  VRDeck  \\\n0     0001_01  39.0          0.0        0.0           0.0     0.0     0.0   \n1     0002_01  24.0        109.0        9.0          25.0   549.0    44.0   \n2     0003_01  58.0         43.0     3576.0           0.0  6715.0    49.0   \n3     0003_02  33.0          0.0     1283.0         371.0  3329.0   193.0   \n4     0004_01  16.0        303.0       70.0         151.0   565.0     2.0   \n\n   Transported  TotalBilled  TransportedPercentage   AvgSpended  NumRelatives  \\\n0        False          0.0               0.734275  2935.529927             1   \n1         True        736.0               0.439871  1007.952687             4   \n2        False      10383.0               0.496094  3411.966602             6   \n3        False       5176.0               0.496094  3411.966602             6   \n4         True       1091.0               0.439871  1007.952687             6   \n\n   GroupSize  FirstName_Enc  FamilyName_Enc  CabinNum_Enc  TravelGroup_Enc  \\\n0          1           1708            1551             0                0   \n1          1           1493            2289             0                1   \n2          2            170            2153             0                2   \n3          2           2424            2153             0                2   \n4          1           2815            1924             1                3   \n\n   AgeGroup_Enc  HomePlanet_Earth  HomePlanet_Europa  HomePlanet_Mars  \\\n0             1                 0                  1                0   \n1             1                 1                  0                0   \n2             1                 0                  1                0   \n3             1                 0                  1                0   \n4             1                 1                  0                0   \n\n   CryoSleep_False  CryoSleep_True  CabinDeck_A  CabinDeck_B  CabinDeck_C  \\\n0                1               0            0            1            0   \n1                1               0            0            0            0   \n2                1               0            1            0            0   \n3                1               0            1            0            0   \n4                1               0            0            0            0   \n\n   CabinDeck_D  CabinDeck_E  CabinDeck_F  CabinDeck_G  CabinDeck_T  \\\n0            0            0            0            0            0   \n1            0            0            1            0            0   \n2            0            0            0            0            0   \n3            0            0            0            0            0   \n4            0            0            1            0            0   \n\n   CabinSide_P  CabinSide_S  Destination_55 Cancri e  \\\n0            1            0                        0   \n1            0            1                        0   \n2            0            1                        0   \n3            0            1                        0   \n4            0            1                        0   \n\n   Destination_PSO J318.5-22  Destination_TRAPPIST-1e  VIP_False  VIP_True  \\\n0                          0                        1          1         0   \n1                          0                        1          1         0   \n2                          0                        1          0         1   \n3                          0                        1          1         0   \n4                          0                        1          1         0   \n\n   KNN_K1_01  KNN_K1_02  KNN_K2_01  KNN_K2_02  \n0   1.665760   3.665677   2.571035   5.606894  \n1   1.414737   3.014986   0.861772   2.059607  \n2   4.677560  11.331706   7.292525  15.384270  \n3   2.189934   5.685515   3.709621   7.562104  \n4   0.951504   2.716522   0.870298   2.014727  "
     },
     "execution_count": 237,
     "metadata": {},
     "output_type": "execute_result"
    }
   ],
   "source": [
    "knn_cols = ['KNN_K1_01',\n",
    "            'KNN_K1_02',\n",
    "            'KNN_K2_01',\n",
    "            'KNN_K2_02']\n",
    "\n",
    "KNN_feat = pd.DataFrame(KNN_trn_features, columns = knn_cols)\n",
    "KNN_feat = pd.DataFrame(KNN_trn_features, columns = knn_cols).set_index(trn_data.index)\n",
    "\n",
    "trn_data = pd.concat([trn_data, KNN_feat], axis = 1)\n",
    "trn_data.head()"
   ]
  },
  {
   "cell_type": "code",
   "execution_count": 238,
   "metadata": {},
   "outputs": [
    {
     "data": {
      "text/html": "<div>\n<style scoped>\n    .dataframe tbody tr th:only-of-type {\n        vertical-align: middle;\n    }\n\n    .dataframe tbody tr th {\n        vertical-align: top;\n    }\n\n    .dataframe thead th {\n        text-align: right;\n    }\n</style>\n<table border=\"1\" class=\"dataframe\">\n  <thead>\n    <tr style=\"text-align: right;\">\n      <th></th>\n      <th>PassengerId</th>\n      <th>Age</th>\n      <th>RoomService</th>\n      <th>FoodCourt</th>\n      <th>ShoppingMall</th>\n      <th>Spa</th>\n      <th>VRDeck</th>\n      <th>TotalBilled</th>\n      <th>TransportedPercentage</th>\n      <th>AvgSpended</th>\n      <th>NumRelatives</th>\n      <th>GroupSize</th>\n      <th>FirstName_Enc</th>\n      <th>FamilyName_Enc</th>\n      <th>CabinNum_Enc</th>\n      <th>TravelGroup_Enc</th>\n      <th>AgeGroup_Enc</th>\n      <th>HomePlanet_Earth</th>\n      <th>HomePlanet_Europa</th>\n      <th>HomePlanet_Mars</th>\n      <th>CryoSleep_False</th>\n      <th>CryoSleep_True</th>\n      <th>CabinDeck_A</th>\n      <th>CabinDeck_B</th>\n      <th>CabinDeck_C</th>\n      <th>CabinDeck_D</th>\n      <th>CabinDeck_E</th>\n      <th>CabinDeck_F</th>\n      <th>CabinDeck_G</th>\n      <th>CabinDeck_T</th>\n      <th>CabinSide_P</th>\n      <th>CabinSide_S</th>\n      <th>Destination_55 Cancri e</th>\n      <th>Destination_PSO J318.5-22</th>\n      <th>Destination_TRAPPIST-1e</th>\n      <th>VIP_False</th>\n      <th>VIP_True</th>\n      <th>KNN_K1_01</th>\n      <th>KNN_K1_02</th>\n      <th>KNN_K2_01</th>\n      <th>KNN_K2_02</th>\n    </tr>\n  </thead>\n  <tbody>\n    <tr>\n      <th>0</th>\n      <td>0013_01</td>\n      <td>27.0</td>\n      <td>0.0</td>\n      <td>0.0</td>\n      <td>0.0</td>\n      <td>0.0</td>\n      <td>0.0</td>\n      <td>0.0</td>\n      <td>0.515228</td>\n      <td>486.454405</td>\n      <td>4</td>\n      <td>1</td>\n      <td>1943</td>\n      <td>373</td>\n      <td>1117</td>\n      <td>12</td>\n      <td>1</td>\n      <td>1</td>\n      <td>0</td>\n      <td>0</td>\n      <td>0</td>\n      <td>1</td>\n      <td>0</td>\n      <td>0</td>\n      <td>0</td>\n      <td>0</td>\n      <td>0</td>\n      <td>0</td>\n      <td>1</td>\n      <td>0</td>\n      <td>0</td>\n      <td>1</td>\n      <td>0</td>\n      <td>0</td>\n      <td>1</td>\n      <td>1</td>\n      <td>0</td>\n      <td>0.469710</td>\n      <td>1.092769</td>\n      <td>0.737601</td>\n      <td>1.539672</td>\n    </tr>\n    <tr>\n      <th>1</th>\n      <td>0018_01</td>\n      <td>19.0</td>\n      <td>0.0</td>\n      <td>9.0</td>\n      <td>0.0</td>\n      <td>2823.0</td>\n      <td>0.0</td>\n      <td>2832.0</td>\n      <td>0.439871</td>\n      <td>1007.952687</td>\n      <td>1</td>\n      <td>1</td>\n      <td>1613</td>\n      <td>1628</td>\n      <td>1228</td>\n      <td>17</td>\n      <td>1</td>\n      <td>1</td>\n      <td>0</td>\n      <td>0</td>\n      <td>1</td>\n      <td>0</td>\n      <td>0</td>\n      <td>0</td>\n      <td>0</td>\n      <td>0</td>\n      <td>0</td>\n      <td>1</td>\n      <td>0</td>\n      <td>0</td>\n      <td>0</td>\n      <td>1</td>\n      <td>0</td>\n      <td>0</td>\n      <td>1</td>\n      <td>1</td>\n      <td>0</td>\n      <td>1.567712</td>\n      <td>3.275803</td>\n      <td>2.626879</td>\n      <td>5.377692</td>\n    </tr>\n    <tr>\n      <th>2</th>\n      <td>0019_01</td>\n      <td>31.0</td>\n      <td>0.0</td>\n      <td>0.0</td>\n      <td>0.0</td>\n      <td>0.0</td>\n      <td>0.0</td>\n      <td>0.0</td>\n      <td>0.680054</td>\n      <td>4123.537444</td>\n      <td>1</td>\n      <td>1</td>\n      <td>2276</td>\n      <td>2244</td>\n      <td>0</td>\n      <td>18</td>\n      <td>1</td>\n      <td>0</td>\n      <td>1</td>\n      <td>0</td>\n      <td>0</td>\n      <td>1</td>\n      <td>0</td>\n      <td>0</td>\n      <td>1</td>\n      <td>0</td>\n      <td>0</td>\n      <td>0</td>\n      <td>0</td>\n      <td>0</td>\n      <td>0</td>\n      <td>1</td>\n      <td>1</td>\n      <td>0</td>\n      <td>0</td>\n      <td>1</td>\n      <td>0</td>\n      <td>4.656102</td>\n      <td>9.583475</td>\n      <td>1.225130</td>\n      <td>2.617356</td>\n    </tr>\n    <tr>\n      <th>3</th>\n      <td>0021_01</td>\n      <td>38.0</td>\n      <td>0.0</td>\n      <td>6652.0</td>\n      <td>0.0</td>\n      <td>181.0</td>\n      <td>585.0</td>\n      <td>7418.0</td>\n      <td>0.680054</td>\n      <td>4123.537444</td>\n      <td>1</td>\n      <td>1</td>\n      <td>1800</td>\n      <td>350</td>\n      <td>1</td>\n      <td>20</td>\n      <td>1</td>\n      <td>0</td>\n      <td>1</td>\n      <td>0</td>\n      <td>1</td>\n      <td>0</td>\n      <td>0</td>\n      <td>0</td>\n      <td>1</td>\n      <td>0</td>\n      <td>0</td>\n      <td>0</td>\n      <td>0</td>\n      <td>0</td>\n      <td>0</td>\n      <td>1</td>\n      <td>0</td>\n      <td>0</td>\n      <td>1</td>\n      <td>1</td>\n      <td>0</td>\n      <td>4.330659</td>\n      <td>8.878172</td>\n      <td>1.623605</td>\n      <td>4.020382</td>\n    </tr>\n    <tr>\n      <th>4</th>\n      <td>0023_01</td>\n      <td>20.0</td>\n      <td>10.0</td>\n      <td>0.0</td>\n      <td>635.0</td>\n      <td>0.0</td>\n      <td>0.0</td>\n      <td>645.0</td>\n      <td>0.439871</td>\n      <td>1007.952687</td>\n      <td>3</td>\n      <td>1</td>\n      <td>487</td>\n      <td>1016</td>\n      <td>1339</td>\n      <td>22</td>\n      <td>1</td>\n      <td>1</td>\n      <td>0</td>\n      <td>0</td>\n      <td>1</td>\n      <td>0</td>\n      <td>0</td>\n      <td>0</td>\n      <td>0</td>\n      <td>0</td>\n      <td>0</td>\n      <td>1</td>\n      <td>0</td>\n      <td>0</td>\n      <td>0</td>\n      <td>1</td>\n      <td>0</td>\n      <td>0</td>\n      <td>1</td>\n      <td>1</td>\n      <td>0</td>\n      <td>0.783441</td>\n      <td>1.677140</td>\n      <td>0.889539</td>\n      <td>1.885470</td>\n    </tr>\n  </tbody>\n</table>\n</div>",
      "text/plain": "  PassengerId   Age  RoomService  FoodCourt  ShoppingMall     Spa  VRDeck  \\\n0     0013_01  27.0          0.0        0.0           0.0     0.0     0.0   \n1     0018_01  19.0          0.0        9.0           0.0  2823.0     0.0   \n2     0019_01  31.0          0.0        0.0           0.0     0.0     0.0   \n3     0021_01  38.0          0.0     6652.0           0.0   181.0   585.0   \n4     0023_01  20.0         10.0        0.0         635.0     0.0     0.0   \n\n   TotalBilled  TransportedPercentage   AvgSpended  NumRelatives  GroupSize  \\\n0          0.0               0.515228   486.454405             4          1   \n1       2832.0               0.439871  1007.952687             1          1   \n2          0.0               0.680054  4123.537444             1          1   \n3       7418.0               0.680054  4123.537444             1          1   \n4        645.0               0.439871  1007.952687             3          1   \n\n   FirstName_Enc  FamilyName_Enc  CabinNum_Enc  TravelGroup_Enc  AgeGroup_Enc  \\\n0           1943             373          1117               12             1   \n1           1613            1628          1228               17             1   \n2           2276            2244             0               18             1   \n3           1800             350             1               20             1   \n4            487            1016          1339               22             1   \n\n   HomePlanet_Earth  HomePlanet_Europa  HomePlanet_Mars  CryoSleep_False  \\\n0                 1                  0                0                0   \n1                 1                  0                0                1   \n2                 0                  1                0                0   \n3                 0                  1                0                1   \n4                 1                  0                0                1   \n\n   CryoSleep_True  CabinDeck_A  CabinDeck_B  CabinDeck_C  CabinDeck_D  \\\n0               1            0            0            0            0   \n1               0            0            0            0            0   \n2               1            0            0            1            0   \n3               0            0            0            1            0   \n4               0            0            0            0            0   \n\n   CabinDeck_E  CabinDeck_F  CabinDeck_G  CabinDeck_T  CabinSide_P  \\\n0            0            0            1            0            0   \n1            0            1            0            0            0   \n2            0            0            0            0            0   \n3            0            0            0            0            0   \n4            0            1            0            0            0   \n\n   CabinSide_S  Destination_55 Cancri e  Destination_PSO J318.5-22  \\\n0            1                        0                          0   \n1            1                        0                          0   \n2            1                        1                          0   \n3            1                        0                          0   \n4            1                        0                          0   \n\n   Destination_TRAPPIST-1e  VIP_False  VIP_True  KNN_K1_01  KNN_K1_02  \\\n0                        1          1         0   0.469710   1.092769   \n1                        1          1         0   1.567712   3.275803   \n2                        0          1         0   4.656102   9.583475   \n3                        1          1         0   4.330659   8.878172   \n4                        1          1         0   0.783441   1.677140   \n\n   KNN_K2_01  KNN_K2_02  \n0   0.737601   1.539672  \n1   2.626879   5.377692  \n2   1.225130   2.617356  \n3   1.623605   4.020382  \n4   0.889539   1.885470  "
     },
     "execution_count": 238,
     "metadata": {},
     "output_type": "execute_result"
    }
   ],
   "source": [
    "KNN_tst_features = knn_extract(X_array, y_array, X_test_array, k = 2, normalize = 'standard')\n",
    "KNN_feat = pd.DataFrame(KNN_tst_features, columns = knn_cols).set_index(tst_data.index)\n",
    "\n",
    "tst_data = pd.concat([tst_data, KNN_feat], axis = 1)\n",
    "tst_data.head()"
   ]
  },
  {
   "cell_type": "code",
   "execution_count": 239,
   "metadata": {},
   "outputs": [
    {
     "data": {
      "text/html": "<div>\n<style scoped>\n    .dataframe tbody tr th:only-of-type {\n        vertical-align: middle;\n    }\n\n    .dataframe tbody tr th {\n        vertical-align: top;\n    }\n\n    .dataframe thead th {\n        text-align: right;\n    }\n</style>\n<table border=\"1\" class=\"dataframe\">\n  <thead>\n    <tr style=\"text-align: right;\">\n      <th></th>\n      <th>PassengerId</th>\n      <th>Age</th>\n      <th>RoomService</th>\n      <th>FoodCourt</th>\n      <th>ShoppingMall</th>\n      <th>Spa</th>\n      <th>VRDeck</th>\n      <th>Transported</th>\n      <th>TotalBilled</th>\n      <th>TransportedPercentage</th>\n      <th>AvgSpended</th>\n      <th>NumRelatives</th>\n      <th>GroupSize</th>\n      <th>FirstName_Enc</th>\n      <th>FamilyName_Enc</th>\n      <th>CabinNum_Enc</th>\n      <th>TravelGroup_Enc</th>\n      <th>AgeGroup_Enc</th>\n      <th>HomePlanet_Earth</th>\n      <th>HomePlanet_Europa</th>\n      <th>HomePlanet_Mars</th>\n      <th>CryoSleep_False</th>\n      <th>CryoSleep_True</th>\n      <th>CabinDeck_A</th>\n      <th>CabinDeck_B</th>\n      <th>CabinDeck_C</th>\n      <th>CabinDeck_D</th>\n      <th>CabinDeck_E</th>\n      <th>CabinDeck_F</th>\n      <th>CabinDeck_G</th>\n      <th>CabinDeck_T</th>\n      <th>CabinSide_P</th>\n      <th>CabinSide_S</th>\n      <th>Destination_55 Cancri e</th>\n      <th>Destination_PSO J318.5-22</th>\n      <th>Destination_TRAPPIST-1e</th>\n      <th>VIP_False</th>\n      <th>VIP_True</th>\n      <th>KNN_K1_01</th>\n      <th>KNN_K1_02</th>\n      <th>KNN_K2_01</th>\n      <th>KNN_K2_02</th>\n    </tr>\n  </thead>\n  <tbody>\n    <tr>\n      <th>0</th>\n      <td>0001_01</td>\n      <td>39.0</td>\n      <td>0.000000</td>\n      <td>0.000000</td>\n      <td>0.000000</td>\n      <td>0.000000</td>\n      <td>0.000000</td>\n      <td>False</td>\n      <td>0.000000</td>\n      <td>0.550589</td>\n      <td>7.984984</td>\n      <td>0.693147</td>\n      <td>0.693147</td>\n      <td>1708</td>\n      <td>1551</td>\n      <td>0</td>\n      <td>0</td>\n      <td>0.693147</td>\n      <td>0</td>\n      <td>0.693359</td>\n      <td>0.0</td>\n      <td>0.693359</td>\n      <td>0.0</td>\n      <td>0.000000</td>\n      <td>0.693359</td>\n      <td>0.0</td>\n      <td>0.0</td>\n      <td>0.0</td>\n      <td>0.000000</td>\n      <td>0.0</td>\n      <td>0.0</td>\n      <td>1</td>\n      <td>0</td>\n      <td>0.0</td>\n      <td>0.0</td>\n      <td>0.693359</td>\n      <td>0.693359</td>\n      <td>0.000000</td>\n      <td>0.980489</td>\n      <td>1.540233</td>\n      <td>1.272856</td>\n      <td>1.888114</td>\n    </tr>\n    <tr>\n      <th>1</th>\n      <td>0002_01</td>\n      <td>24.0</td>\n      <td>4.700480</td>\n      <td>2.302585</td>\n      <td>3.258097</td>\n      <td>6.309918</td>\n      <td>3.806662</td>\n      <td>True</td>\n      <td>6.602588</td>\n      <td>0.364554</td>\n      <td>6.916668</td>\n      <td>1.609438</td>\n      <td>0.693147</td>\n      <td>1493</td>\n      <td>2289</td>\n      <td>0</td>\n      <td>1</td>\n      <td>0.693147</td>\n      <td>1</td>\n      <td>0.000000</td>\n      <td>0.0</td>\n      <td>0.693359</td>\n      <td>0.0</td>\n      <td>0.000000</td>\n      <td>0.000000</td>\n      <td>0.0</td>\n      <td>0.0</td>\n      <td>0.0</td>\n      <td>0.693359</td>\n      <td>0.0</td>\n      <td>0.0</td>\n      <td>0</td>\n      <td>1</td>\n      <td>0.0</td>\n      <td>0.0</td>\n      <td>0.693359</td>\n      <td>0.693359</td>\n      <td>0.000000</td>\n      <td>0.881590</td>\n      <td>1.390034</td>\n      <td>0.621529</td>\n      <td>1.118286</td>\n    </tr>\n    <tr>\n      <th>2</th>\n      <td>0003_01</td>\n      <td>58.0</td>\n      <td>3.784190</td>\n      <td>8.182280</td>\n      <td>0.000000</td>\n      <td>8.812248</td>\n      <td>3.912023</td>\n      <td>False</td>\n      <td>9.248021</td>\n      <td>0.402858</td>\n      <td>8.135337</td>\n      <td>1.945910</td>\n      <td>1.098612</td>\n      <td>170</td>\n      <td>2153</td>\n      <td>0</td>\n      <td>2</td>\n      <td>0.693147</td>\n      <td>0</td>\n      <td>0.693359</td>\n      <td>0.0</td>\n      <td>0.693359</td>\n      <td>0.0</td>\n      <td>0.693359</td>\n      <td>0.000000</td>\n      <td>0.0</td>\n      <td>0.0</td>\n      <td>0.0</td>\n      <td>0.000000</td>\n      <td>0.0</td>\n      <td>0.0</td>\n      <td>0</td>\n      <td>1</td>\n      <td>0.0</td>\n      <td>0.0</td>\n      <td>0.693359</td>\n      <td>0.000000</td>\n      <td>0.693359</td>\n      <td>1.736522</td>\n      <td>2.512174</td>\n      <td>2.115354</td>\n      <td>2.796322</td>\n    </tr>\n    <tr>\n      <th>3</th>\n      <td>0003_02</td>\n      <td>33.0</td>\n      <td>0.000000</td>\n      <td>7.157735</td>\n      <td>5.918894</td>\n      <td>8.110728</td>\n      <td>5.267858</td>\n      <td>False</td>\n      <td>8.551981</td>\n      <td>0.402858</td>\n      <td>8.135337</td>\n      <td>1.945910</td>\n      <td>1.098612</td>\n      <td>2424</td>\n      <td>2153</td>\n      <td>0</td>\n      <td>2</td>\n      <td>0.693147</td>\n      <td>0</td>\n      <td>0.693359</td>\n      <td>0.0</td>\n      <td>0.693359</td>\n      <td>0.0</td>\n      <td>0.693359</td>\n      <td>0.000000</td>\n      <td>0.0</td>\n      <td>0.0</td>\n      <td>0.0</td>\n      <td>0.000000</td>\n      <td>0.0</td>\n      <td>0.0</td>\n      <td>0</td>\n      <td>1</td>\n      <td>0.0</td>\n      <td>0.0</td>\n      <td>0.693359</td>\n      <td>0.693359</td>\n      <td>0.000000</td>\n      <td>1.160000</td>\n      <td>1.899943</td>\n      <td>1.549607</td>\n      <td>2.147346</td>\n    </tr>\n    <tr>\n      <th>4</th>\n      <td>0004_01</td>\n      <td>16.0</td>\n      <td>5.717028</td>\n      <td>4.262680</td>\n      <td>5.023881</td>\n      <td>6.338594</td>\n      <td>1.098612</td>\n      <td>True</td>\n      <td>6.995766</td>\n      <td>0.364554</td>\n      <td>6.916668</td>\n      <td>1.945910</td>\n      <td>0.693147</td>\n      <td>2815</td>\n      <td>1924</td>\n      <td>1</td>\n      <td>3</td>\n      <td>0.693147</td>\n      <td>1</td>\n      <td>0.000000</td>\n      <td>0.0</td>\n      <td>0.693359</td>\n      <td>0.0</td>\n      <td>0.000000</td>\n      <td>0.000000</td>\n      <td>0.0</td>\n      <td>0.0</td>\n      <td>0.0</td>\n      <td>0.693359</td>\n      <td>0.0</td>\n      <td>0.0</td>\n      <td>0</td>\n      <td>1</td>\n      <td>0.0</td>\n      <td>0.0</td>\n      <td>0.693359</td>\n      <td>0.693359</td>\n      <td>0.000000</td>\n      <td>0.668601</td>\n      <td>1.312788</td>\n      <td>0.626098</td>\n      <td>1.103509</td>\n    </tr>\n  </tbody>\n</table>\n</div>",
      "text/plain": "  PassengerId   Age  RoomService  FoodCourt  ShoppingMall       Spa    VRDeck  \\\n0     0001_01  39.0     0.000000   0.000000      0.000000  0.000000  0.000000   \n1     0002_01  24.0     4.700480   2.302585      3.258097  6.309918  3.806662   \n2     0003_01  58.0     3.784190   8.182280      0.000000  8.812248  3.912023   \n3     0003_02  33.0     0.000000   7.157735      5.918894  8.110728  5.267858   \n4     0004_01  16.0     5.717028   4.262680      5.023881  6.338594  1.098612   \n\n   Transported  TotalBilled  TransportedPercentage  AvgSpended  NumRelatives  \\\n0        False     0.000000               0.550589    7.984984      0.693147   \n1         True     6.602588               0.364554    6.916668      1.609438   \n2        False     9.248021               0.402858    8.135337      1.945910   \n3        False     8.551981               0.402858    8.135337      1.945910   \n4         True     6.995766               0.364554    6.916668      1.945910   \n\n   GroupSize  FirstName_Enc  FamilyName_Enc  CabinNum_Enc  TravelGroup_Enc  \\\n0   0.693147           1708            1551             0                0   \n1   0.693147           1493            2289             0                1   \n2   1.098612            170            2153             0                2   \n3   1.098612           2424            2153             0                2   \n4   0.693147           2815            1924             1                3   \n\n   AgeGroup_Enc  HomePlanet_Earth  HomePlanet_Europa  HomePlanet_Mars  \\\n0      0.693147                 0           0.693359              0.0   \n1      0.693147                 1           0.000000              0.0   \n2      0.693147                 0           0.693359              0.0   \n3      0.693147                 0           0.693359              0.0   \n4      0.693147                 1           0.000000              0.0   \n\n   CryoSleep_False  CryoSleep_True  CabinDeck_A  CabinDeck_B  CabinDeck_C  \\\n0         0.693359             0.0     0.000000     0.693359          0.0   \n1         0.693359             0.0     0.000000     0.000000          0.0   \n2         0.693359             0.0     0.693359     0.000000          0.0   \n3         0.693359             0.0     0.693359     0.000000          0.0   \n4         0.693359             0.0     0.000000     0.000000          0.0   \n\n   CabinDeck_D  CabinDeck_E  CabinDeck_F  CabinDeck_G  CabinDeck_T  \\\n0          0.0          0.0     0.000000          0.0          0.0   \n1          0.0          0.0     0.693359          0.0          0.0   \n2          0.0          0.0     0.000000          0.0          0.0   \n3          0.0          0.0     0.000000          0.0          0.0   \n4          0.0          0.0     0.693359          0.0          0.0   \n\n   CabinSide_P  CabinSide_S  Destination_55 Cancri e  \\\n0            1            0                      0.0   \n1            0            1                      0.0   \n2            0            1                      0.0   \n3            0            1                      0.0   \n4            0            1                      0.0   \n\n   Destination_PSO J318.5-22  Destination_TRAPPIST-1e  VIP_False  VIP_True  \\\n0                        0.0                 0.693359   0.693359  0.000000   \n1                        0.0                 0.693359   0.693359  0.000000   \n2                        0.0                 0.693359   0.000000  0.693359   \n3                        0.0                 0.693359   0.693359  0.000000   \n4                        0.0                 0.693359   0.693359  0.000000   \n\n   KNN_K1_01  KNN_K1_02  KNN_K2_01  KNN_K2_02  \n0   0.980489   1.540233   1.272856   1.888114  \n1   0.881590   1.390034   0.621529   1.118286  \n2   1.736522   2.512174   2.115354   2.796322  \n3   1.160000   1.899943   1.549607   2.147346  \n4   0.668601   1.312788   0.626098   1.103509  "
     },
     "execution_count": 239,
     "metadata": {},
     "output_type": "execute_result"
    }
   ],
   "source": [
    "import scipy\n",
    "def skew_log_transform(df):\n",
    "    # using log1p transform to fix skew in data\n",
    "    df = df.copy()\n",
    "    numeric_features = df.select_dtypes(np.number).columns\n",
    "    for column in numeric_features:\n",
    "        skew = abs(scipy.stats.skew(df[column]))\n",
    "\n",
    "        if skew >= 0.5:\n",
    "            df[column] = np.log1p(df[column])\n",
    "            # l1p = np.log1p(df[column])\n",
    "\n",
    "            # tskew = abs(scipy.stats.skew(l1p))\n",
    "            # # print(tskew)\n",
    "            # # print(l1p)\n",
    "            # if tskew < skew:\n",
    "            #   df[column] = l1p\n",
    "    return df\n",
    "\n",
    "trn_data = skew_log_transform(trn_data)\n",
    "tst_data = skew_log_transform(tst_data)\n",
    "trn_data.head()"
   ]
  },
  {
   "cell_type": "code",
   "execution_count": 240,
   "metadata": {},
   "outputs": [],
   "source": [
    "features = ['Age',\n",
    "            'RoomService',\n",
    "            'FoodCourt',\n",
    "            'ShoppingMall',\n",
    "            'Spa',\n",
    "            'VRDeck',\n",
    "            'TotalBilled',\n",
    "            #'AvgSpended',\n",
    "            #'NumRelatives',\n",
    "            #'GroupSize',\n",
    "            'FamilyName_Enc',\n",
    "            'TravelGroup_Enc',\n",
    "            'AgeGroup_Enc',\n",
    "            'HomePlanet_Earth',\n",
    "            'HomePlanet_Europa',\n",
    "            'HomePlanet_Mars',\n",
    "            'CryoSleep_False',\n",
    "            'CryoSleep_True',\n",
    "            'CabinDeck_A',\n",
    "            'CabinDeck_B',\n",
    "            'CabinDeck_C',\n",
    "            'CabinDeck_D',\n",
    "            'CabinDeck_E',\n",
    "            'CabinDeck_F',\n",
    "            'CabinDeck_G',\n",
    "            'CabinDeck_T',\n",
    "            'CabinSide_P',\n",
    "            'CabinSide_S',\n",
    "            'Destination_55 Cancri e',\n",
    "            'Destination_PSO J318.5-22',\n",
    "            'Destination_TRAPPIST-1e',\n",
    "            'VIP_False',\n",
    "            'VIP_True',\n",
    "            #'AgeGroup_0',\n",
    "            #'AgeGroup_1',\n",
    "            #'AgeGroup_0',\n",
    "            #'AgeGroup_1',\n",
    "            'KNN_K1_01',\n",
    "            'KNN_K1_02'\n",
    "]"
   ]
  },
  {
   "cell_type": "code",
   "execution_count": null,
   "metadata": {},
   "outputs": [],
   "source": [
    "tar"
   ]
  },
  {
   "cell_type": "code",
   "execution_count": 241,
   "metadata": {},
   "outputs": [
    {
     "data": {
      "text/html": "<div>\n<style scoped>\n    .dataframe tbody tr th:only-of-type {\n        vertical-align: middle;\n    }\n\n    .dataframe tbody tr th {\n        vertical-align: top;\n    }\n\n    .dataframe thead th {\n        text-align: right;\n    }\n</style>\n<table border=\"1\" class=\"dataframe\">\n  <thead>\n    <tr style=\"text-align: right;\">\n      <th></th>\n      <th>Age</th>\n      <th>RoomService</th>\n      <th>FoodCourt</th>\n      <th>ShoppingMall</th>\n      <th>Spa</th>\n      <th>VRDeck</th>\n      <th>TotalBilled</th>\n      <th>FamilyName_Enc</th>\n      <th>TravelGroup_Enc</th>\n      <th>AgeGroup_Enc</th>\n      <th>HomePlanet_Earth</th>\n      <th>HomePlanet_Europa</th>\n      <th>HomePlanet_Mars</th>\n      <th>CryoSleep_False</th>\n      <th>CryoSleep_True</th>\n      <th>CabinDeck_A</th>\n      <th>CabinDeck_B</th>\n      <th>CabinDeck_C</th>\n      <th>CabinDeck_D</th>\n      <th>CabinDeck_E</th>\n      <th>CabinDeck_F</th>\n      <th>CabinDeck_G</th>\n      <th>CabinDeck_T</th>\n      <th>CabinSide_P</th>\n      <th>CabinSide_S</th>\n      <th>Destination_55 Cancri e</th>\n      <th>Destination_PSO J318.5-22</th>\n      <th>Destination_TRAPPIST-1e</th>\n      <th>VIP_False</th>\n      <th>VIP_True</th>\n      <th>KNN_K1_01</th>\n      <th>KNN_K1_02</th>\n    </tr>\n  </thead>\n  <tbody>\n    <tr>\n      <th>0</th>\n      <td>0.709437</td>\n      <td>-0.657152</td>\n      <td>-0.669077</td>\n      <td>-0.641178</td>\n      <td>-0.684572</td>\n      <td>-0.659135</td>\n      <td>-1.160420</td>\n      <td>0.516550</td>\n      <td>-1.734409</td>\n      <td>0.319677</td>\n      <td>-1.111173</td>\n      <td>1.754795</td>\n      <td>-0.503664</td>\n      <td>0.73277</td>\n      <td>-0.73277</td>\n      <td>-0.174191</td>\n      <td>3.187347</td>\n      <td>-0.30661</td>\n      <td>-0.241218</td>\n      <td>-0.334759</td>\n      <td>-0.688215</td>\n      <td>-0.68169</td>\n      <td>-0.02399</td>\n      <td>1.032865</td>\n      <td>-1.032865</td>\n      <td>-0.511013</td>\n      <td>-0.317487</td>\n      <td>0.652521</td>\n      <td>0.153063</td>\n      <td>-0.153063</td>\n      <td>-0.005171</td>\n      <td>0.031081</td>\n    </tr>\n    <tr>\n      <th>1</th>\n      <td>-0.336717</td>\n      <td>1.057118</td>\n      <td>0.108547</td>\n      <td>0.616929</td>\n      <td>1.572193</td>\n      <td>0.713251</td>\n      <td>0.626257</td>\n      <td>1.586357</td>\n      <td>-1.734034</td>\n      <td>0.319677</td>\n      <td>0.899950</td>\n      <td>-0.569867</td>\n      <td>-0.503664</td>\n      <td>0.73277</td>\n      <td>-0.73277</td>\n      <td>-0.174191</td>\n      <td>-0.313741</td>\n      <td>-0.30661</td>\n      <td>-0.241218</td>\n      <td>-0.334759</td>\n      <td>1.453035</td>\n      <td>-0.68169</td>\n      <td>-0.02399</td>\n      <td>-0.968181</td>\n      <td>0.968181</td>\n      <td>-0.511013</td>\n      <td>-0.317487</td>\n      <td>0.652521</td>\n      <td>0.153063</td>\n      <td>-0.153063</td>\n      <td>-0.235300</td>\n      <td>-0.265669</td>\n    </tr>\n    <tr>\n      <th>2</th>\n      <td>2.034566</td>\n      <td>0.722946</td>\n      <td>2.094226</td>\n      <td>-0.641178</td>\n      <td>2.467160</td>\n      <td>0.751236</td>\n      <td>1.342118</td>\n      <td>1.389211</td>\n      <td>-1.733660</td>\n      <td>0.319677</td>\n      <td>-1.111173</td>\n      <td>1.754795</td>\n      <td>-0.503664</td>\n      <td>0.73277</td>\n      <td>-0.73277</td>\n      <td>5.740821</td>\n      <td>-0.313741</td>\n      <td>-0.30661</td>\n      <td>-0.241218</td>\n      <td>-0.334759</td>\n      <td>-0.688215</td>\n      <td>-0.68169</td>\n      <td>-0.02399</td>\n      <td>-0.968181</td>\n      <td>0.968181</td>\n      <td>-0.511013</td>\n      <td>-0.317487</td>\n      <td>0.652521</td>\n      <td>-6.533255</td>\n      <td>6.533255</td>\n      <td>1.754055</td>\n      <td>1.951347</td>\n    </tr>\n    <tr>\n      <th>3</th>\n      <td>0.290975</td>\n      <td>-0.657152</td>\n      <td>1.748219</td>\n      <td>1.644391</td>\n      <td>2.216258</td>\n      <td>1.240045</td>\n      <td>1.153768</td>\n      <td>1.389211</td>\n      <td>-1.733660</td>\n      <td>0.319677</td>\n      <td>-1.111173</td>\n      <td>1.754795</td>\n      <td>-0.503664</td>\n      <td>0.73277</td>\n      <td>-0.73277</td>\n      <td>5.740821</td>\n      <td>-0.313741</td>\n      <td>-0.30661</td>\n      <td>-0.241218</td>\n      <td>-0.334759</td>\n      <td>-0.688215</td>\n      <td>-0.68169</td>\n      <td>-0.02399</td>\n      <td>-0.968181</td>\n      <td>0.968181</td>\n      <td>-0.511013</td>\n      <td>-0.317487</td>\n      <td>0.652521</td>\n      <td>0.153063</td>\n      <td>-0.153063</td>\n      <td>0.412537</td>\n      <td>0.741761</td>\n    </tr>\n    <tr>\n      <th>4</th>\n      <td>-0.894666</td>\n      <td>1.427853</td>\n      <td>0.770507</td>\n      <td>1.298783</td>\n      <td>1.582449</td>\n      <td>-0.263061</td>\n      <td>0.732652</td>\n      <td>1.057252</td>\n      <td>-1.733286</td>\n      <td>0.319677</td>\n      <td>0.899950</td>\n      <td>-0.569867</td>\n      <td>-0.503664</td>\n      <td>0.73277</td>\n      <td>-0.73277</td>\n      <td>-0.174191</td>\n      <td>-0.313741</td>\n      <td>-0.30661</td>\n      <td>-0.241218</td>\n      <td>-0.334759</td>\n      <td>1.453035</td>\n      <td>-0.68169</td>\n      <td>-0.02399</td>\n      <td>-0.968181</td>\n      <td>0.968181</td>\n      <td>-0.511013</td>\n      <td>-0.317487</td>\n      <td>0.652521</td>\n      <td>0.153063</td>\n      <td>-0.153063</td>\n      <td>-0.730910</td>\n      <td>-0.418283</td>\n    </tr>\n  </tbody>\n</table>\n</div>",
      "text/plain": "        Age  RoomService  FoodCourt  ShoppingMall       Spa    VRDeck  \\\n0  0.709437    -0.657152  -0.669077     -0.641178 -0.684572 -0.659135   \n1 -0.336717     1.057118   0.108547      0.616929  1.572193  0.713251   \n2  2.034566     0.722946   2.094226     -0.641178  2.467160  0.751236   \n3  0.290975    -0.657152   1.748219      1.644391  2.216258  1.240045   \n4 -0.894666     1.427853   0.770507      1.298783  1.582449 -0.263061   \n\n   TotalBilled  FamilyName_Enc  TravelGroup_Enc  AgeGroup_Enc  \\\n0    -1.160420        0.516550        -1.734409      0.319677   \n1     0.626257        1.586357        -1.734034      0.319677   \n2     1.342118        1.389211        -1.733660      0.319677   \n3     1.153768        1.389211        -1.733660      0.319677   \n4     0.732652        1.057252        -1.733286      0.319677   \n\n   HomePlanet_Earth  HomePlanet_Europa  HomePlanet_Mars  CryoSleep_False  \\\n0         -1.111173           1.754795        -0.503664          0.73277   \n1          0.899950          -0.569867        -0.503664          0.73277   \n2         -1.111173           1.754795        -0.503664          0.73277   \n3         -1.111173           1.754795        -0.503664          0.73277   \n4          0.899950          -0.569867        -0.503664          0.73277   \n\n   CryoSleep_True  CabinDeck_A  CabinDeck_B  CabinDeck_C  CabinDeck_D  \\\n0        -0.73277    -0.174191     3.187347     -0.30661    -0.241218   \n1        -0.73277    -0.174191    -0.313741     -0.30661    -0.241218   \n2        -0.73277     5.740821    -0.313741     -0.30661    -0.241218   \n3        -0.73277     5.740821    -0.313741     -0.30661    -0.241218   \n4        -0.73277    -0.174191    -0.313741     -0.30661    -0.241218   \n\n   CabinDeck_E  CabinDeck_F  CabinDeck_G  CabinDeck_T  CabinSide_P  \\\n0    -0.334759    -0.688215     -0.68169     -0.02399     1.032865   \n1    -0.334759     1.453035     -0.68169     -0.02399    -0.968181   \n2    -0.334759    -0.688215     -0.68169     -0.02399    -0.968181   \n3    -0.334759    -0.688215     -0.68169     -0.02399    -0.968181   \n4    -0.334759     1.453035     -0.68169     -0.02399    -0.968181   \n\n   CabinSide_S  Destination_55 Cancri e  Destination_PSO J318.5-22  \\\n0    -1.032865                -0.511013                  -0.317487   \n1     0.968181                -0.511013                  -0.317487   \n2     0.968181                -0.511013                  -0.317487   \n3     0.968181                -0.511013                  -0.317487   \n4     0.968181                -0.511013                  -0.317487   \n\n   Destination_TRAPPIST-1e  VIP_False  VIP_True  KNN_K1_01  KNN_K1_02  \n0                 0.652521   0.153063 -0.153063  -0.005171   0.031081  \n1                 0.652521   0.153063 -0.153063  -0.235300  -0.265669  \n2                 0.652521  -6.533255  6.533255   1.754055   1.951347  \n3                 0.652521   0.153063 -0.153063   0.412537   0.741761  \n4                 0.652521   0.153063 -0.153063  -0.730910  -0.418283  "
     },
     "execution_count": 241,
     "metadata": {},
     "output_type": "execute_result"
    }
   ],
   "source": [
    "trn_data = trn_data[features]\n",
    "\n",
    "scaler = StandardScaler()\n",
    "scaler.fit(trn_data)\n",
    "trn_data = pd.DataFrame(scaler.transform(trn_data), index = trn_data.index, columns = trn_data.columns)\n",
    "trn_data.head()"
   ]
  },
  {
   "cell_type": "code",
   "execution_count": 242,
   "metadata": {},
   "outputs": [],
   "source": [
    "import numpy as np\n",
    "import pandas as pd\n",
    "\n",
    "import torch\n",
    "import torch.nn as nn\n",
    "from torch.utils.data import DataLoader\n",
    "from torch.utils.data import Dataset\n",
    "\n",
    "from sklearn.model_selection import KFold, StratifiedKFold \n",
    "from sklearn.metrics import roc_auc_score, roc_curve, accuracy_score\n",
    "from sklearn.preprocessing import StandardScaler, RobustScaler, MinMaxScaler\n",
    "\n",
    "def preprocess(df):\n",
    "    df_norm = (df - df.min()) / (df.max() - df.min())\n",
    "    return df_norm\n",
    "\n",
    "\n",
    "\n",
    "\n",
    "# trn_data = preprocess(trn_data)\n",
    "\n",
    "\n",
    "# test_dataset = torch.tensor(preprocess(tst_data).to_numpy(), dtype=torch.float)\n",
    "\n",
    "\n",
    "\n"
   ]
  },
  {
   "cell_type": "code",
   "execution_count": 243,
   "metadata": {},
   "outputs": [],
   "source": [
    "from sklearn.ensemble import GradientBoostingClassifier\n",
    "from sklearn.linear_model import RidgeClassifier, LogisticRegression\n",
    "from sklearn.ensemble import VotingClassifier\n",
    "\n",
    "\n",
    "\n",
    "\n",
    "# gbm0 = GradientBoostingClassifier(random_state=10)\n",
    "# gbm0.fit(X,y)\n",
    "# y_pred = gbm0.predict(X)\n",
    "# y_predprob = gbm0.predict_proba(X)[:,1]\n",
    "# print(\"Accuracy : %.4g\" % accuracy_score(y.values, y_pred))\n",
    "# print(\"AUC Score (Train): %f\" % roc_auc_score(y, y_predprob))\n",
    "\n",
    "\n",
    "# pred = gbm0.predict(tst_data) > 0.5\n",
    "\n",
    "# submission = pd.read_csv('Data/test.csv')\n",
    "# submission[\"Transported\"] = pred\n",
    "# submission[[\"PassengerId\",\"Transported\"]].to_csv('submission.csv', index=False)\n",
    "\n"
   ]
  },
  {
   "cell_type": "code",
   "execution_count": 244,
   "metadata": {},
   "outputs": [
    {
     "ename": "AttributeError",
     "evalue": "Can't get attribute 'NeuralNetwork' on <module '__main__'>",
     "output_type": "error",
     "traceback": [
      "\u001b[0;31m---------------------------------------------------------------------------\u001b[0m",
      "\u001b[0;31mAttributeError\u001b[0m                            Traceback (most recent call last)",
      "\u001b[0;32m<ipython-input-244-11501909ffcc>\u001b[0m in \u001b[0;36m<module>\u001b[0;34m\u001b[0m\n\u001b[1;32m    126\u001b[0m \u001b[0;34m\u001b[0m\u001b[0m\n\u001b[1;32m    127\u001b[0m \u001b[0;34m\u001b[0m\u001b[0m\n\u001b[0;32m--> 128\u001b[0;31m \u001b[0mmodel\u001b[0m \u001b[0;34m=\u001b[0m \u001b[0mtorch\u001b[0m\u001b[0;34m.\u001b[0m\u001b[0mload\u001b[0m\u001b[0;34m(\u001b[0m\u001b[0;34m'model.pth'\u001b[0m\u001b[0;34m)\u001b[0m\u001b[0;34m\u001b[0m\u001b[0;34m\u001b[0m\u001b[0m\n\u001b[0m\u001b[1;32m    129\u001b[0m \u001b[0;34m\u001b[0m\u001b[0m\n\u001b[1;32m    130\u001b[0m \u001b[0;31m# pred = model(test_dataset) > 0.5\u001b[0m\u001b[0;34m\u001b[0m\u001b[0;34m\u001b[0m\u001b[0;34m\u001b[0m\u001b[0m\n",
      "\u001b[0;32m/Library/Frameworks/Python.framework/Versions/3.9/lib/python3.9/site-packages/torch/serialization.py\u001b[0m in \u001b[0;36mload\u001b[0;34m(f, map_location, pickle_module, **pickle_load_args)\u001b[0m\n\u001b[1;32m    710\u001b[0m                     \u001b[0mopened_file\u001b[0m\u001b[0;34m.\u001b[0m\u001b[0mseek\u001b[0m\u001b[0;34m(\u001b[0m\u001b[0morig_position\u001b[0m\u001b[0;34m)\u001b[0m\u001b[0;34m\u001b[0m\u001b[0;34m\u001b[0m\u001b[0m\n\u001b[1;32m    711\u001b[0m                     \u001b[0;32mreturn\u001b[0m \u001b[0mtorch\u001b[0m\u001b[0;34m.\u001b[0m\u001b[0mjit\u001b[0m\u001b[0;34m.\u001b[0m\u001b[0mload\u001b[0m\u001b[0;34m(\u001b[0m\u001b[0mopened_file\u001b[0m\u001b[0;34m)\u001b[0m\u001b[0;34m\u001b[0m\u001b[0;34m\u001b[0m\u001b[0m\n\u001b[0;32m--> 712\u001b[0;31m                 \u001b[0;32mreturn\u001b[0m \u001b[0m_load\u001b[0m\u001b[0;34m(\u001b[0m\u001b[0mopened_zipfile\u001b[0m\u001b[0;34m,\u001b[0m \u001b[0mmap_location\u001b[0m\u001b[0;34m,\u001b[0m \u001b[0mpickle_module\u001b[0m\u001b[0;34m,\u001b[0m \u001b[0;34m**\u001b[0m\u001b[0mpickle_load_args\u001b[0m\u001b[0;34m)\u001b[0m\u001b[0;34m\u001b[0m\u001b[0;34m\u001b[0m\u001b[0m\n\u001b[0m\u001b[1;32m    713\u001b[0m         \u001b[0;32mreturn\u001b[0m \u001b[0m_legacy_load\u001b[0m\u001b[0;34m(\u001b[0m\u001b[0mopened_file\u001b[0m\u001b[0;34m,\u001b[0m \u001b[0mmap_location\u001b[0m\u001b[0;34m,\u001b[0m \u001b[0mpickle_module\u001b[0m\u001b[0;34m,\u001b[0m \u001b[0;34m**\u001b[0m\u001b[0mpickle_load_args\u001b[0m\u001b[0;34m)\u001b[0m\u001b[0;34m\u001b[0m\u001b[0;34m\u001b[0m\u001b[0m\n\u001b[1;32m    714\u001b[0m \u001b[0;34m\u001b[0m\u001b[0m\n",
      "\u001b[0;32m/Library/Frameworks/Python.framework/Versions/3.9/lib/python3.9/site-packages/torch/serialization.py\u001b[0m in \u001b[0;36m_load\u001b[0;34m(zip_file, map_location, pickle_module, pickle_file, **pickle_load_args)\u001b[0m\n\u001b[1;32m   1047\u001b[0m     \u001b[0munpickler\u001b[0m \u001b[0;34m=\u001b[0m \u001b[0mUnpicklerWrapper\u001b[0m\u001b[0;34m(\u001b[0m\u001b[0mdata_file\u001b[0m\u001b[0;34m,\u001b[0m \u001b[0;34m**\u001b[0m\u001b[0mpickle_load_args\u001b[0m\u001b[0;34m)\u001b[0m\u001b[0;34m\u001b[0m\u001b[0;34m\u001b[0m\u001b[0m\n\u001b[1;32m   1048\u001b[0m     \u001b[0munpickler\u001b[0m\u001b[0;34m.\u001b[0m\u001b[0mpersistent_load\u001b[0m \u001b[0;34m=\u001b[0m \u001b[0mpersistent_load\u001b[0m\u001b[0;34m\u001b[0m\u001b[0;34m\u001b[0m\u001b[0m\n\u001b[0;32m-> 1049\u001b[0;31m     \u001b[0mresult\u001b[0m \u001b[0;34m=\u001b[0m \u001b[0munpickler\u001b[0m\u001b[0;34m.\u001b[0m\u001b[0mload\u001b[0m\u001b[0;34m(\u001b[0m\u001b[0;34m)\u001b[0m\u001b[0;34m\u001b[0m\u001b[0;34m\u001b[0m\u001b[0m\n\u001b[0m\u001b[1;32m   1050\u001b[0m \u001b[0;34m\u001b[0m\u001b[0m\n\u001b[1;32m   1051\u001b[0m     \u001b[0mtorch\u001b[0m\u001b[0;34m.\u001b[0m\u001b[0m_utils\u001b[0m\u001b[0;34m.\u001b[0m\u001b[0m_validate_loaded_sparse_tensors\u001b[0m\u001b[0;34m(\u001b[0m\u001b[0;34m)\u001b[0m\u001b[0;34m\u001b[0m\u001b[0;34m\u001b[0m\u001b[0m\n",
      "\u001b[0;32m/Library/Frameworks/Python.framework/Versions/3.9/lib/python3.9/site-packages/torch/serialization.py\u001b[0m in \u001b[0;36mfind_class\u001b[0;34m(self, mod_name, name)\u001b[0m\n\u001b[1;32m   1040\u001b[0m                     \u001b[0;32mpass\u001b[0m\u001b[0;34m\u001b[0m\u001b[0;34m\u001b[0m\u001b[0m\n\u001b[1;32m   1041\u001b[0m             \u001b[0mmod_name\u001b[0m \u001b[0;34m=\u001b[0m \u001b[0mload_module_mapping\u001b[0m\u001b[0;34m.\u001b[0m\u001b[0mget\u001b[0m\u001b[0;34m(\u001b[0m\u001b[0mmod_name\u001b[0m\u001b[0;34m,\u001b[0m \u001b[0mmod_name\u001b[0m\u001b[0;34m)\u001b[0m\u001b[0;34m\u001b[0m\u001b[0;34m\u001b[0m\u001b[0m\n\u001b[0;32m-> 1042\u001b[0;31m             \u001b[0;32mreturn\u001b[0m \u001b[0msuper\u001b[0m\u001b[0;34m(\u001b[0m\u001b[0;34m)\u001b[0m\u001b[0;34m.\u001b[0m\u001b[0mfind_class\u001b[0m\u001b[0;34m(\u001b[0m\u001b[0mmod_name\u001b[0m\u001b[0;34m,\u001b[0m \u001b[0mname\u001b[0m\u001b[0;34m)\u001b[0m\u001b[0;34m\u001b[0m\u001b[0;34m\u001b[0m\u001b[0m\n\u001b[0m\u001b[1;32m   1043\u001b[0m \u001b[0;34m\u001b[0m\u001b[0m\n\u001b[1;32m   1044\u001b[0m     \u001b[0;31m# Load the data (which may in turn use `persistent_load` to load tensors)\u001b[0m\u001b[0;34m\u001b[0m\u001b[0;34m\u001b[0m\u001b[0;34m\u001b[0m\u001b[0m\n",
      "\u001b[0;31mAttributeError\u001b[0m: Can't get attribute 'NeuralNetwork' on <module '__main__'>"
     ]
    }
   ],
   "source": [
    "import numpy as np\n",
    "import pandas as pd\n",
    "\n",
    "import torch\n",
    "import torch.nn as nn\n",
    "from torch.utils.data import DataLoader\n",
    "from torch.utils.data import Dataset\n",
    "\n",
    "from sklearn.model_selection import KFold, StratifiedKFold \n",
    "from sklearn.metrics import roc_auc_score, roc_curve, accuracy_score\n",
    "from sklearn.preprocessing import StandardScaler, RobustScaler, MinMaxScaler\n",
    "\n",
    "def preprocess(df):\n",
    "    df_norm = (df - df.min()) / (df.max() - df.min())\n",
    "    return df_norm\n",
    "\n",
    "\n",
    "class dataset(Dataset):\n",
    "    def __init__(self, xdata, ydata):\n",
    "        self.labels = ydata\n",
    "        self.inputs = xdata\n",
    "\n",
    "    def __getitem__(self, index):\n",
    "        \n",
    "        return torch.tensor(self.inputs.iloc[index], dtype=torch.float), torch.tensor(self.labels.iloc[index], dtype=torch.float)\n",
    "\n",
    "    def __len__(self):\n",
    "        return len(self.inputs)\n",
    "\n",
    "\n",
    "\n",
    "# df_norm, lables = preprocess(dataTest)\n",
    "# test_dataset = dataset(df_norm, lables)\n",
    "\n",
    "test_dataset = torch.tensor(preprocess(tst_data).to_numpy(), dtype=torch.float)\n",
    "\n",
    "\n",
    "class NeuralNetwork(nn.Module):\n",
    "    def __init__(self, input_dim, output_dim):\n",
    "        super(NeuralNetwork, self).__init__()\n",
    "        self.linear = nn.Sequential(\n",
    "            nn.Linear(input_dim, 1024),\n",
    "            nn.ReLU(),\n",
    "            nn.Linear(1024, 256),\n",
    "            nn.ReLU(),\n",
    "            nn.Linear(256, 128),\n",
    "            nn.ReLU(),\n",
    "            nn.Linear(128, output_dim),\n",
    "            nn.Sigmoid()\n",
    "        )\n",
    "\n",
    "    def forward(self, x):\n",
    "        y_pred = self.linear(x)\n",
    "        return y_pred.squeeze(-1)\n",
    "\n",
    "\n",
    "\n",
    "\n",
    "learning_rate = 0.2\n",
    "batch_size = 128\n",
    "epochs = 20\n",
    "\n",
    "result = [0]\n",
    "\n",
    "\n",
    "\n",
    "def train_loop(trn_idx, val_idx):\n",
    "\n",
    "    train_dataset = trn_data.iloc[trn_idx]\n",
    "    trtest_dataset = trn_data.iloc[val_idx]\n",
    "\n",
    "    train_dataset['Transported'] = train_dataset['Transported'].astype('int')\n",
    "    lables1 = train_dataset.pop('Transported')\n",
    "    trtest_dataset['Transported'] = trtest_dataset['Transported'].astype('int')\n",
    "    lables2 = trtest_dataset.pop('Transported')\n",
    "\n",
    "\n",
    "    df_norm = preprocess(train_dataset)\n",
    "    train_dataset = dataset(df_norm, lables1)\n",
    "    \n",
    "    test_x = torch.tensor(preprocess(trtest_dataset).to_numpy(), dtype=torch.float)\n",
    "    test_y = torch.tensor(lables2.to_numpy(), dtype=torch.float)\n",
    "\n",
    "\n",
    "    train_dataloader = DataLoader(train_dataset, batch_size=64, shuffle=True)\n",
    "\n",
    "    model = NeuralNetwork(df_norm.shape[1], 1)\n",
    "\n",
    "    loss_fn = nn.BCELoss()\n",
    "\n",
    "    optimizer = torch.optim.Adam(model.parameters(), lr=0.01) #torch.optim.Adagrad(model.parameters(), lr=learning_rate)\n",
    "\n",
    "\n",
    "    for t in range(epochs):\n",
    "        print(f\"Epoch {t+1}\\n-------------------------------\")\n",
    "        size = len(train_dataloader.dataset)\n",
    "        for batch, (X, y) in enumerate(train_dataloader):\n",
    "            # Compute prediction and loss\n",
    "            pred = model(X)\n",
    "            loss = loss_fn(pred, y)\n",
    "\n",
    "            # Backpropagation\n",
    "            optimizer.zero_grad()\n",
    "            loss.backward()\n",
    "            optimizer.step()\n",
    "\n",
    "            tmp = sum((model(test_x) > 0.5) == (test_y > 0.5)) / len(test_y)\n",
    "            if tmp > result[0]:\n",
    "                result[0] = tmp\n",
    "                torch.save(model, 'model.pth')\n",
    "\n",
    "\n",
    "            if batch % 100 == 0:\n",
    "                \n",
    "                loss, current = loss.item(), batch * len(X)\n",
    "                print(f\"loss: {loss:>7f}  [{current:>5d}/{size:>5d}]   {result[0]}\")\n",
    "\n",
    "\n",
    "kf = StratifiedKFold(n_splits = 5)\n",
    "\n",
    "for fold, (trn_idx, val_idx) in enumerate(kf.split(trn_data, trn_data['Transported'])):\n",
    "    \n",
    "    # fit_model(X_train, y_train, X_val, y_val)\n",
    "    \n",
    "    train_loop(trn_idx, val_idx)\n",
    "    \n",
    "\n",
    "model = torch.load('model.pth')\n",
    "\n",
    "# pred = model(test_dataset) > 0.5\n",
    "\n",
    "# submission = pd.read_csv('Data/test.csv')\n",
    "# submission[\"Transported\"] = pred\n",
    "# submission[[\"PassengerId\",\"Transported\"]].to_csv('submission.csv', index=False)\n",
    "\n",
    "# pred = model(test_dataset) > 0.5\n",
    "\n",
    "# submission = pd.read_csv('Data/test.csv')\n",
    "# submission[\"Transported\"] = pred\n",
    "# submission[[\"PassengerId\",\"Transported\"]].to_csv('submission.csv', index=False)\n"
   ]
  },
  {
   "cell_type": "code",
   "execution_count": null,
   "metadata": {},
   "outputs": [],
   "source": [
    "from catboost import CatBoostClassifier\n",
    "from sklearn.naive_bayes import GaussianNB\n",
    "from sklearn.ensemble import RandomForestClassifier\n",
    "\n",
    "\n",
    "\n",
    "trn_data['Transported'] = trn_data['Transported'].astype('int')\n",
    "lables = trn_data.pop('Transported')\n",
    "\n",
    "trn_data['nn'] = model(torch.tensor(preprocess(trn_data).to_numpy(), dtype=torch.float)).detach().numpy()\n",
    "tst_data['nn'] = model(torch.tensor(preprocess(tst_data).to_numpy(), dtype=torch.float)).detach().numpy()\n",
    "\n",
    "X, y = trn_data, lables\n",
    "\n",
    "clf1 = LogisticRegression(random_state=1)\n",
    "clf2 = RandomForestClassifier(random_state=1)\n",
    "clf3 = GaussianNB()\n",
    "clf4 = GradientBoostingClassifier(random_state=10)\n",
    "clf5 = CatBoostClassifier()\n",
    "\n",
    "eclf = VotingClassifier(estimators=[('rf', clf2), ('gbt', clf4), ('cbt', clf5)], voting='soft', weights=[1, 1, 1])\n",
    "eclf = eclf.fit(X, y)\n",
    "print(eclf.predict(X))\n",
    "\n",
    "\n",
    "pred = eclf.predict(tst_data) > 0.5\n",
    "\n",
    "submission = pd.read_csv('Data/test.csv')\n",
    "submission[\"Transported\"] = pred\n",
    "submission[[\"PassengerId\",\"Transported\"]].to_csv('submission.csv', index=False)\n",
    "\n"
   ]
  },
  {
   "cell_type": "code",
   "execution_count": null,
   "metadata": {},
   "outputs": [],
   "source": []
  },
  {
   "cell_type": "markdown",
   "metadata": {},
   "source": []
  }
 ],
 "metadata": {
  "kernelspec": {
   "display_name": "Python 3 (ipykernel)",
   "language": "python",
   "name": "python3"
  },
  "language_info": {
   "codemirror_mode": {
    "name": "ipython",
    "version": 3
   },
   "file_extension": ".py",
   "mimetype": "text/x-python",
   "name": "python",
   "nbconvert_exporter": "python",
   "pygments_lexer": "ipython3",
   "version": "3.9.5"
  },
  "orig_nbformat": 2
 },
 "nbformat": 4,
 "nbformat_minor": 2
}