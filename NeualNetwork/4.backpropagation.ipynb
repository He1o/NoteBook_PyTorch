{
 "cells": [
  {
   "cell_type": "code",
   "execution_count": 16,
   "metadata": {},
   "outputs": [
    {
     "name": "stdout",
     "output_type": "stream",
     "text": [
      "tensor([1., 1., 1., 1., 1.])\n",
      "tensor([[ 0.2569, -1.9893, -1.0647],\n",
      "        [ 0.2588,  0.8038, -0.3456],\n",
      "        [ 1.3742, -2.2598,  0.0086],\n",
      "        [-0.3898, -0.1177, -0.8468],\n",
      "        [ 0.4352, -0.4965, -0.3183]], requires_grad=True)\n",
      "tensor([-0.2517, -0.6549,  1.1574], requires_grad=True)\n",
      "tensor([ 1.6837, -4.7144, -1.4095], grad_fn=<AddBackward0>)\n",
      "tensor(0.6938, grad_fn=<BinaryCrossEntropyWithLogitsBackward0>)\n"
     ]
    }
   ],
   "source": [
    "import torch\n",
    "\n",
    "x = torch.ones(5)  # input tensor\n",
    "print(x)\n",
    "y = torch.zeros(3)  # expected output\n",
    "w = torch.randn(5, 3, requires_grad=True)\n",
    "print(w)\n",
    "b = torch.randn(3, requires_grad=True)\n",
    "z = torch.matmul(x, w)+b\n",
    "print(b)\n",
    "print(z)\n",
    "# 多分类并存，ovo\n",
    "loss = torch.nn.functional.binary_cross_entropy_with_logits(z, y)  \n",
    "print(loss)"
   ]
  },
  {
   "cell_type": "code",
   "execution_count": 21,
   "metadata": {},
   "outputs": [
    {
     "name": "stdout",
     "output_type": "stream",
     "text": [
      "-0.8151563670442408\n",
      "[-0.18803945 -0.03688031 -0.88915118]\n",
      "-2.999034290271132 -2.99839918699187 -2.9998352901484484\n"
     ]
    }
   ],
   "source": [
    "import numpy as np\n",
    "def sigmoid(x):\n",
    "    return 1 / (1 + np.exp(-np.array(x)))\n",
    "print(np.mean(np.log(1 - sigmoid([-1.4628, -3.2625,  2.0821]))))\n",
    "\n",
    "print(-sigmoid([-1.4628, -3.2625,  2.0821]))"
   ]
  },
  {
   "cell_type": "code",
   "execution_count": 12,
   "metadata": {},
   "outputs": [
    {
     "name": "stdout",
     "output_type": "stream",
     "text": [
      "tensor([[0.0627, 0.0123, 0.2964],\n",
      "        [0.0627, 0.0123, 0.2964],\n",
      "        [0.0627, 0.0123, 0.2964],\n",
      "        [0.0627, 0.0123, 0.2964],\n",
      "        [0.0627, 0.0123, 0.2964]])\n",
      "tensor([0.0627, 0.0123, 0.2964])\n"
     ]
    }
   ],
   "source": [
    "loss.backward()\n",
    "print(w.grad)\n",
    "print(b.grad)"
   ]
  },
  {
   "cell_type": "code",
   "execution_count": 22,
   "metadata": {},
   "outputs": [
    {
     "name": "stdout",
     "output_type": "stream",
     "text": [
      "True\n",
      "False\n"
     ]
    }
   ],
   "source": [
    "z = torch.matmul(x, w)+b\n",
    "print(z.requires_grad)\n",
    "\n",
    "with torch.no_grad():\n",
    "    z = torch.matmul(x, w)+b\n",
    "print(z.requires_grad)\n",
    "\n",
    "z = torch.matmul(x, w)+b\n",
    "z_det = z.detach()\n",
    "print(z_det.requires_grad)\n",
    "# 您可能希望禁用梯度跟踪的原因如下：\n",
    "# 将神经网络中的某些参数标记为冻结参数。这是微调预训练网络的一个非常常见的场景\n",
    "# 当您只进行前向传递时加快计算速度，因为在不跟踪梯度的张量上进行计算会更有效。"
   ]
  },
  {
   "cell_type": "code",
   "execution_count": 63,
   "metadata": {},
   "outputs": [
    {
     "name": "stdout",
     "output_type": "stream",
     "text": [
      "tensor([2., 3.], requires_grad=True)\n",
      "tensor([ 8., 15.], grad_fn=<MulBackward0>)\n",
      "tensor(196., grad_fn=<MeanBackward0>)\n",
      "tensor([112., 140.])\n"
     ]
    }
   ],
   "source": [
    "import torch\n",
    "import torch.nn as nn\n",
    "\n",
    "import numpy as np\n",
    "import pandas as pd\n",
    "import sklearn\n",
    "import matplotlib.pyplot as plt\n",
    "import seaborn as sns\n",
    "import plotly.express as pximport numpy as np\n",
    "\n",
    "model_loss = SumLoss()\n",
    "\n",
    "x = torch.tensor([2, 3], dtype=torch.float, requires_grad=True)\n",
    "print(x)\n",
    "y = torch.tensor([4, 5], dtype=torch.float, requires_grad=True)\n",
    "z = x * y\n",
    "print(z)\n",
    "# loss = model_loss(z, torch.tensor([9, 10]))\n",
    "loss = torch.mean(torch.pow((sum(z) - torch.tensor([9])), 2))\n",
    "print(loss)\n",
    "loss.backward()\n",
    "print(x.grad)\n"
   ]
  },
  {
   "cell_type": "code",
   "execution_count": 58,
   "metadata": {},
   "outputs": [
    {
     "name": "stdout",
     "output_type": "stream",
     "text": [
      "tensor(12.6000, grad_fn=<DotBackward0>)\n",
      "tensor([ 7.2000, 21.6000])\n"
     ]
    }
   ],
   "source": [
    "X = torch.tensor([1.5,3.7], requires_grad=True, dtype=torch.float)\n",
    "W = torch.tensor(data=[1, 3], requires_grad=True, dtype=torch.float)\n",
    "Y = W.matmul(X)\n",
    "print(Y)\n",
    "loss = torch.mean(torch.pow((Y - torch.tensor([9])), 2))\n",
    "loss.backward()\n",
    "print(X.grad)"
   ]
  },
  {
   "cell_type": "code",
   "execution_count": 80,
   "metadata": {},
   "outputs": [
    {
     "name": "stdout",
     "output_type": "stream",
     "text": [
      "epoch 0, loss 0.19293731451034546\n",
      "epoch 50, loss 0.03541993349790573\n",
      "epoch 100, loss 0.006502497475594282\n",
      "epoch 150, loss 0.0011937402887269855\n",
      "epoch 200, loss 0.00021915638353675604\n",
      "epoch 250, loss 4.0231469029095024e-05\n",
      "epoch 300, loss 7.385264780168654e-06\n",
      "epoch 350, loss 1.355877316200349e-06\n",
      "epoch 400, loss 2.4899620143514767e-07\n",
      "epoch 450, loss 4.570486566990439e-08\n",
      "epoch 500, loss 8.390090400212102e-09\n",
      "epoch 550, loss 1.5499077576919262e-09\n",
      "epoch 600, loss 2.8403079888050797e-10\n",
      "epoch 650, loss 4.863309754910006e-11\n",
      "epoch 700, loss 1.2366996315904544e-11\n",
      "epoch 750, loss 6.956435427696306e-12\n",
      "epoch 800, loss 4.92961227394062e-12\n",
      "epoch 850, loss 4.540590126111965e-12\n",
      "epoch 900, loss 4.106937012693379e-12\n",
      "epoch 950, loss 3.752553823233029e-12\n"
     ]
    }
   ],
   "source": [
    "def get_x_y():\n",
    "    # np.random.seed(0)\n",
    "    # x = np.random.randint(0, 50, 300)\n",
    "    # y_values = 2 * x + 21\n",
    "    # x = np.array(x, dtype=np.float32)\n",
    "    # y = np.array(y_values, dtype=np.float32)\n",
    "    # x = x.reshape(-1, 1)\n",
    "    # y = y.reshape(-1, 1)\n",
    "    torch.manual_seed(0)\n",
    "    x1 = torch.rand(3, 10)\n",
    "    x2 = torch.rand(4, 10)\n",
    "    y = torch.rand(1, 1)\n",
    "    return x1, x2, y\n",
    "\n",
    "\n",
    "class LinearRegressionModel(nn.Module):\n",
    "    def __init__(self, input_dim, output_dim):\n",
    "        super(LinearRegressionModel, self).__init__()\n",
    "        self.linear = nn.Linear(input_dim, output_dim)  # 输入的个数，输出的个数\n",
    "\n",
    "    def forward(self, x):\n",
    "        out = self.linear(x)\n",
    "        return out\n",
    "\n",
    "class SumLoss(nn.Module):\n",
    "    def __init__(self):\n",
    "        super(SumLoss, self).__init__()\n",
    "\n",
    "    def forward(self, x1, x2, y):\n",
    "        mse_loss = torch.mean(torch.pow((y - (sum(x1) - sum(x2))), 2))\n",
    "        return mse_loss\n",
    "\n",
    "\n",
    "x1, x2, y = get_x_y()\n",
    "model = LinearRegressionModel(10, 1)\n",
    "epochs = 1000  # 迭代次数\n",
    "optimizer = torch.optim.SGD(model.parameters(), lr=0.001)\n",
    "model_loss = SumLoss()\n",
    "for epoch in range(epochs):\n",
    "    optimizer.zero_grad()\n",
    "    # 前向传播\n",
    "    z1 = model(x1)\n",
    "    z2 = model(x2)\n",
    "    # 计算损失\n",
    "    loss = model_loss(z1, z2, y)\n",
    "    # 返向传播\n",
    "    loss.backward()\n",
    "    optimizer.step()\n",
    "    if epoch % 50 == 0:\n",
    "        print('epoch {}, loss {}'.format(epoch, loss.item()))\n",
    "\n"
   ]
  }
 ],
 "metadata": {
  "kernelspec": {
   "display_name": "Python 3 (ipykernel)",
   "language": "python",
   "name": "python3"
  },
  "language_info": {
   "codemirror_mode": {
    "name": "ipython",
    "version": 3
   },
   "file_extension": ".py",
   "mimetype": "text/x-python",
   "name": "python",
   "nbconvert_exporter": "python",
   "pygments_lexer": "ipython3",
   "version": "3.9.5-final"
  },
  "orig_nbformat": 2
 },
 "nbformat": 4,
 "nbformat_minor": 2
}